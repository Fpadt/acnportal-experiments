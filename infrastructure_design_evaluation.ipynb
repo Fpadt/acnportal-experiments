{
  "nbformat": 4,
  "nbformat_minor": 0,
  "metadata": {
    "kernelspec": {
      "display_name": "Python 3",
      "language": "python",
      "name": "python3"
    },
    "language_info": {
      "codemirror_mode": {
        "name": "ipython",
        "version": 3
      },
      "file_extension": ".py",
      "mimetype": "text/x-python",
      "name": "python",
      "nbconvert_exporter": "python",
      "pygments_lexer": "ipython3",
      "version": "3.8.1"
    },
    "pycharm": {
      "stem_cell": {
        "cell_type": "raw",
        "source": [],
        "metadata": {
          "collapsed": false
        }
      }
    },
    "colab": {
      "name": "infrastructure_evaluation.ipynb",
      "provenance": [],
      "collapsed_sections": []
    }
  },
  "cells": [
    {
      "cell_type": "markdown",
      "metadata": {
        "id": "qOa43Yh-LE4H",
        "colab_type": "text"
      },
      "source": [
        "*Setting up the enviroment*"
      ]
    },
    {
      "cell_type": "code",
      "metadata": {
        "id": "L4NCLfDSl8-7",
        "colab_type": "code",
        "colab": {
          "base_uri": "https://localhost:8080/",
          "height": 646
        },
        "outputId": "c8a2a60f-eaa4-43de-edfc-f6b15f2675c7"
      },
      "source": [
        "!git clone -b stocastic_events https://github.com/zach401/acnportal.git\n",
        "!pip install acnportal/.\n",
        "!wget https://ev.caltech.edu/assets/data/gmm/jpl_weekday_40.pkl"
      ],
      "execution_count": 1,
      "outputs": [
        {
          "output_type": "stream",
          "text": [
            "fatal: destination path 'acnportal' already exists and is not an empty directory.\n",
            "Processing ./acnportal\n",
            "Requirement already satisfied: numpy in /usr/local/lib/python3.6/dist-packages (from acnportal==0.1.3) (1.18.2)\n",
            "Requirement already satisfied: pandas in /usr/local/lib/python3.6/dist-packages (from acnportal==0.1.3) (1.0.3)\n",
            "Requirement already satisfied: matplotlib in /usr/local/lib/python3.6/dist-packages (from acnportal==0.1.3) (3.2.1)\n",
            "Requirement already satisfied: requests in /usr/local/lib/python3.6/dist-packages (from acnportal==0.1.3) (2.21.0)\n",
            "Requirement already satisfied: pytz in /usr/local/lib/python3.6/dist-packages (from acnportal==0.1.3) (2018.9)\n",
            "Requirement already satisfied: python-dateutil>=2.6.1 in /usr/local/lib/python3.6/dist-packages (from pandas->acnportal==0.1.3) (2.8.1)\n",
            "Requirement already satisfied: pyparsing!=2.0.4,!=2.1.2,!=2.1.6,>=2.0.1 in /usr/local/lib/python3.6/dist-packages (from matplotlib->acnportal==0.1.3) (2.4.7)\n",
            "Requirement already satisfied: kiwisolver>=1.0.1 in /usr/local/lib/python3.6/dist-packages (from matplotlib->acnportal==0.1.3) (1.2.0)\n",
            "Requirement already satisfied: cycler>=0.10 in /usr/local/lib/python3.6/dist-packages (from matplotlib->acnportal==0.1.3) (0.10.0)\n",
            "Requirement already satisfied: urllib3<1.25,>=1.21.1 in /usr/local/lib/python3.6/dist-packages (from requests->acnportal==0.1.3) (1.24.3)\n",
            "Requirement already satisfied: idna<2.9,>=2.5 in /usr/local/lib/python3.6/dist-packages (from requests->acnportal==0.1.3) (2.8)\n",
            "Requirement already satisfied: certifi>=2017.4.17 in /usr/local/lib/python3.6/dist-packages (from requests->acnportal==0.1.3) (2020.4.5.1)\n",
            "Requirement already satisfied: chardet<3.1.0,>=3.0.2 in /usr/local/lib/python3.6/dist-packages (from requests->acnportal==0.1.3) (3.0.4)\n",
            "Requirement already satisfied: six>=1.5 in /usr/local/lib/python3.6/dist-packages (from python-dateutil>=2.6.1->pandas->acnportal==0.1.3) (1.12.0)\n",
            "Building wheels for collected packages: acnportal\n",
            "  Building wheel for acnportal (setup.py) ... \u001b[?25l\u001b[?25hdone\n",
            "  Created wheel for acnportal: filename=acnportal-0.1.3-cp36-none-any.whl size=81621 sha256=2070e5d3ee4995d83bea8a312a4c202e63cc4542ea3c0d095db33f74239b999d\n",
            "  Stored in directory: /tmp/pip-ephem-wheel-cache-g8dqiepf/wheels/6d/6a/19/10aef74a8c705c23f53e3e1d696420b07fcdbc88af47701336\n",
            "Successfully built acnportal\n",
            "Installing collected packages: acnportal\n",
            "  Found existing installation: acnportal 0.1.3\n",
            "    Uninstalling acnportal-0.1.3:\n",
            "      Successfully uninstalled acnportal-0.1.3\n",
            "Successfully installed acnportal-0.1.3\n",
            "--2020-04-16 18:26:22--  https://ev.caltech.edu/assets/data/gmm/jpl_weekday_40.pkl\n",
            "Resolving ev.caltech.edu (ev.caltech.edu)... 131.215.140.211\n",
            "Connecting to ev.caltech.edu (ev.caltech.edu)|131.215.140.211|:443... connected.\n",
            "HTTP request sent, awaiting response... 200 OK\n",
            "Length: 10845 (11K) [application/octet-stream]\n",
            "Saving to: ‘jpl_weekday_40.pkl.1’\n",
            "\n",
            "jpl_weekday_40.pkl. 100%[===================>]  10.59K  --.-KB/s    in 0s      \n",
            "\n",
            "2020-04-16 18:26:23 (220 MB/s) - ‘jpl_weekday_40.pkl.1’ saved [10845/10845]\n",
            "\n"
          ],
          "name": "stdout"
        }
      ]
    },
    {
      "cell_type": "markdown",
      "metadata": {
        "id": "GenojIdhB6o4",
        "colab_type": "text"
      },
      "source": [
        "\n",
        "# Comparing Infrastructure Designs using ACN-Sim\n",
        "### by Zachary Lee\n",
        "#### Last updated: 4/16/2020\n",
        "\n",
        "\n",
        "In this case study, we demonstrate how ACN-Data and ACN-Sim can be used to evaluate infrastructure configurations and algorithms. We consider the case of a site host who expects to charge approximately 100 EVs per day with a demand pattern similar to that of JPL.\n",
        "\n",
        "The site host has several options, including  \n",
        "*   102 Uncontrolled Level-1 EVSEs with a 200 kW Transformer\n",
        "*   30 Uncontrolled Level-2 EVSEs with a 200 kW Transformer\n",
        "*   102 Uncontrolled Level-2 EVSEs with a 670 kW Transformer\n",
        "*   102 Smart Level-2 EVSEs running LLF with a 200 kW Transformer\n",
        "\n",
        "We evaluate the scenarios on the number of times drivers would have to swap parking places to allow other drivers to charge, the percentage of total demand met, and the operating costs (calculated using ACN-Sim's integration with utility tariffs). This demonstrates the significant benefits of developing smart EV charging systems in terms of reducing both capital costs (transformer capacity) and operating costs.\n"
      ]
    },
    {
      "cell_type": "code",
      "metadata": {
        "pycharm": {
          "is_executing": false
        },
        "id": "tI1sjPLhl7zX",
        "colab_type": "code",
        "colab": {}
      },
      "source": [
        "import acnportal\n",
        "\n",
        "from copy import deepcopy\n",
        "import warnings\n",
        "import pytz\n",
        "import numpy as np\n",
        "import pickle\n",
        "from datetime import datetime\n",
        "from acnportal import acnsim\n",
        "from acnportal import algorithms\n",
        "from acnportal.signals.tariffs.tou_tariff import TimeOfUseTariff"
      ],
      "execution_count": 0,
      "outputs": []
    },
    {
      "cell_type": "markdown",
      "metadata": {
        "id": "sHbmBo6gLRpm",
        "colab_type": "text"
      },
      "source": [
        "## Charging Network Designs\n",
        "\n",
        "To define our charging network options, we will use two functions which generate an AffinityChargingNetwork object. The AffinityChargingNetwork assigns users to spaces dynamically based on available spaces and user preferences. In this example, we will assume each driver has equal preference for all spots.\n",
        "\n",
        "If all spaces are taken, drivers join a queue which is drained as drivers finish charging and move their vehicle (the early departure option specifies that drivers move their vehicle when it is done charging rather than their normal departure time). We record each time that the user leave and is replaced with someone from the queue as a swap. Swaps are undesirable as they waste time and are frustrating for users. Despite this, swapping is a common practice in many charging facilities where the number of users exceeds the number of EVSEs.  "
      ]
    },
    {
      "cell_type": "code",
      "metadata": {
        "id": "Sze0cur7ni9p",
        "colab_type": "code",
        "colab": {}
      },
      "source": [
        "def level_1_network(transformer_cap=200, evse_per_phase=34):\n",
        "    \"\"\" Configurable charging network for level-1 EVSEs connected line to ground\n",
        "        at 120 V. \n",
        "\n",
        "    Args:\n",
        "        transformer_cap (float): Capacity of the transformer feeding the network\n",
        "          [kW]\n",
        "        evse_per_phase (int): Number of EVSEs on each phase. Total number of \n",
        "          EVSEs will be 3 * evse_per_phase.\n",
        "\n",
        "    Returns:\n",
        "        ChargingNetwork: Configured ChargingNetwork.  \n",
        "    \"\"\"\n",
        "    network = acnsim.network.AffinityChargingNetwork(early_departure=True)\n",
        "    voltage = 120\n",
        "\n",
        "    # Define the sets of EVSEs in the Caltech ACN.\n",
        "    A_ids = ['A-{0}'.format(i) for i in range(evse_per_phase)]\n",
        "    B_ids = ['B-{0}'.format(i) for i in range(evse_per_phase)]\n",
        "    C_ids = ['C-{0}'.format(i) for i in range(evse_per_phase)]\n",
        "\n",
        "    # Add Caltech EVSEs\n",
        "    for evse_id in A_ids:\n",
        "        network.register_evse(acnsim.FiniteRatesEVSE(evse_id, [0, 16]), voltage, 0)\n",
        "    for evse_id in B_ids:\n",
        "        network.register_evse(acnsim.FiniteRatesEVSE(evse_id, [0, 16]), voltage, 120)\n",
        "    for evse_id in C_ids:\n",
        "        network.register_evse(acnsim.FiniteRatesEVSE(evse_id, [0, 16]), voltage, -120)\n",
        "\n",
        "    # Add Caltech Constraint Set\n",
        "    I3a = acnsim.Current(A_ids)\n",
        "    I3b = acnsim.Current(B_ids)\n",
        "    I3c = acnsim.Current(C_ids)\n",
        "\n",
        "    # Define intermediate currents\n",
        "    I2a = (1 / 4) * (I3a - I3c)\n",
        "    I2b = (1 / 4) * (I3b - I3a)\n",
        "    I2c = (1 / 4) * (I3c - I3b)\n",
        "\n",
        "    # Build constraint set\n",
        "    primary_side_constr = transformer_cap * 1000 / 3 / 277\n",
        "    secondary_side_constr = transformer_cap * 1000 / 3 / 120\n",
        "    network.add_constraint(I3a, secondary_side_constr, name='Secondary A')\n",
        "    network.add_constraint(I3b, secondary_side_constr, name='Secondary B')\n",
        "    network.add_constraint(I3c, secondary_side_constr, name='Secondary C')\n",
        "    network.add_constraint(I2a, primary_side_constr, name='Primary A')\n",
        "    network.add_constraint(I2b, primary_side_constr, name='Primary B')\n",
        "    network.add_constraint(I2c, primary_side_constr, name='Primary C')\n",
        "\n",
        "    return network\n",
        "\n",
        "\n",
        "def level_2_network(transformer_cap=200, evse_per_phase=34):\n",
        "    \"\"\" Configurable charging network for level-2 EVSEs connected line to line\n",
        "        at 208 V. \n",
        "\n",
        "    Args:\n",
        "        transformer_cap (float): Capacity of the transformer feeding the network\n",
        "          [kW]\n",
        "        evse_per_phase (int): Number of EVSEs on each phase. Total number of \n",
        "          EVSEs will be 3 * evse_per_phase.\n",
        "\n",
        "    Returns:\n",
        "        ChargingNetwork: Configured ChargingNetwork.  \n",
        "    \"\"\"\n",
        "    network = acnsim.network.AffinityChargingNetwork(early_departure=True)\n",
        "    voltage = 208\n",
        "    evse_type = 'AeroVironment'\n",
        "\n",
        "    # Define the sets of EVSEs in the Caltech ACN.\n",
        "    AB_ids = ['AB-{0}'.format(i) for i in range(evse_per_phase)]\n",
        "    BC_ids = ['BC-{0}'.format(i) for i in range(evse_per_phase)]\n",
        "    CA_ids = ['CA-{0}'.format(i) for i in range(evse_per_phase)]\n",
        "\n",
        "    # Add Caltech EVSEs\n",
        "    for evse_id in AB_ids:\n",
        "        network.register_evse(acnsim.get_evse_by_type(evse_id, evse_type), voltage, 30)\n",
        "    for evse_id in BC_ids:\n",
        "        network.register_evse(acnsim.get_evse_by_type(evse_id, evse_type), voltage, -90)\n",
        "    for evse_id in CA_ids:\n",
        "        network.register_evse(acnsim.get_evse_by_type(evse_id, evse_type), voltage, 150)\n",
        "\n",
        "    # Add Caltech Constraint Set\n",
        "    AB = acnsim.Current(AB_ids)\n",
        "    BC = acnsim.Current(BC_ids)\n",
        "    CA = acnsim.Current(CA_ids)\n",
        "\n",
        "    # Define intermediate currents\n",
        "    I3a = AB - CA\n",
        "    I3b = BC - AB\n",
        "    I3c = CA - BC\n",
        "    I2a = (1 / 4) * (I3a - I3c)\n",
        "    I2b = (1 / 4) * (I3b - I3a)\n",
        "    I2c = (1 / 4) * (I3c - I3b)\n",
        "\n",
        "    # Build constraint set\n",
        "    primary_side_constr = transformer_cap * 1000 / 3 / 277\n",
        "    secondary_side_constr = transformer_cap * 1000 / 3 / 120\n",
        "    network.add_constraint(I3a, secondary_side_constr, name='Secondary A')\n",
        "    network.add_constraint(I3b, secondary_side_constr, name='Secondary B')\n",
        "    network.add_constraint(I3c, secondary_side_constr, name='Secondary C')\n",
        "    network.add_constraint(I2a, primary_side_constr, name='Primary A')\n",
        "    network.add_constraint(I2b, primary_side_constr, name='Primary B')\n",
        "    network.add_constraint(I2c, primary_side_constr, name='Primary C')\n",
        "\n",
        "    return network\n"
      ],
      "execution_count": 0,
      "outputs": []
    },
    {
      "cell_type": "markdown",
      "metadata": {
        "id": "mVFCezpgMdwf",
        "colab_type": "text"
      },
      "source": [
        "## Experiments\n",
        "\n",
        "In these experiments we will run a simulation for each system configuration can compare the results on key metrics."
      ]
    },
    {
      "cell_type": "code",
      "metadata": {
        "id": "_7f4UUUol7ze",
        "colab_type": "code",
        "colab": {}
      },
      "source": [
        "# How long each time discrete time interval in the simulation should be.\n",
        "PERIOD = 5  # minutes\n",
        "\n",
        "# Voltage of the network.\n",
        "VOLTAGE = 208  # volts\n",
        "\n",
        "# Default maximum charging rate for each EV battery.\n",
        "DEFAULT_BATTERY_POWER = 6.6 # kW"
      ],
      "execution_count": 0,
      "outputs": []
    },
    {
      "cell_type": "markdown",
      "metadata": {
        "id": "aJOcKxZ1MpS8",
        "colab_type": "text"
      },
      "source": [
        "**Network Options**"
      ]
    },
    {
      "cell_type": "code",
      "metadata": {
        "pycharm": {
          "is_executing": false,
          "name": "#%%\n"
        },
        "id": "FHlFY1kMl7zi",
        "colab_type": "code",
        "colab": {}
      },
      "source": [
        "level_1 = level_1_network(transformer_cap=200, evse_per_phase=34)\n",
        "level_2_200kW_30 = level_2_network(transformer_cap=200, evse_per_phase=10)\n",
        "level_2_200kW_102 = level_2_network(transformer_cap=200, evse_per_phase=34)\n",
        "level_2_670kW_102 = level_2_network(transformer_cap=670, evse_per_phase=34)"
      ],
      "execution_count": 0,
      "outputs": []
    },
    {
      "cell_type": "markdown",
      "metadata": {
        "id": "Vg1PjL6pMvX2",
        "colab_type": "text"
      },
      "source": [
        "**Events**\n",
        "\n",
        "We assume that our site will have a usage profile similar to JPL, so we use a Gaussian Mixture Model trained on data from weekdays at JPL to generate events for this experiment. We assume that the site will be closed on weekends, so no charging will occur. "
      ]
    },
    {
      "cell_type": "code",
      "metadata": {
        "pycharm": {
          "name": "#%%\n"
        },
        "id": "STPte5LQl7zm",
        "colab_type": "code",
        "colab": {
          "base_uri": "https://localhost:8080/",
          "height": 258
        },
        "outputId": "6d2ceffa-ae3e-4442-9858-c3aa0b51815a"
      },
      "source": [
        "gmm = pickle.load(open('jpl_weekday_40.pkl', 'rb'))\n",
        "sessions_per_day = 100\n",
        "\n",
        "# Generate a list of the number of sessions to draw for each day.\n",
        "num_evs = [0]*2 + [sessions_per_day]*5 + [0]*2 + [sessions_per_day]*5 + [0]*2 + \\\n",
        "          [sessions_per_day]*5 + [0]*2 + [sessions_per_day]*5 + [0]*2\n",
        "\n",
        "# Note that because we are drawing from a distribution, some sessions will be\n",
        "# invalid, we ignore these sessions and remove the corresponding plugin events. \n",
        "synth_events = acnsim.events.gmm_events(gmm, num_evs, PERIOD, VOLTAGE, DEFAULT_BATTERY_POWER)"
      ],
      "execution_count": 8,
      "outputs": [
        {
          "output_type": "stream",
          "text": [
            "Invalid session.\n",
            "Invalid session.\n",
            "Invalid session.\n",
            "Invalid session.\n",
            "Invalid session.\n",
            "Invalid session.\n",
            "Invalid session.\n",
            "Invalid session.\n",
            "Invalid session.\n"
          ],
          "name": "stdout"
        },
        {
          "output_type": "stream",
          "text": [
            "/usr/local/lib/python3.6/dist-packages/sklearn/utils/deprecation.py:144: FutureWarning: The sklearn.mixture.gaussian_mixture module is  deprecated in version 0.22 and will be removed in version 0.24. The corresponding classes / functions should instead be imported from sklearn.mixture. Anything that cannot be imported from sklearn.mixture is now part of the private API.\n",
            "  warnings.warn(message, FutureWarning)\n",
            "/usr/local/lib/python3.6/dist-packages/sklearn/base.py:318: UserWarning: Trying to unpickle estimator GaussianMixture from version 0.20.2 when using version 0.22.2.post1. This might lead to breaking code or invalid results. Use at your own risk.\n",
            "  UserWarning)\n"
          ],
          "name": "stderr"
        }
      ]
    },
    {
      "cell_type": "code",
      "metadata": {
        "pycharm": {
          "name": "#%%\n"
        },
        "id": "n5f0FWYLl7zq",
        "colab_type": "code",
        "colab": {}
      },
      "source": [
        "def run_experiment(network, algorithm, events):\n",
        "    \"\"\" Run simulation for the events defined previously and the specified\n",
        "        network / algorithm / events. \n",
        "    \"\"\"\n",
        "    # Timezone of the ACN we are using.\n",
        "    timezone = pytz.timezone('America/Los_Angeles')\n",
        "    \n",
        "    # Start and End times are used when collecting data.\n",
        "    start = timezone.localize(datetime(2019, 6, 1))\n",
        "    end = timezone.localize(datetime(2019, 7, 1))\n",
        "    \n",
        "    sch = deepcopy(algorithm)\n",
        "    cn = deepcopy(network)\n",
        "    signals = {'tariff': TimeOfUseTariff('sce_tou_ev_4_march_2019')}\n",
        "\n",
        "    sim = acnsim.Simulator(cn, sch, events, start, period=PERIOD, verbose=False, signals=signals)\n",
        "    with warnings.catch_warnings():\n",
        "        warnings.simplefilter(\"ignore\")\n",
        "        sim.run()\n",
        "\n",
        "    r = {'proportion_of_energy_delivered': acnsim.proportion_of_energy_delivered(sim),\n",
        "         'energy_delivered': sum(ev.energy_delivered for ev in sim.ev_history.values()),\n",
        "         'num_swaps': cn.swaps,\n",
        "         'num_never_charged': cn.never_charged,\n",
        "         'energy_cost': acnsim.energy_cost(sim),\n",
        "         'demand_charge': acnsim.demand_charge(sim)\n",
        "         }\n",
        "    r['total_cost'] = r['energy_cost'] + r['demand_charge']\n",
        "    r['$/kWh'] = r['total_cost'] / r['energy_delivered']\n",
        "    return r"
      ],
      "execution_count": 0,
      "outputs": []
    },
    {
      "cell_type": "markdown",
      "metadata": {
        "id": "iheZsy_3OCFh",
        "colab_type": "text"
      },
      "source": [
        "**Define Algorithms**"
      ]
    },
    {
      "cell_type": "code",
      "metadata": {
        "id": "1-zimjDDl7zs",
        "colab_type": "code",
        "colab": {}
      },
      "source": [
        "uncontrolled = algorithms.UncontrolledCharging()\n",
        "llf = algorithms.SortedSchedulingAlgo(algorithms.least_laxity_first)"
      ],
      "execution_count": 0,
      "outputs": []
    },
    {
      "cell_type": "markdown",
      "metadata": {
        "id": "zitdbeLGOHUw",
        "colab_type": "text"
      },
      "source": [
        "**Run Experiments**"
      ]
    },
    {
      "cell_type": "code",
      "metadata": {
        "pycharm": {
          "is_executing": false
        },
        "id": "vZ2qQ7_hl7zv",
        "colab_type": "code",
        "colab": {}
      },
      "source": [
        "level1_uncontrolled = run_experiment(level_1, uncontrolled, \n",
        "                                     deepcopy(synth_events))"
      ],
      "execution_count": 0,
      "outputs": []
    },
    {
      "cell_type": "code",
      "metadata": {
        "id": "m_9VPCrL1me7",
        "colab_type": "code",
        "colab": {}
      },
      "source": [
        "level2_200kW_uncontrolled = run_experiment(level_2_200kW_30, uncontrolled,\n",
        "                                           deepcopy(synth_events))"
      ],
      "execution_count": 0,
      "outputs": []
    },
    {
      "cell_type": "code",
      "metadata": {
        "id": "k3QrKQ9h1oLk",
        "colab_type": "code",
        "colab": {}
      },
      "source": [
        "level2_670kW_uncontrolled = run_experiment(level_2_670kW_102, uncontrolled,\n",
        "                                           deepcopy(synth_events))"
      ],
      "execution_count": 0,
      "outputs": []
    },
    {
      "cell_type": "code",
      "metadata": {
        "id": "Lx68xWXS1pI0",
        "colab_type": "code",
        "colab": {}
      },
      "source": [
        "level2_200kW_llf = run_experiment(level_2_200kW_102, llf,\n",
        "                                  deepcopy(synth_events))"
      ],
      "execution_count": 0,
      "outputs": []
    },
    {
      "cell_type": "markdown",
      "metadata": {
        "id": "yjN7cSvSOKQ1",
        "colab_type": "text"
      },
      "source": [
        "### Analyze Results"
      ]
    },
    {
      "cell_type": "code",
      "metadata": {
        "id": "KW4Dwf5R3EVy",
        "colab_type": "code",
        "colab": {
          "base_uri": "https://localhost:8080/",
          "height": 297
        },
        "outputId": "1215ead6-04f1-4f76-8e39-5bfcb2b7c351"
      },
      "source": [
        "import pandas as pd\n",
        "pd.DataFrame({'Level 1: Unctrl: 200 kW : 102 EVSEs': level1_uncontrolled,\n",
        "              'Level 2: Unctrl: 200 kW : 30 EVSEs':  level2_200kW_uncontrolled,\n",
        "              'Level 2: Unctrl: 670 kW : 102 EVSEs': level2_670kW_uncontrolled,\n",
        "              'Level 2: LLF: 200 kW : 102 EVSEs': level2_200kW_llf})"
      ],
      "execution_count": 16,
      "outputs": [
        {
          "output_type": "execute_result",
          "data": {
            "text/html": [
              "<div>\n",
              "<style scoped>\n",
              "    .dataframe tbody tr th:only-of-type {\n",
              "        vertical-align: middle;\n",
              "    }\n",
              "\n",
              "    .dataframe tbody tr th {\n",
              "        vertical-align: top;\n",
              "    }\n",
              "\n",
              "    .dataframe thead th {\n",
              "        text-align: right;\n",
              "    }\n",
              "</style>\n",
              "<table border=\"1\" class=\"dataframe\">\n",
              "  <thead>\n",
              "    <tr style=\"text-align: right;\">\n",
              "      <th></th>\n",
              "      <th>Level 1: Unctrl: 200 kW : 102 EVSEs</th>\n",
              "      <th>Level 2: Unctrl: 200 kW : 30 EVSEs</th>\n",
              "      <th>Level 2: Unctrl: 670 kW : 102 EVSEs</th>\n",
              "      <th>Level 2: LLF: 200 kW : 102 EVSEs</th>\n",
              "    </tr>\n",
              "  </thead>\n",
              "  <tbody>\n",
              "    <tr>\n",
              "      <th>proportion_of_energy_delivered</th>\n",
              "      <td>0.752737</td>\n",
              "      <td>0.996912</td>\n",
              "      <td>0.998591</td>\n",
              "      <td>0.998591</td>\n",
              "    </tr>\n",
              "    <tr>\n",
              "      <th>energy_delivered</th>\n",
              "      <td>17608.604672</td>\n",
              "      <td>23320.544956</td>\n",
              "      <td>23359.823145</td>\n",
              "      <td>23359.823145</td>\n",
              "    </tr>\n",
              "    <tr>\n",
              "      <th>num_swaps</th>\n",
              "      <td>0.000000</td>\n",
              "      <td>1119.000000</td>\n",
              "      <td>0.000000</td>\n",
              "      <td>0.000000</td>\n",
              "    </tr>\n",
              "    <tr>\n",
              "      <th>num_never_charged</th>\n",
              "      <td>0.000000</td>\n",
              "      <td>1.000000</td>\n",
              "      <td>0.000000</td>\n",
              "      <td>0.000000</td>\n",
              "    </tr>\n",
              "    <tr>\n",
              "      <th>energy_cost</th>\n",
              "      <td>2631.851150</td>\n",
              "      <td>2915.987677</td>\n",
              "      <td>2826.730582</td>\n",
              "      <td>2919.048218</td>\n",
              "    </tr>\n",
              "    <tr>\n",
              "      <th>demand_charge</th>\n",
              "      <td>2471.673600</td>\n",
              "      <td>3070.980000</td>\n",
              "      <td>5817.379684</td>\n",
              "      <td>3070.980000</td>\n",
              "    </tr>\n",
              "    <tr>\n",
              "      <th>total_cost</th>\n",
              "      <td>5103.524750</td>\n",
              "      <td>5986.967677</td>\n",
              "      <td>8644.110265</td>\n",
              "      <td>5990.028218</td>\n",
              "    </tr>\n",
              "    <tr>\n",
              "      <th>$/kWh</th>\n",
              "      <td>0.289831</td>\n",
              "      <td>0.256725</td>\n",
              "      <td>0.370042</td>\n",
              "      <td>0.256424</td>\n",
              "    </tr>\n",
              "  </tbody>\n",
              "</table>\n",
              "</div>"
            ],
            "text/plain": [
              "                                Level 1: Unctrl: 200 kW : 102 EVSEs  ...  Level 2: LLF: 200 kW : 102 EVSEs\n",
              "proportion_of_energy_delivered                             0.752737  ...                          0.998591\n",
              "energy_delivered                                       17608.604672  ...                      23359.823145\n",
              "num_swaps                                                  0.000000  ...                          0.000000\n",
              "num_never_charged                                          0.000000  ...                          0.000000\n",
              "energy_cost                                             2631.851150  ...                       2919.048218\n",
              "demand_charge                                           2471.673600  ...                       3070.980000\n",
              "total_cost                                              5103.524750  ...                       5990.028218\n",
              "$/kWh                                                      0.289831  ...                          0.256424\n",
              "\n",
              "[8 rows x 4 columns]"
            ]
          },
          "metadata": {
            "tags": []
          },
          "execution_count": 16
        }
      ]
    },
    {
      "cell_type": "markdown",
      "metadata": {
        "id": "1NxLXfdbONx_",
        "colab_type": "text"
      },
      "source": [
        "From the above table we can see that smart charging using even a simple LLF algorithm has significant benefits over Uncontrolled Level-1 charging in terms of amount of demand met. It also requires far less infrastructure than Uncontrolled Level-2 charging with the same number of EVSEs, and without requiring users to swap spaces mid-day. "
      ]
    },
    {
      "cell_type": "code",
      "metadata": {
        "id": "coRn6GL4AJ7d",
        "colab_type": "code",
        "colab": {}
      },
      "source": [
        ""
      ],
      "execution_count": 0,
      "outputs": []
    }
  ]
}