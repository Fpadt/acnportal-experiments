{
  "nbformat": 4,
  "nbformat_minor": 0,
  "metadata": {
    "colab": {
      "name": "unbalanced_three_phase_infrastructure.ipynb",
      "version": "0.3.2",
      "provenance": [],
      "include_colab_link": true
    },
    "kernelspec": {
      "name": "python3",
      "display_name": "Python 3"
    }
  },
  "cells": [
    {
      "cell_type": "markdown",
      "metadata": {
        "id": "view-in-github",
        "colab_type": "text"
      },
      "source": [
        "<a href=\"https://colab.research.google.com/github/zach401/acnsim_baseline_comparison/blob/master/unbalanced_three_phase_infrastructure.ipynb\" target=\"_parent\"><img src=\"https://colab.research.google.com/assets/colab-badge.svg\" alt=\"Open In Colab\"/></a>"
      ]
    },
    {
      "cell_type": "markdown",
      "metadata": {
        "id": "S8wxkRpdMzwl",
        "colab_type": "text"
      },
      "source": [
        "*If running in Colab run this first to install ACN-Portal.*"
      ]
    },
    {
      "cell_type": "code",
      "metadata": {
        "id": "bRvsN1Q9TEr2",
        "colab_type": "code",
        "colab": {}
      },
      "source": [
        "!git clone https://github.com/zach401/acnportal.git\n",
        "!pip install acnportal/."
      ],
      "execution_count": 0,
      "outputs": []
    },
    {
      "cell_type": "markdown",
      "metadata": {
        "id": "4Dx6R-26M6JP",
        "colab_type": "text"
      },
      "source": [
        "# Unbalanced Three-Phase Infrastructure Constraints\n",
        "\n",
        "Currently, most charging algorithms in the literature rely on constraints which assume single-phase or balanced three-phase operation. In this experiment, we demonstrate why these assumptions are insufficient for practical charging systems. \n",
        "\n",
        "For this experiment we use the LLF algorithm. We consider two cases. In the first, LLF considers a simplified single-phase representation of the constraints in the network. In the second, LLF uses the full three-phase system model. In both cases, we evalaute the algorithms using the true three-phase network model."
      ]
    },
    {
      "cell_type": "code",
      "metadata": {
        "id": "cM2mYe93TU0_",
        "colab_type": "code",
        "colab": {}
      },
      "source": [
        "import pytz\n",
        "from datetime import datetime\n",
        "import numpy as np\n",
        "import cvxpy as cp\n",
        "from copy import deepcopy\n",
        "import time \n",
        "from matplotlib import pyplot as plt\n",
        "\n",
        "from acnportal import acnsim\n",
        "from acnportal.acnsim import ChargingNetwork\n",
        "from acnportal.acnsim import Current\n",
        "from acnportal.acnsim import get_evse_by_type\n",
        "from acnportal.acnsim import analysis\n",
        "from acnportal import algorithms\n",
        "from acnportal.algorithms import BaseAlgorithm"
      ],
      "execution_count": 0,
      "outputs": []
    },
    {
      "cell_type": "markdown",
      "metadata": {
        "id": "JtsqSXf0OCo1",
        "colab_type": "text"
      },
      "source": [
        "## Single-phase CaltechACN Network\n",
        "\n",
        "In this *ChargingNetwork* we treat all EVSEs as if they were on the same phase by setting the phase angle for each to be 0. The only constraints for this model are that the aggregate rates of the AV and CC pods are less than 80 A and that the aggregate power of all EVSEs is less than the power limit of the transformer. \n",
        "\n",
        "(We assume nominal voltage in the network)"
      ]
    },
    {
      "cell_type": "code",
      "metadata": {
        "id": "daSbJIfqTQEL",
        "colab_type": "code",
        "colab": {}
      },
      "source": [
        "class SinglePhaseCaltechACN(ChargingNetwork):\n",
        "    \"\"\" Predefined ChargingNetwork for the Caltech ACN.\n",
        "\n",
        "    Args:\n",
        "        basic_evse (bool): If True use BASIC EVSE type instead of actual AeroViroment and ClipperCreek types.\n",
        "        voltage (float): Default voltage at the EVSEs. Does not affect the current rating of the transformer which is\n",
        "            based on nominal voltages in the network. 277V LL for delta primary and 120V LN for wye secondary. [V]\n",
        "        transformer_cap (float): Capacity of the transformer in the CaltechACN. Default: 150. [kW]\n",
        "\n",
        "    Attributes:\n",
        "        See ChargingNetwork for Attributes.\n",
        "    \"\"\"\n",
        "    def __init__(self, basic_evse=False, voltage=208, transformer_cap=150):\n",
        "        super().__init__()\n",
        "\n",
        "        if basic_evse:\n",
        "            evse_type = {'AV': 'BASIC', 'CC': 'BASIC'}\n",
        "        else:\n",
        "            evse_type = {'AV': 'AeroVironment', 'CC': 'ClipperCreek'}\n",
        "\n",
        "        # Define the sets of EVSEs in the Caltech ACN.\n",
        "        CC_pod_ids = ['CA-322', 'CA-493', 'CA-496', 'CA-320', 'CA-495', 'CA-321', 'CA-323', 'CA-494']\n",
        "        AV_pod_ids = ['CA-324', 'CA-325', 'CA-326', 'CA-327', 'CA-489', 'CA-490', 'CA-491', 'CA-492']\n",
        "        AB_ids = ['CA-{0}'.format(i) for i in [308, 508, 303, 513, 310, 506, 316, 500, 318, 498]] + CC_pod_ids + AV_pod_ids\n",
        "        BC_ids = ['CA-{0}'.format(i) for i in [304, 512, 305, 511, 313, 503, 311, 505, 317, 499]]\n",
        "        CA_ids = ['CA-{0}'.format(i) for i in [307, 509, 309, 507, 306, 510, 315, 501, 319, 497, 312, 504, 314, 502]]\n",
        "\n",
        "        # Temporarily add ADA spaces to BC, since we don't know where they come from\n",
        "        BC_ids += ['CA-148', 'CA-149', 'CA-212', 'CA-213']\n",
        "\n",
        "        # Add Caltech EVSEs\n",
        "        for evse_id in AB_ids:\n",
        "            if evse_id not in CC_pod_ids:\n",
        "                self.register_evse(get_evse_by_type(evse_id, evse_type['AV']), voltage, 0)\n",
        "            else:\n",
        "                self.register_evse(get_evse_by_type(evse_id, evse_type['CC']), voltage, 0)\n",
        "        for evse_id in BC_ids:\n",
        "            self.register_evse(get_evse_by_type(evse_id, evse_type['AV']), voltage, 0)\n",
        "        for evse_id in CA_ids:\n",
        "            self.register_evse(get_evse_by_type(evse_id, evse_type['AV']), voltage, 0)\n",
        "\n",
        "        # Add Caltech Constraint Set\n",
        "        CC_pod = Current(CC_pod_ids)\n",
        "        AV_pod = Current(AV_pod_ids)\n",
        "        all_current = Current(AB_ids + BC_ids + CA_ids)\n",
        "\n",
        "        # Build constraint set\n",
        "        self.add_constraint(CC_pod, 80, name='CC Pod')\n",
        "        self.add_constraint(AV_pod, 80, name='AV Pod')\n",
        "        self.add_constraint(all_current, transformer_cap * 1000 / voltage, name='Transformer Cap')"
      ],
      "execution_count": 0,
      "outputs": []
    },
    {
      "cell_type": "markdown",
      "metadata": {
        "id": "YTGuRUk-PPGu",
        "colab_type": "text"
      },
      "source": [
        "## Experiment Setup"
      ]
    },
    {
      "cell_type": "code",
      "metadata": {
        "id": "Q9M8B670SmPe",
        "colab_type": "code",
        "colab": {}
      },
      "source": [
        "# -- Experiment Parameters ---------------------------------------------------------------------------------------------\n",
        "timezone = pytz.timezone('America/Los_Angeles')\n",
        "start = timezone.localize(datetime(2019, 3, 5))\n",
        "end = timezone.localize(datetime(2019, 3, 6))\n",
        "period = 5  # minute\n",
        "voltage = 208  # volts\n",
        "default_battery_power = 32 * voltage / 1000 # kW\n",
        "site = 'caltech'\n",
        "\n",
        "# -- Network -----------------------------------------------------------------------------------------------------------\n",
        "single_phase_cn = SinglePhaseCaltechACN(basic_evse=True, transformer_cap=50)\n",
        "real_cn = acnsim.sites.CaltechACN(basic_evse=True, transformer_cap=50)\n",
        "\n",
        "# -- Events ------------------------------------------------------------------------------------------------------------\n",
        "API_KEY = 'DEMO_TOKEN'\n",
        "events = acnsim.acndata_events.generate_events(API_KEY, site, start, end, period, voltage, default_battery_power)"
      ],
      "execution_count": 0,
      "outputs": []
    },
    {
      "cell_type": "markdown",
      "metadata": {
        "id": "tYsq2kGfPCRi",
        "colab_type": "text"
      },
      "source": [
        "## Running Experiment"
      ]
    },
    {
      "cell_type": "markdown",
      "metadata": {
        "id": "ULP4AFoMPWBh",
        "colab_type": "text"
      },
      "source": [
        "### Single-Phase"
      ]
    },
    {
      "cell_type": "code",
      "metadata": {
        "id": "xPZbsQhKTBbf",
        "colab_type": "code",
        "colab": {}
      },
      "source": [
        "llf_sp_sim = acnsim.Simulator(deepcopy(single_phase_cn), \n",
        "                              algorithms.SortedSchedulingAlgo(algorithms.least_laxity_first),\n",
        "                              deepcopy(events), start, period=period, \n",
        "                              max_recomp=1, verbose=False)\n",
        "llf_sp_sim.run()"
      ],
      "execution_count": 0,
      "outputs": []
    },
    {
      "cell_type": "markdown",
      "metadata": {
        "id": "h8vcUY2ZPYOb",
        "colab_type": "text"
      },
      "source": [
        "### Three-Phase"
      ]
    },
    {
      "cell_type": "code",
      "metadata": {
        "id": "MMO9pQ5J51cH",
        "colab_type": "code",
        "colab": {}
      },
      "source": [
        "llf_tp_sim = acnsim.Simulator(deepcopy(real_cn), \n",
        "                              algorithms.SortedSchedulingAlgo(algorithms.least_laxity_first),\n",
        "                              deepcopy(events), start, period=period, \n",
        "                              max_recomp=1, verbose=False)\n",
        "llf_tp_sim.run()"
      ],
      "execution_count": 0,
      "outputs": []
    },
    {
      "cell_type": "markdown",
      "metadata": {
        "id": "edJlAV5wPesD",
        "colab_type": "text"
      },
      "source": [
        "## Results\n",
        "\n",
        "In order to compare the single-phase and three-phase versions of LLF, we plot the aggregate power of all EVSEs as well as individual line currents on the primary and secondary side of the transformer which feeds the CaltechACN. "
      ]
    },
    {
      "cell_type": "markdown",
      "metadata": {
        "id": "y72LJFIGPiej",
        "colab_type": "text"
      },
      "source": [
        "Since we are interested in how the single-phase LLF algorithm would have performed in the real CaltechACN, we replace the network model with the real network model for analysis. "
      ]
    },
    {
      "cell_type": "code",
      "metadata": {
        "id": "mauQTMRGT67x",
        "colab_type": "code",
        "colab": {}
      },
      "source": [
        "llf_sp_sim.network = real_cn"
      ],
      "execution_count": 0,
      "outputs": []
    },
    {
      "cell_type": "code",
      "metadata": {
        "id": "MBhusqQV8ZAe",
        "colab_type": "code",
        "outputId": "db31d864-a2c6-4d8b-cc9d-bf835ffdb378",
        "colab": {
          "base_uri": "https://localhost:8080/",
          "height": 269
        }
      },
      "source": [
        "from matplotlib import cm\n",
        "cmap = cm.get_cmap('tab20c')\n",
        "\n",
        "fig, axes = plt.subplots(3, 2, sharey='row', sharex=True, figsize=(6,4))\n",
        "fig.subplots_adjust(wspace=0.17, hspace=0.17)\n",
        "axes[0, 0].set_xlim(7*12, 17*12)\n",
        "\n",
        "# Plot Aggregate Charging Power\n",
        "sp_agg = analysis.aggregate_current(llf_sp_sim)*voltage/1000\n",
        "tp_agg = analysis.aggregate_current(llf_tp_sim)*voltage/1000\n",
        "sp_color = 4\n",
        "tp_color = 0\n",
        "axes[0, 0].plot(sp_agg, color=cmap(sp_color))\n",
        "axes[0, 1].plot(tp_agg, color=cmap(tp_color))\n",
        "\n",
        "\n",
        "# Calculate currents in constrained lines\n",
        "sp_cc = analysis.constraint_currents(llf_sp_sim)\n",
        "tp_cc = analysis.constraint_currents(llf_tp_sim)\n",
        "\n",
        "# Plot currents in lines on the Primary and Secondary side of the transformer.\n",
        "for j, line in enumerate('ABC'): \n",
        "  axes[1, 0].plot(sp_cc['Primary {0}'.format(line)], label='Primary {0}'.format(line), color=cmap(j + sp_color))\n",
        "  axes[1, 1].plot(tp_cc['Primary {0}'.format(line)], label='Primary {0}'.format(line), color=cmap(j + tp_color))\n",
        "\n",
        "  axes[2, 0].plot(sp_cc['Secondary {0}'.format(line)], label='Secondary {0}'.format(line), color=cmap(j + sp_color))\n",
        "  axes[2, 1].plot(tp_cc['Secondary {0}'.format(line)], label='Secondary {0}'.format(line), color=cmap(j + tp_color))\n",
        "\n",
        "# Plot limits \n",
        "axes[0, 0].axhline(50, color='k', linestyle='--')\n",
        "axes[1, 0].axhline(180.5/3, color='k', linestyle='--')\n",
        "axes[2, 0].axhline(416.67/3, color='k', linestyle='--')\n",
        "\n",
        "axes[0, 1].axhline(50, color='k', linestyle='--')\n",
        "axes[1, 1].axhline(180.5/3, color='k', linestyle='--')\n",
        "axes[2, 1].axhline(416.67/3, color='k', linestyle='--')\n",
        "\n",
        "plt.xticks(range(7*12, 17*12, 36), ['7:00', '10:00', '13:00', '16:00'])\n",
        "plt.show()"
      ],
      "execution_count": 9,
      "outputs": [
        {
          "output_type": "display_data",
          "data": {
            "image/png": "[encoded data removed]",
            "text/plain": [
              "<Figure size 432x288 with 6 Axes>"
            ]
          },
          "metadata": {
            "tags": []
          }
        }
      ]
    },
    {
      "cell_type": "markdown",
      "metadata": {
        "id": "65VBWKw_RNjr",
        "colab_type": "text"
      },
      "source": [
        "Here we can see that only considering single-phase constraints can lead to significant constraint violations in line currents. However, by designing an algorithm which considers the full three-phase model, we are able to respect these constraints. Note that because of phase unbalance, we are not able to make use of the full 50 kW transformer capacity while also respecting line limits."
      ]
    },
    {
      "cell_type": "code",
      "metadata": {
        "id": "_7LaiPrD977Q",
        "colab_type": "code",
        "colab": {}
      },
      "source": [
        "from google.colab import files\n",
        "fig.savefig(\"three-phase-llf.pdf\", dpi=300)\n",
        "files.download(\"three-phase-llf.pdf\")"
      ],
      "execution_count": 0,
      "outputs": []
    }
  ]
}