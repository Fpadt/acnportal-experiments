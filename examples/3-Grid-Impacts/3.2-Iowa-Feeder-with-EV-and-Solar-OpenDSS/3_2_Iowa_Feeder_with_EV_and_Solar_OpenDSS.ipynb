{
 "cells": [
  {
   "cell_type": "markdown",
   "metadata": {
    "id": "MG3CSFddTUeo"
   },
   "source": [
    "# Effect of Distributed PV and EV Charging on a Distribution Feeder\n",
    "by Sunash Sharma and Zachary Lee\n",
    "\n",
    "The purpose of this simulation is to evaluate the impact of an Adaptive Charging Networks and PV systems on a distribution feeder.\n",
    "\n",
    "We use the Iowa Test Feeder provided by Iowa State University (http://wzy.ece.iastate.edu/Testsystem.html). The feeder is described in .dss files which can be used with OpenDSS. In addition to an accurate feeder model, this dataset also includes real smart-meter data with hourly resolution. \n",
    "\n",
    "For PV generation we use the SAM tool from NREL to generate a characteristic generation curve using a typical meteorological year (TMY) for Des Moines, Iowa.\n",
    "\n",
    "For EV load, we use real data from the JPL ACN. \n",
    "\n",
    "We install EV charging and PV generation on a single bus in the Iowa Test Feeder and analyze the effects of doing so on grid health metrics; namely, the minimal per-unit voltage in the network. We analyze the metrics under different charging and generation conditions."
   ]
  },
  {
   "cell_type": "markdown",
   "metadata": {
    "id": "gAQEmNsnTUep"
   },
   "source": [
    "If you're running this notebook in a new environment (e.g. Google Colab), run the following cell to install the necessary dependencies."
   ]
  },
  {
   "cell_type": "code",
   "execution_count": 12,
   "metadata": {
    "colab": {
     "base_uri": "https://localhost:8080/"
    },
    "id": "I7ODCDc77PSd",
    "outputId": "b2d40661-4bba-4be5-b267-2a3e0d88cbdb"
   },
   "outputs": [],
   "source": [
    "%%script false --no-raise-error\n",
    "!git clone https://github.com/zach401/acnportal.git"
   ]
  },
  {
   "cell_type": "code",
   "execution_count": 13,
   "metadata": {
    "colab": {
     "base_uri": "https://localhost:8080/"
    },
    "id": "8HGoC3ZL7R6P",
    "outputId": "068a1369-457b-4993-f883-4de99f25f55d"
   },
   "outputs": [],
   "source": [
    "%%script false --no-raise-error\n",
    "!git clone https://github.com/caltech-netlab/adacharge.git"
   ]
  },
  {
   "cell_type": "code",
   "execution_count": 14,
   "metadata": {
    "colab": {
     "base_uri": "https://localhost:8080/"
    },
    "id": "Fx2MEGHd7eOc",
    "outputId": "b9560c0a-cbcb-4e01-8f58-a60323fd3672"
   },
   "outputs": [],
   "source": [
    "%%script false --no-raise-error\n",
    "!cd adacharge && git checkout py_3.6_compatibility"
   ]
  },
  {
   "cell_type": "code",
   "execution_count": 15,
   "metadata": {
    "colab": {
     "base_uri": "https://localhost:8080/"
    },
    "collapsed": true,
    "id": "vK39aEZ2TUep",
    "jupyter": {
     "outputs_hidden": true
    },
    "outputId": "d7d1df87-9050-48c0-af9d-fc07a84ff20f"
   },
   "outputs": [],
   "source": [
    "%%script false --no-raise-error\n",
    "\n",
    "!pip install acnportal/.\n",
    "!pip install adacharge/.\n",
    "!pip install Mosek\n",
    "!pip install 'OpenDSSDirect.py[extras]'\n",
    "!pip install tqdm"
   ]
  },
  {
   "cell_type": "code",
   "execution_count": 16,
   "metadata": {
    "colab": {
     "base_uri": "https://localhost:8080/"
    },
    "collapsed": true,
    "id": "a7DJgNhYXXIV",
    "jupyter": {
     "outputs_hidden": true
    },
    "outputId": "97449120-3a7d-4769-a186-2de80fb293e2"
   },
   "outputs": [],
   "source": [
    "%%script false --no-raise-error\n",
    "# run once\n",
    "!mkdir src/\n",
    "!wget -P src/ https://raw.githubusercontent.com/caltech-netlab/acnportal-experiments/add_open_dss_experiment/examples/3-Grid-Impacts/3.2-Iowa-Feeder-with-EV-and-Solar-OpenDSS/src/__init__.py\n",
    "!wget -P src/ https://raw.githubusercontent.com/caltech-netlab/acnportal-experiments/add_open_dss_experiment/examples/3-Grid-Impacts/3.2-Iowa-Feeder-with-EV-and-Solar-OpenDSS/src/acn_experiment.py\n",
    "!wget -P src/ https://raw.githubusercontent.com/caltech-netlab/acnportal-experiments/add_open_dss_experiment/examples/3-Grid-Impacts/3.2-Iowa-Feeder-with-EV-and-Solar-OpenDSS/src/composite_experiment.py\n",
    "!wget -P src/ https://raw.githubusercontent.com/caltech-netlab/acnportal-experiments/add_open_dss_experiment/examples/3-Grid-Impacts/3.2-Iowa-Feeder-with-EV-and-Solar-OpenDSS/src/opendss_experiment.py\n",
    "\n",
    "!mkdir data/\n",
    "!wget -P data/ https://raw.githubusercontent.com/caltech-netlab/acnportal-experiments/add_open_dss_experiment/examples/3-Grid-Impacts/3.2-Iowa-Feeder-with-EV-and-Solar-OpenDSS/data/results_des_moines_autosized_270kWdc.csv\n",
    "\n",
    "!mkdir iowa_data/\n",
    "!wget -P iowa_data/ https://raw.githubusercontent.com/caltech-netlab/acnportal-experiments/add_open_dss_experiment/examples/3-Grid-Impacts/3.2-Iowa-Feeder-with-EV-and-Solar-OpenDSS/iowa_data/Calculated%20Nodal%20P&Q.xlsx\n",
    "!wget -P iowa_data/ https://raw.githubusercontent.com/caltech-netlab/acnportal-experiments/add_open_dss_experiment/examples/3-Grid-Impacts/3.2-Iowa-Feeder-with-EV-and-Solar-OpenDSS/iowa_data/Smart%20Meter%20Data.xlsx\n",
    "!wget -P iowa_data/ https://raw.githubusercontent.com/caltech-netlab/acnportal-experiments/add_open_dss_experiment/examples/3-Grid-Impacts/3.2-Iowa-Feeder-with-EV-and-Solar-OpenDSS/iowa_data/Update%20History.txt\n",
    "!wget -P iowa_data/ https://raw.githubusercontent.com/caltech-netlab/acnportal-experiments/add_open_dss_experiment/examples/3-Grid-Impacts/3.2-Iowa-Feeder-with-EV-and-Solar-OpenDSS/iowa_data/iowa_nodal_P.csv\n",
    "!wget -P iowa_data/ https://raw.githubusercontent.com/caltech-netlab/acnportal-experiments/add_open_dss_experiment/examples/3-Grid-Impacts/3.2-Iowa-Feeder-with-EV-and-Solar-OpenDSS/iowa_data/iowa_nodal_Q.csv\n",
    "!wget -P iowa_data/ https://raw.githubusercontent.com/caltech-netlab/acnportal-experiments/add_open_dss_experiment/examples/3-Grid-Impacts/3.2-Iowa-Feeder-with-EV-and-Solar-OpenDSS/iowa_data/mid_america_gdt_aug_7_2014.json\n",
    "!wget -P iowa_data/ https://raw.githubusercontent.com/caltech-netlab/acnportal-experiments/add_open_dss_experiment/examples/3-Grid-Impacts/3.2-Iowa-Feeder-with-EV-and-Solar-OpenDSS/iowa_data/mid_america_get_aug_7_2014.json\n",
    "\n",
    "!mkdir iowa_dist_feeder/\n",
    "!wget -P iowa_dist_feeder/ https://raw.githubusercontent.com/caltech-netlab/acnportal-experiments/add_open_dss_experiment/examples/3-Grid-Impacts/3.2-Iowa-Feeder-with-EV-and-Solar-OpenDSS/iowa_dist_feeder/Buscoords.dss\n",
    "!wget -P iowa_dist_feeder/ https://raw.githubusercontent.com/caltech-netlab/acnportal-experiments/add_open_dss_experiment/examples/3-Grid-Impacts/3.2-Iowa-Feeder-with-EV-and-Solar-OpenDSS/iowa_dist_feeder/Capacitor.dss\n",
    "!wget -P iowa_dist_feeder/ https://raw.githubusercontent.com/caltech-netlab/acnportal-experiments/add_open_dss_experiment/examples/3-Grid-Impacts/3.2-Iowa-Feeder-with-EV-and-Solar-OpenDSS/iowa_dist_feeder/CircuitBreaker.dss\n",
    "!wget -P iowa_dist_feeder/ https://raw.githubusercontent.com/caltech-netlab/acnportal-experiments/add_open_dss_experiment/examples/3-Grid-Impacts/3.2-Iowa-Feeder-with-EV-and-Solar-OpenDSS/iowa_dist_feeder/DistriTransformer.dss\n",
    "!wget -P iowa_dist_feeder/ https://raw.githubusercontent.com/caltech-netlab/acnportal-experiments/add_open_dss_experiment/examples/3-Grid-Impacts/3.2-Iowa-Feeder-with-EV-and-Solar-OpenDSS/iowa_dist_feeder/Line.dss\n",
    "!wget -P iowa_dist_feeder/ https://raw.githubusercontent.com/caltech-netlab/acnportal-experiments/add_open_dss_experiment/examples/3-Grid-Impacts/3.2-Iowa-Feeder-with-EV-and-Solar-OpenDSS/iowa_dist_feeder/Linecode.dss\n",
    "!wget -P iowa_dist_feeder/ https://raw.githubusercontent.com/caltech-netlab/acnportal-experiments/add_open_dss_experiment/examples/3-Grid-Impacts/3.2-Iowa-Feeder-with-EV-and-Solar-OpenDSS/iowa_dist_feeder/Load.dss\n",
    "!wget -P iowa_dist_feeder/ https://raw.githubusercontent.com/caltech-netlab/acnportal-experiments/add_open_dss_experiment/examples/3-Grid-Impacts/3.2-Iowa-Feeder-with-EV-and-Solar-OpenDSS/iowa_dist_feeder/Master.dss\n",
    "!wget -P iowa_dist_feeder/ https://raw.githubusercontent.com/caltech-netlab/acnportal-experiments/add_open_dss_experiment/examples/3-Grid-Impacts/3.2-Iowa-Feeder-with-EV-and-Solar-OpenDSS/iowa_dist_feeder/RegControl.dss\n",
    "!wget -P iowa_dist_feeder/ https://raw.githubusercontent.com/caltech-netlab/acnportal-experiments/add_open_dss_experiment/examples/3-Grid-Impacts/3.2-Iowa-Feeder-with-EV-and-Solar-OpenDSS/iowa_dist_feeder/SubTransformer.dss\n",
    "!wget -P iowa_dist_feeder/ https://raw.githubusercontent.com/caltech-netlab/acnportal-experiments/add_open_dss_experiment/examples/3-Grid-Impacts/3.2-Iowa-Feeder-with-EV-and-Solar-OpenDSS/iowa_dist_feeder/UnbalancedLoad.dss\n",
    "!wget -P iowa_dist_feeder/ https://raw.githubusercontent.com/caltech-netlab/acnportal-experiments/add_open_dss_experiment/examples/3-Grid-Impacts/3.2-Iowa-Feeder-with-EV-and-Solar-OpenDSS/iowa_dist_feeder/Update%20History.txt\n",
    "!wget -P iowa_dist_feeder/ https://raw.githubusercontent.com/caltech-netlab/acnportal-experiments/add_open_dss_experiment/examples/3-Grid-Impacts/3.2-Iowa-Feeder-with-EV-and-Solar-OpenDSS/iowa_dist_feeder/Vsource.dss"
   ]
  },
  {
   "cell_type": "code",
   "execution_count": 17,
   "metadata": {
    "id": "mm8nEjJtTUeq"
   },
   "outputs": [],
   "source": [
    "import numpy as np\n",
    "import pandas as pd\n",
    "import matplotlib.pyplot as plt\n",
    "import matplotlib.dates as mdates\n",
    "import pytz\n",
    "from datetime import datetime, date, timedelta\n",
    "from datetime import timedelta\n",
    "from copy import deepcopy\n",
    "from tqdm import tqdm\n",
    "\n",
    "import opendssdirect as dss\n",
    "\n",
    "from acnportal import acnsim\n",
    "from acnportal import algorithms\n",
    "\n",
    "# from adacharge import *\n",
    "\n",
    "import sys\n",
    "sys.path.append(\"src/\")\n",
    "from importlib import reload\n",
    "# noinspection PyUnresolvedReferences\n",
    "import composite_experiment\n",
    "reload(composite_experiment)\n",
    "# noinspection PyUnresolvedReferences\n",
    "from composite_experiment import ACNOpenDSSCompositeExperiment\n"
   ]
  },
  {
   "cell_type": "markdown",
   "metadata": {
    "id": "IwZIcauTTUeq"
   },
   "source": [
    "First, we look at the maximum and minimum voltages in the Iowa Test Feeder\n",
    "without any added ACNs or solar. We'll try two configurations; one with\n",
    "transformer voltage regulation and one without. We run each scenario for 24\n",
    "hours, starting on September 5, 2017. As data from all years is not available,\n",
    "the JPL ACN usage profile is from the same date in 2019, and the solar usage\n",
    "profile is from said date in 2014. September 5th was a weekday in both 2019 and\n",
    "2017.\n",
    "\n",
    "In the following code, we use an ACNOpenDSSCompositeExperiment class that wraps\n",
    "an OpenDSS experiment with optional additional ACN loads or solar generation\n",
    "added to the feeder. You can view the documentation for this class in the src\n",
    "directory."
   ]
  },
  {
   "cell_type": "code",
   "execution_count": 18,
   "metadata": {
    "id": "i8eEDqVrTUeq"
   },
   "outputs": [],
   "source": [
    "# Set default OpenDSS experiment configs.\n",
    "open_dss_experiment_config = {\n",
    "    \"start\": datetime(2017, 9, 5),\n",
    "    \"horizon\": 24 * 60,\n",
    "    \"period\": 5,\n",
    "    \"reg_control\": True,\n",
    "}\n",
    "\n",
    "open_dss_experiment_config_without_reg = {\n",
    "    \"start\": datetime(2017, 9, 5),\n",
    "    \"horizon\": 24 * 60,\n",
    "    \"period\": 5,\n",
    "    \"reg_control\": False,\n",
    "}"
   ]
  },
  {
   "cell_type": "code",
   "execution_count": 19,
   "metadata": {
    "colab": {
     "base_uri": "https://localhost:8080/"
    },
    "id": "gNwlXecvTUeq",
    "outputId": "c2f07728-b92a-4844-a725-221fb615c1f4"
   },
   "outputs": [
    {
     "name": "stderr",
     "output_type": "stream",
     "text": [
      " 10%|▉         | 28/288 [00:01<00:14, 18.47it/s]"
     ]
    },
    {
     "name": "stderr",
     "output_type": "stream",
     "text": [
      "100%|██████████| 288/288 [00:15<00:00, 18.81it/s]\n"
     ]
    }
   ],
   "source": [
    "baseline_model = ACNOpenDSSCompositeExperiment(open_dss_experiment_config)\n",
    "baseline_model.run_dss()"
   ]
  },
  {
   "cell_type": "code",
   "execution_count": 20,
   "metadata": {
    "colab": {
     "base_uri": "https://localhost:8080/"
    },
    "id": "5Y-5__VpTUes",
    "outputId": "a01994d6-fcbc-4b65-9f46-a5725814ec98"
   },
   "outputs": [
    {
     "name": "stderr",
     "output_type": "stream",
     "text": [
      "100%|██████████| 288/288 [00:14<00:00, 19.68it/s]\n"
     ]
    }
   ],
   "source": [
    "baseline_model_no_reg = ACNOpenDSSCompositeExperiment(open_dss_experiment_config_without_reg)\n",
    "baseline_model_no_reg.run_dss()"
   ]
  },
  {
   "cell_type": "markdown",
   "metadata": {
    "id": "GEZ_u56LTUes"
   },
   "source": [
    "Now that we've run the experiments, let's plot the minimum and maximum voltages\n",
    "at baseline for each case, with and without regulation. The 1.05 and 0.95 p.u.\n",
    "voltage deviation limits are also shown on the plot."
   ]
  },
  {
   "cell_type": "code",
   "execution_count": 21,
   "metadata": {
    "colab": {
     "base_uri": "https://localhost:8080/",
     "height": 483
    },
    "id": "h9Nzkeo4TUes",
    "outputId": "182ec051-28bc-4724-bf83-432c2d772831"
   },
   "outputs": [
    {
     "ename": "AttributeError",
     "evalue": "'Axes' object has no attribute 'is_first_col'",
     "output_type": "error",
     "traceback": [
      "\u001b[0;31m---------------------------------------------------------------------------\u001b[0m",
      "\u001b[0;31mAttributeError\u001b[0m                            Traceback (most recent call last)",
      "\u001b[1;32m/home/floris/acnportal-experiments/examples/3-Grid-Impacts/3.2-Iowa-Feeder-with-EV-and-Solar-OpenDSS/3_2_Iowa_Feeder_with_EV_and_Solar_OpenDSS.ipynb Cell 14\u001b[0m line \u001b[0;36m2\n\u001b[1;32m      <a href='vscode-notebook-cell://ssh-remote%2Bu-toxictoad/home/floris/acnportal-experiments/examples/3-Grid-Impacts/3.2-Iowa-Feeder-with-EV-and-Solar-OpenDSS/3_2_Iowa_Feeder_with_EV_and_Solar_OpenDSS.ipynb#X16sdnNjb2RlLXJlbW90ZQ%3D%3D?line=0'>1</a>\u001b[0m fig, ax \u001b[39m=\u001b[39m plt\u001b[39m.\u001b[39msubplots(\u001b[39m1\u001b[39m, \u001b[39m2\u001b[39m, figsize\u001b[39m=\u001b[39m(\u001b[39m16\u001b[39m, \u001b[39m8\u001b[39m), sharex\u001b[39m=\u001b[39m\u001b[39mTrue\u001b[39;00m)\n\u001b[0;32m----> <a href='vscode-notebook-cell://ssh-remote%2Bu-toxictoad/home/floris/acnportal-experiments/examples/3-Grid-Impacts/3.2-Iowa-Feeder-with-EV-and-Solar-OpenDSS/3_2_Iowa_Feeder_with_EV_and_Solar_OpenDSS.ipynb#X16sdnNjb2RlLXJlbW90ZQ%3D%3D?line=1'>2</a>\u001b[0m baseline_model\u001b[39m.\u001b[39;49mplot_dss_voltages(ax\u001b[39m=\u001b[39;49max[\u001b[39m0\u001b[39;49m], legend\u001b[39m=\u001b[39;49m\u001b[39mTrue\u001b[39;49;00m, title\u001b[39m=\u001b[39;49m\u001b[39m\"\u001b[39;49m\u001b[39mWith regulation\u001b[39;49m\u001b[39m\"\u001b[39;49m)\n\u001b[1;32m      <a href='vscode-notebook-cell://ssh-remote%2Bu-toxictoad/home/floris/acnportal-experiments/examples/3-Grid-Impacts/3.2-Iowa-Feeder-with-EV-and-Solar-OpenDSS/3_2_Iowa_Feeder_with_EV_and_Solar_OpenDSS.ipynb#X16sdnNjb2RlLXJlbW90ZQ%3D%3D?line=2'>3</a>\u001b[0m baseline_model_no_reg\u001b[39m.\u001b[39mplot_dss_voltages(ax\u001b[39m=\u001b[39max[\u001b[39m1\u001b[39m], title\u001b[39m=\u001b[39m\u001b[39m\"\u001b[39m\u001b[39mWithout regulation\u001b[39m\u001b[39m\"\u001b[39m)\n\u001b[1;32m      <a href='vscode-notebook-cell://ssh-remote%2Bu-toxictoad/home/floris/acnportal-experiments/examples/3-Grid-Impacts/3.2-Iowa-Feeder-with-EV-and-Solar-OpenDSS/3_2_Iowa_Feeder_with_EV_and_Solar_OpenDSS.ipynb#X16sdnNjb2RlLXJlbW90ZQ%3D%3D?line=3'>4</a>\u001b[0m fig\u001b[39m.\u001b[39msuptitle(\u001b[39m\"\u001b[39m\u001b[39mBaseline min/max voltages\u001b[39m\u001b[39m\"\u001b[39m)\n",
      "File \u001b[0;32m~/acnportal-experiments/examples/3-Grid-Impacts/3.2-Iowa-Feeder-with-EV-and-Solar-OpenDSS/src/composite_experiment.py:135\u001b[0m, in \u001b[0;36mACNOpenDSSCompositeExperiment.plot_dss_voltages\u001b[0;34m(self, ax, legend, title)\u001b[0m\n\u001b[1;32m    133\u001b[0m \u001b[39mdef\u001b[39;00m \u001b[39mplot_dss_voltages\u001b[39m(\u001b[39mself\u001b[39m, ax\u001b[39m=\u001b[39m\u001b[39mNone\u001b[39;00m, legend\u001b[39m=\u001b[39m\u001b[39mFalse\u001b[39;00m, title\u001b[39m=\u001b[39m\u001b[39mNone\u001b[39;00m):\n\u001b[1;32m    134\u001b[0m \u001b[39m    \u001b[39m\u001b[39m\"\"\" Plot maximum and minimum voltage in the distribution feeder. \"\"\"\u001b[39;00m\n\u001b[0;32m--> 135\u001b[0m     \u001b[39mself\u001b[39;49m\u001b[39m.\u001b[39;49mopen_dss_experiment\u001b[39m.\u001b[39;49mplot_voltage(ax\u001b[39m=\u001b[39;49max, legend\u001b[39m=\u001b[39;49mlegend, title\u001b[39m=\u001b[39;49mtitle)\n",
      "File \u001b[0;32m~/acnportal-experiments/examples/3-Grid-Impacts/3.2-Iowa-Feeder-with-EV-and-Solar-OpenDSS/src/opendss_experiment.py:163\u001b[0m, in \u001b[0;36mOpenDSSExperiment.plot_voltage\u001b[0;34m(self, ax, legend, title)\u001b[0m\n\u001b[1;32m    161\u001b[0m \u001b[39m\u001b[39m\u001b[39m\"\"\" Plot maximum and minimum voltage in the network. \"\"\"\u001b[39;00m\n\u001b[1;32m    162\u001b[0m df \u001b[39m=\u001b[39m \u001b[39mself\u001b[39m\u001b[39m.\u001b[39mvoltage_pu\n\u001b[0;32m--> 163\u001b[0m df\u001b[39m.\u001b[39;49mmax(axis\u001b[39m=\u001b[39;49m\u001b[39m0\u001b[39;49m)\u001b[39m.\u001b[39;49mplot(ax\u001b[39m=\u001b[39;49max, label\u001b[39m=\u001b[39;49m\u001b[39m\"\u001b[39;49m\u001b[39mMax voltage\u001b[39;49m\u001b[39m\"\u001b[39;49m)\n\u001b[1;32m    164\u001b[0m df\u001b[39m.\u001b[39mmin(axis\u001b[39m=\u001b[39m\u001b[39m0\u001b[39m)\u001b[39m.\u001b[39mplot(ax\u001b[39m=\u001b[39max, label\u001b[39m=\u001b[39m\u001b[39m\"\u001b[39m\u001b[39mMin voltage\u001b[39m\u001b[39m\"\u001b[39m)\n\u001b[1;32m    165\u001b[0m \u001b[39mif\u001b[39;00m ax \u001b[39mis\u001b[39;00m \u001b[39mNone\u001b[39;00m:\n",
      "File \u001b[0;32m~/miniforge3/envs/acn_py39/lib/python3.9/site-packages/pandas/plotting/_core.py:949\u001b[0m, in \u001b[0;36mPlotAccessor.__call__\u001b[0;34m(self, *args, **kwargs)\u001b[0m\n\u001b[1;32m    946\u001b[0m             label_name \u001b[39m=\u001b[39m label_kw \u001b[39mor\u001b[39;00m data\u001b[39m.\u001b[39mcolumns\n\u001b[1;32m    947\u001b[0m             data\u001b[39m.\u001b[39mcolumns \u001b[39m=\u001b[39m label_name\n\u001b[0;32m--> 949\u001b[0m \u001b[39mreturn\u001b[39;00m plot_backend\u001b[39m.\u001b[39;49mplot(data, kind\u001b[39m=\u001b[39;49mkind, \u001b[39m*\u001b[39;49m\u001b[39m*\u001b[39;49mkwargs)\n",
      "File \u001b[0;32m~/miniforge3/envs/acn_py39/lib/python3.9/site-packages/pandas/plotting/_matplotlib/__init__.py:61\u001b[0m, in \u001b[0;36mplot\u001b[0;34m(data, kind, **kwargs)\u001b[0m\n\u001b[1;32m     59\u001b[0m         kwargs[\u001b[39m\"\u001b[39m\u001b[39max\u001b[39m\u001b[39m\"\u001b[39m] \u001b[39m=\u001b[39m \u001b[39mgetattr\u001b[39m(ax, \u001b[39m\"\u001b[39m\u001b[39mleft_ax\u001b[39m\u001b[39m\"\u001b[39m, ax)\n\u001b[1;32m     60\u001b[0m plot_obj \u001b[39m=\u001b[39m PLOT_CLASSES[kind](data, \u001b[39m*\u001b[39m\u001b[39m*\u001b[39mkwargs)\n\u001b[0;32m---> 61\u001b[0m plot_obj\u001b[39m.\u001b[39;49mgenerate()\n\u001b[1;32m     62\u001b[0m plot_obj\u001b[39m.\u001b[39mdraw()\n\u001b[1;32m     63\u001b[0m \u001b[39mreturn\u001b[39;00m plot_obj\u001b[39m.\u001b[39mresult\n",
      "File \u001b[0;32m~/miniforge3/envs/acn_py39/lib/python3.9/site-packages/pandas/plotting/_matplotlib/core.py:274\u001b[0m, in \u001b[0;36mMPLPlot.generate\u001b[0;34m(self)\u001b[0m\n\u001b[1;32m    272\u001b[0m \u001b[39mself\u001b[39m\u001b[39m.\u001b[39m_add_table()\n\u001b[1;32m    273\u001b[0m \u001b[39mself\u001b[39m\u001b[39m.\u001b[39m_make_legend()\n\u001b[0;32m--> 274\u001b[0m \u001b[39mself\u001b[39;49m\u001b[39m.\u001b[39;49m_adorn_subplots()\n\u001b[1;32m    276\u001b[0m \u001b[39mfor\u001b[39;00m ax \u001b[39min\u001b[39;00m \u001b[39mself\u001b[39m\u001b[39m.\u001b[39maxes:\n\u001b[1;32m    277\u001b[0m     \u001b[39mself\u001b[39m\u001b[39m.\u001b[39m_post_plot_logic_common(ax, \u001b[39mself\u001b[39m\u001b[39m.\u001b[39mdata)\n",
      "File \u001b[0;32m~/miniforge3/envs/acn_py39/lib/python3.9/site-packages/pandas/plotting/_matplotlib/core.py:468\u001b[0m, in \u001b[0;36mMPLPlot._adorn_subplots\u001b[0;34m(self)\u001b[0m\n\u001b[1;32m    466\u001b[0m     all_axes \u001b[39m=\u001b[39m \u001b[39mself\u001b[39m\u001b[39m.\u001b[39m_get_subplots()\n\u001b[1;32m    467\u001b[0m     nrows, ncols \u001b[39m=\u001b[39m \u001b[39mself\u001b[39m\u001b[39m.\u001b[39m_get_axes_layout()\n\u001b[0;32m--> 468\u001b[0m     _handle_shared_axes(\n\u001b[1;32m    469\u001b[0m         axarr\u001b[39m=\u001b[39;49mall_axes,\n\u001b[1;32m    470\u001b[0m         nplots\u001b[39m=\u001b[39;49m\u001b[39mlen\u001b[39;49m(all_axes),\n\u001b[1;32m    471\u001b[0m         naxes\u001b[39m=\u001b[39;49mnrows \u001b[39m*\u001b[39;49m ncols,\n\u001b[1;32m    472\u001b[0m         nrows\u001b[39m=\u001b[39;49mnrows,\n\u001b[1;32m    473\u001b[0m         ncols\u001b[39m=\u001b[39;49mncols,\n\u001b[1;32m    474\u001b[0m         sharex\u001b[39m=\u001b[39;49m\u001b[39mself\u001b[39;49m\u001b[39m.\u001b[39;49msharex,\n\u001b[1;32m    475\u001b[0m         sharey\u001b[39m=\u001b[39;49m\u001b[39mself\u001b[39;49m\u001b[39m.\u001b[39;49msharey,\n\u001b[1;32m    476\u001b[0m     )\n\u001b[1;32m    478\u001b[0m \u001b[39mfor\u001b[39;00m ax \u001b[39min\u001b[39;00m \u001b[39mself\u001b[39m\u001b[39m.\u001b[39maxes:\n\u001b[1;32m    479\u001b[0m     \u001b[39mif\u001b[39;00m \u001b[39mself\u001b[39m\u001b[39m.\u001b[39myticks \u001b[39mis\u001b[39;00m \u001b[39mnot\u001b[39;00m \u001b[39mNone\u001b[39;00m:\n",
      "File \u001b[0;32m~/miniforge3/envs/acn_py39/lib/python3.9/site-packages/pandas/plotting/_matplotlib/tools.py:331\u001b[0m, in \u001b[0;36m_handle_shared_axes\u001b[0;34m(axarr, nplots, naxes, nrows, ncols, sharex, sharey)\u001b[0m\n\u001b[1;32m    326\u001b[0m \u001b[39mif\u001b[39;00m ncols \u001b[39m>\u001b[39m \u001b[39m1\u001b[39m:\n\u001b[1;32m    327\u001b[0m     \u001b[39mfor\u001b[39;00m ax \u001b[39min\u001b[39;00m axarr:\n\u001b[1;32m    328\u001b[0m         \u001b[39m# only the first column should get y labels -> set all other to\u001b[39;00m\n\u001b[1;32m    329\u001b[0m         \u001b[39m# off as we only have labels in the first column and we always\u001b[39;00m\n\u001b[1;32m    330\u001b[0m         \u001b[39m# have a subplot there, we can skip the layout test\u001b[39;00m\n\u001b[0;32m--> 331\u001b[0m         \u001b[39mif\u001b[39;00m ax\u001b[39m.\u001b[39;49mis_first_col():\n\u001b[1;32m    332\u001b[0m             \u001b[39mcontinue\u001b[39;00m\n\u001b[1;32m    333\u001b[0m         \u001b[39mif\u001b[39;00m sharey \u001b[39mor\u001b[39;00m \u001b[39mlen\u001b[39m(ax\u001b[39m.\u001b[39mget_shared_y_axes()\u001b[39m.\u001b[39mget_siblings(ax)) \u001b[39m>\u001b[39m \u001b[39m1\u001b[39m:\n",
      "\u001b[0;31mAttributeError\u001b[0m: 'Axes' object has no attribute 'is_first_col'"
     ]
    },
    {
     "data": {
      "image/png": "[encoded data removed]",
      "text/plain": [
       "<Figure size 1600x800 with 2 Axes>"
      ]
     },
     "metadata": {},
     "output_type": "display_data"
    }
   ],
   "source": [
    "fig, ax = plt.subplots(1, 2, figsize=(16, 8), sharex=True)\n",
    "baseline_model.plot_dss_voltages(ax=ax[0], legend=True, title=\"With regulation\")\n",
    "baseline_model_no_reg.plot_dss_voltages(ax=ax[1], title=\"Without regulation\")\n",
    "fig.suptitle(\"Baseline min/max voltages\");"
   ]
  },
  {
   "cell_type": "markdown",
   "metadata": {
    "id": "dIdU9afqTUet"
   },
   "source": [
    "Without voltage regulation this feeder experiences significant under-voltage issues. Because of this, we will constrain the rest of the experiments to the case with voltage regulation, as this is more realistic."
   ]
  },
  {
   "cell_type": "markdown",
   "metadata": {
    "id": "7okNoObgTUet"
   },
   "source": [
    "## Adding an adaptive charging network (ACN)\n",
    "\n",
    "### Uncontrolled charging\n",
    "Now, let's add one JPL ACN, with usage according to September 5, 2019 to node 2053 of the Iowa Feeder. This node's transformer has capacity 225 kVa, so large-scale EV charging may conceivably be added to this site, especially if scheduled charging is used to avoid overloading the transformer. However, let's first run a simple uncontrolled charging scenario, in which each EV is allowed to charge at its maximum rate. The configuration for such an experiment is below. We first specify ACN configurations that are unchanged throughout our experiments, and then set an algorithm for each experiment."
   ]
  },
  {
   "cell_type": "code",
   "execution_count": 29,
   "metadata": {
    "id": "hzzozM1HTUet"
   },
   "outputs": [],
   "source": [
    "acn_base_experiment_configs = {\"2053\": {\n",
    "    \"site\": \"jpl\",\n",
    "    \"start\": datetime(2019, 9, 5),\n",
    "    \"end\": datetime(2019, 9, 6),\n",
    "    \"alg_name\": None,\n",
    "    \"tariff_name\": \"sce_tou_ev_4_march_2019\",\n",
    "    \"external_load\": baseline_model.open_dss_experiment.P[\"load_2053\"].to_numpy(),\n",
    "    \"external_load_name\": \"load_2053_20170905\",\n",
    "    \"bus_transformer_cap\": 225,\n",
    "}}"
   ]
  },
  {
   "cell_type": "code",
   "execution_count": 30,
   "metadata": {
    "id": "P686SXpzTUet"
   },
   "outputs": [],
   "source": [
    "# Set ACN-Sim Experiment Algorithm.\n",
    "acn_unctrl_configs = deepcopy(acn_base_experiment_configs)\n",
    "for config in acn_unctrl_configs.values():\n",
    "    config[\"alg_name\"] = \"unctrl\"\n",
    "\n",
    "# Build composite experiment.\n",
    "unctrl_2053 = ACNOpenDSSCompositeExperiment(\n",
    "    open_dss_experiment_config, \n",
    "    acn_unctrl_configs,\n",
    ")"
   ]
  },
  {
   "cell_type": "code",
   "execution_count": 31,
   "metadata": {
    "collapsed": true,
    "id": "Tz7CtZPsTUet",
    "jupyter": {
     "outputs_hidden": true
    }
   },
   "outputs": [],
   "source": [
    "# Run ACN-Sim Experiment\n",
    "unctrl_2053.run_acn()\n",
    "\n",
    "# Add EV load to the OpenDSS Experiment \n",
    "unctrl_2053.add_acn_loads()"
   ]
  },
  {
   "cell_type": "code",
   "execution_count": 32,
   "metadata": {
    "colab": {
     "base_uri": "https://localhost:8080/"
    },
    "id": "u2dKLnXzTUeu",
    "outputId": "c6c6f036-4924-43ce-86d1-c4d423c52551"
   },
   "outputs": [
    {
     "name": "stderr",
     "output_type": "stream",
     "text": [
      "100%|██████████| 288/288 [00:15<00:00, 18.56it/s]\n"
     ]
    }
   ],
   "source": [
    "# Run OpenDSS Experiment\n",
    "unctrl_2053.run_dss(detailed_metrics=True)"
   ]
  },
  {
   "cell_type": "markdown",
   "metadata": {
    "id": "91NJIBz-TUeu"
   },
   "source": [
    "Let's see the effects of adding an uncontrolled ACN to the grid on the voltage\n",
    "bounds."
   ]
  },
  {
   "cell_type": "code",
   "execution_count": 33,
   "metadata": {},
   "outputs": [
    {
     "data": {
      "text/plain": [
       "[<matplotlib.lines.Line2D at 0x7fdae26a6370>]"
      ]
     },
     "execution_count": 33,
     "metadata": {},
     "output_type": "execute_result"
    },
    {
     "data": {
      "image/png": "[encoded data removed]",
      "text/plain": [
       "<Figure size 640x480 with 1 Axes>"
      ]
     },
     "metadata": {},
     "output_type": "display_data"
    }
   ],
   "source": [
    "plt.plot(acnsim.aggregate_current(unctrl_2053.acn_experiments['2053'].sim))"
   ]
  },
  {
   "cell_type": "code",
   "execution_count": 34,
   "metadata": {
    "colab": {
     "base_uri": "https://localhost:8080/",
     "height": 524
    },
    "id": "NfnhiqwdTUeu",
    "outputId": "47b4576f-f02f-49c1-f3c3-ab9333ac2a66"
   },
   "outputs": [
    {
     "data": {
      "image/png": "[encoded data removed]",
      "text/plain": [
       "<Figure size 800x800 with 1 Axes>"
      ]
     },
     "metadata": {},
     "output_type": "display_data"
    }
   ],
   "source": [
    "fig, ax = plt.subplots(figsize=(8, 8), sharex=True)\n",
    "unctrl_2053.plot_dss_voltages(ax, legend=True, title=\"Uncontrolled with Regulation\")"
   ]
  },
  {
   "cell_type": "code",
   "execution_count": 35,
   "metadata": {
    "colab": {
     "base_uri": "https://localhost:8080/",
     "height": 111
    },
    "id": "xBgh4INGTUeu",
    "outputId": "b8da0919-73ba-4006-e313-5df6d6a9718c"
   },
   "outputs": [
    {
     "ename": "AttributeError",
     "evalue": "'Index' object has no attribute 'remove_unused_levels'",
     "output_type": "error",
     "traceback": [
      "\u001b[0;31m---------------------------------------------------------------------------\u001b[0m",
      "\u001b[0;31mAttributeError\u001b[0m                            Traceback (most recent call last)",
      "\u001b[1;32m/home/floris/acnportal-experiments/examples/3-Grid-Impacts/3.2-Iowa-Feeder-with-EV-and-Solar-OpenDSS/3_2_Iowa_Feeder_with_EV_and_Solar_OpenDSS.ipynb Cell 24\u001b[0m line \u001b[0;36m1\n\u001b[0;32m----> <a href='vscode-notebook-cell://ssh-remote%2Bu-toxictoad/home/floris/acnportal-experiments/examples/3-Grid-Impacts/3.2-Iowa-Feeder-with-EV-and-Solar-OpenDSS/3_2_Iowa_Feeder_with_EV_and_Solar_OpenDSS.ipynb#X32sdnNjb2RlLXJlbW90ZQ%3D%3D?line=0'>1</a>\u001b[0m pd\u001b[39m.\u001b[39;49mconcat(pd\u001b[39m.\u001b[39;49mDataFrame(val) \u001b[39mfor\u001b[39;49;00m val \u001b[39min\u001b[39;49;00m unctrl_2053\u001b[39m.\u001b[39;49mopen_dss_experiment\u001b[39m.\u001b[39;49m_overload_dict\u001b[39m.\u001b[39;49mvalues())[\u001b[39m\"\u001b[39;49m\u001b[39m \u001b[39;49m\u001b[39m%\u001b[39;49m\u001b[39mNormal\u001b[39;49m\u001b[39m\"\u001b[39;49m]\u001b[39m.\u001b[39;49mgroupby(\u001b[39m\"\u001b[39;49m\u001b[39mElement\u001b[39;49m\u001b[39m\"\u001b[39;49m)\u001b[39m.\u001b[39;49mdescribe()\n",
      "File \u001b[0;32m~/miniforge3/envs/acn_py39/lib/python3.9/site-packages/pandas/core/groupby/generic.py:682\u001b[0m, in \u001b[0;36mSeriesGroupBy.describe\u001b[0;34m(self, **kwargs)\u001b[0m\n\u001b[1;32m    680\u001b[0m \u001b[39mif\u001b[39;00m \u001b[39mself\u001b[39m\u001b[39m.\u001b[39maxis \u001b[39m==\u001b[39m \u001b[39m1\u001b[39m:\n\u001b[1;32m    681\u001b[0m     \u001b[39mreturn\u001b[39;00m result\u001b[39m.\u001b[39mT\n\u001b[0;32m--> 682\u001b[0m \u001b[39mreturn\u001b[39;00m result\u001b[39m.\u001b[39;49munstack()\n",
      "File \u001b[0;32m~/miniforge3/envs/acn_py39/lib/python3.9/site-packages/pandas/core/series.py:3903\u001b[0m, in \u001b[0;36mSeries.unstack\u001b[0;34m(self, level, fill_value)\u001b[0m\n\u001b[1;32m   3864\u001b[0m \u001b[39m\u001b[39m\u001b[39m\"\"\"\u001b[39;00m\n\u001b[1;32m   3865\u001b[0m \u001b[39mUnstack, also known as pivot, Series with MultiIndex to produce DataFrame.\u001b[39;00m\n\u001b[1;32m   3866\u001b[0m \n\u001b[0;32m   (...)\u001b[0m\n\u001b[1;32m   3899\u001b[0m \u001b[39mb    2    4\u001b[39;00m\n\u001b[1;32m   3900\u001b[0m \u001b[39m\"\"\"\u001b[39;00m\n\u001b[1;32m   3901\u001b[0m \u001b[39mfrom\u001b[39;00m \u001b[39mpandas\u001b[39;00m\u001b[39m.\u001b[39;00m\u001b[39mcore\u001b[39;00m\u001b[39m.\u001b[39;00m\u001b[39mreshape\u001b[39;00m\u001b[39m.\u001b[39;00m\u001b[39mreshape\u001b[39;00m \u001b[39mimport\u001b[39;00m unstack\n\u001b[0;32m-> 3903\u001b[0m \u001b[39mreturn\u001b[39;00m unstack(\u001b[39mself\u001b[39;49m, level, fill_value)\n",
      "File \u001b[0;32m~/miniforge3/envs/acn_py39/lib/python3.9/site-packages/pandas/core/reshape/reshape.py:424\u001b[0m, in \u001b[0;36munstack\u001b[0;34m(obj, level, fill_value)\u001b[0m\n\u001b[1;32m    422\u001b[0m \u001b[39mif\u001b[39;00m is_extension_array_dtype(obj\u001b[39m.\u001b[39mdtype):\n\u001b[1;32m    423\u001b[0m     \u001b[39mreturn\u001b[39;00m _unstack_extension_series(obj, level, fill_value)\n\u001b[0;32m--> 424\u001b[0m unstacker \u001b[39m=\u001b[39m _Unstacker(\n\u001b[1;32m    425\u001b[0m     obj\u001b[39m.\u001b[39;49mindex, level\u001b[39m=\u001b[39;49mlevel, constructor\u001b[39m=\u001b[39;49mobj\u001b[39m.\u001b[39;49m_constructor_expanddim,\n\u001b[1;32m    426\u001b[0m )\n\u001b[1;32m    427\u001b[0m \u001b[39mreturn\u001b[39;00m unstacker\u001b[39m.\u001b[39mget_result(\n\u001b[1;32m    428\u001b[0m     obj\u001b[39m.\u001b[39mvalues, value_columns\u001b[39m=\u001b[39m\u001b[39mNone\u001b[39;00m, fill_value\u001b[39m=\u001b[39mfill_value\n\u001b[1;32m    429\u001b[0m )\n",
      "File \u001b[0;32m~/miniforge3/envs/acn_py39/lib/python3.9/site-packages/pandas/core/reshape/reshape.py:92\u001b[0m, in \u001b[0;36m_Unstacker.__init__\u001b[0;34m(self, index, level, constructor)\u001b[0m\n\u001b[1;32m     89\u001b[0m     constructor \u001b[39m=\u001b[39m DataFrame\n\u001b[1;32m     90\u001b[0m \u001b[39mself\u001b[39m\u001b[39m.\u001b[39mconstructor \u001b[39m=\u001b[39m constructor\n\u001b[0;32m---> 92\u001b[0m \u001b[39mself\u001b[39m\u001b[39m.\u001b[39mindex \u001b[39m=\u001b[39m index\u001b[39m.\u001b[39;49mremove_unused_levels()\n\u001b[1;32m     94\u001b[0m \u001b[39mself\u001b[39m\u001b[39m.\u001b[39mlevel \u001b[39m=\u001b[39m \u001b[39mself\u001b[39m\u001b[39m.\u001b[39mindex\u001b[39m.\u001b[39m_get_level_number(level)\n\u001b[1;32m     96\u001b[0m \u001b[39m# when index includes `nan`, need to lift levels/strides by 1\u001b[39;00m\n",
      "\u001b[0;31mAttributeError\u001b[0m: 'Index' object has no attribute 'remove_unused_levels'"
     ]
    }
   ],
   "source": [
    "pd.concat(pd.DataFrame(val) for val in unctrl_2053.open_dss_experiment._overload_dict.values())[\" %Normal\"].groupby(\"Element\").describe()"
   ]
  },
  {
   "cell_type": "markdown",
   "metadata": {
    "id": "RJxtQSWTTUev"
   },
   "source": [
    "Adding an uncontrolled JPL ACN to node 2053 of the feeder causes large under-\n",
    "voltage issues and transformer overlaod (up to 245% overuse).\n",
    "Clearly, if we wish to add such an ACN without installing\n",
    "new electrical infrastructure, we must schedule charging in some way\n",
    "that is reactive to the already-existing demands of the system.\n",
    "\n",
    "### Load flattening\n",
    "\n",
    "One way to respond to the demand of the loads already at node 2053 is to\n",
    "schedule EV charging such that the total load at the node is flattened. We use\n",
    "a model predictive control algorithm with a primary objective of charging all\n",
    "EVs and a secondary objective of flattening the total load on the node. For\n",
    "example, this algorithm will avoid charging EVs when external load at 2053 is\n",
    "high, and will charge EVs more when external load is low, such that the total\n",
    "load is pushed towards 0. Additionally, the MPC framework allows for the sum of\n",
    "external load and EV load to be limited by the transformer capacity of 225,\n",
    "which we enforce to ensure the control parameters are reasonable.\n",
    "Let's see if scheduling charging in this manner\n",
    "decreases the undervoltage issue we observed for uncontrolled charging.\n",
    "\n",
    "For this experiment, we will need more than 288 periods of baseline load\n",
    "data, as the ACN experiment runs for longer. So, we first run the baseline \n",
    "scenario over a longer horizon."
   ]
  },
  {
   "cell_type": "code",
   "execution_count": null,
   "metadata": {
    "colab": {
     "base_uri": "https://localhost:8080/"
    },
    "id": "FyYzp2ayTUev",
    "outputId": "0dabfc03-9e9f-4aa3-a358-96f8ca1b7fbf"
   },
   "outputs": [],
   "source": [
    "longer_open_dss_experiment_config = deepcopy(open_dss_experiment_config)\n",
    "longer_open_dss_experiment_config[\"horizon\"] *= 2\n",
    "longer_baseline = ACNOpenDSSCompositeExperiment(\n",
    "    longer_open_dss_experiment_config\n",
    ")\n",
    "longer_baseline.run_dss()"
   ]
  },
  {
   "cell_type": "code",
   "execution_count": null,
   "metadata": {
    "id": "LP3FUQqvTUew"
   },
   "outputs": [],
   "source": [
    "# Set ACN-Sim Experiment Algorithm.\n",
    "acn_load_flattening_configs = deepcopy(acn_base_experiment_configs)\n",
    "for config in acn_load_flattening_configs.values():\n",
    "    config[\"alg_name\"] = \"load_flattening\"\n",
    "    config[\"external_load\"] = longer_baseline.open_dss_experiment.P[\"load_2053\"].to_numpy()\n",
    "\n",
    "# Build composite experiment.\n",
    "load_flattening_2053 = ACNOpenDSSCompositeExperiment(\n",
    "    open_dss_experiment_config, \n",
    "    acn_load_flattening_configs\n",
    ")"
   ]
  },
  {
   "cell_type": "code",
   "execution_count": null,
   "metadata": {
    "colab": {
     "base_uri": "https://localhost:8080/"
    },
    "id": "qUM7FUj0TUew",
    "outputId": "a9509999-67b2-4a48-80b5-c6e28a23a0b6"
   },
   "outputs": [],
   "source": [
    "# Run ACN-Sim Experiment\n",
    "load_flattening_2053.run_acn()\n",
    "\n",
    "# Add EV load to the OpenDSS Experiment \n",
    "load_flattening_2053.add_acn_loads()"
   ]
  },
  {
   "cell_type": "code",
   "execution_count": null,
   "metadata": {
    "colab": {
     "base_uri": "https://localhost:8080/"
    },
    "id": "FMP0gyQhTUew",
    "outputId": "252ba53f-0c16-42e2-bba3-bb4deeae1dad"
   },
   "outputs": [],
   "source": [
    "# Run OpenDSS Experiment\n",
    "load_flattening_2053.run_dss(detailed_metrics=True)"
   ]
  },
  {
   "cell_type": "code",
   "execution_count": null,
   "metadata": {
    "colab": {
     "base_uri": "https://localhost:8080/",
     "height": 524
    },
    "id": "Xov_UjDITUex",
    "outputId": "f1236d3f-7256-4dbb-9a54-3a4e577c5cee"
   },
   "outputs": [],
   "source": [
    "fig, ax = plt.subplots(figsize=(8, 8), sharex=True)\n",
    "load_flattening_2053.plot_dss_voltages(ax, legend=True, title=\"Load Flattening with Regulation\")"
   ]
  },
  {
   "cell_type": "code",
   "execution_count": null,
   "metadata": {
    "colab": {
     "base_uri": "https://localhost:8080/"
    },
    "id": "9fVfg6j8TUex",
    "outputId": "7d127b09-779c-4028-86fd-1e81a8669df1"
   },
   "outputs": [],
   "source": [
    "pd.concat(pd.DataFrame(val) for val in load_flattening_2053.open_dss_experiment._overload_dict.values())[\" %Normal\"]"
   ]
  },
  {
   "cell_type": "code",
   "execution_count": null,
   "metadata": {},
   "outputs": [],
   "source": [
    "# event_queue = acnsim.EventQueue.from_json(\"colab_data.json\") # file does not exist\n",
    "event_queue_new = unctrl_2053.acn_experiments[\"2053\"].get_events()"
   ]
  },
  {
   "cell_type": "code",
   "execution_count": null,
   "metadata": {},
   "outputs": [],
   "source": [
    "# file does not exist due to prblems above\n",
    "\n",
    "# for event_old, event_new in zip(event_queue._queue, event_queue_new._queue):\n",
    "#     for key in ['session_id', 'arrival']:\n",
    "#         print(f\"Key {key} for old event: {getattr(event_old[1].ev, key)} for new event: {getattr(event_new[1].ev, key)}\")"
   ]
  },
  {
   "cell_type": "markdown",
   "metadata": {
    "id": "daYfQQ2tTUex"
   },
   "source": [
    "(The empty series means there were no transformer overloads)\n",
    "\n",
    "We see that the minimum voltage profile still contains a dip later in the day,\n",
    "which is due to the load flattening algorithm increasing the aggregate charging\n",
    "rate to meet the additional demand caused by EV arrivals later in the day. With\n",
    "this algorithm, we don't have the same under voltage issues we had with\n",
    "uncontrolled charging."
   ]
  },
  {
   "cell_type": "markdown",
   "metadata": {
    "id": "ZLVEdNUfTUex"
   },
   "source": [
    "## Solar Data\n",
    "\n",
    "We load solar data taken from NREL's System Advior Model (SAM) \n",
    "(https://sam.nrel.gov/). The data is for a 270 kW DC solar array on Sept 5,\n",
    "2014 in Iowa, using default SAM parameters. 270 kW DC was chosen because it\n",
    "corresponds to just below 225 kW AC at a 1.22 ratio, allowing for use with a\n",
    "225 kVA transformer on bus 2053 of the feeder."
   ]
  },
  {
   "cell_type": "code",
   "execution_count": null,
   "metadata": {
    "id": "0aNDnO6bTUey"
   },
   "outputs": [],
   "source": [
    "pv_year = 2014\n",
    "pv_data = pd.read_csv(\"data/results_des_moines_autosized_270kWdc.csv\")\n",
    "pv_data[\"Time stamp\"] = [f\"{pv_year} {ts}\" for ts in pv_data[\"Time stamp\"]]\n",
    "pv_data[\"Time stamp\"] = pd.to_datetime(pv_data[\"Time stamp\"])\n",
    "pv_data = pv_data.set_index(\"Time stamp\")\n",
    "# Rescale PV generation to AC capacity, and follow consumer-perspective sign convention (negative for generation)\n",
    "pv_data[\"AC Power | (kW)\"] = -1 * pv_data[\"Array DC power | (kW)\"] / 1.22\n",
    "pv_data = pv_data.resample(\"5T\").ffill()\n",
    "trunc_gen = pv_data.loc[datetime(pv_year, 9, 5):][\"AC Power | (kW)\"].to_numpy()\n",
    "external_load_2053 = longer_baseline.open_dss_experiment.P[\"load_2053\"].to_numpy()\n",
    "external_load_and_gen_2053 = external_load_2053 + trunc_gen[:len(external_load_2053)]\n",
    "solar_gen = trunc_gen[:len(external_load_2053)]"
   ]
  },
  {
   "cell_type": "code",
   "execution_count": null,
   "metadata": {
    "id": "q8bjuaiOTUey"
   },
   "outputs": [],
   "source": [
    "# Set default ACN-Sim experiment configs.\n",
    "acn_solar_experiment_configs = {\"2053\": {\n",
    "    \"site\": \"jpl\",\n",
    "    \"start\": datetime(2019, 9, 5),\n",
    "    \"end\": datetime(2019, 9, 6),\n",
    "    \"alg_name\": None,\n",
    "    \"tariff_name\": \"sce_tou_ev_4_march_2019\",\n",
    "    \"external_load\": external_load_and_gen_2053,\n",
    "    \"external_load_name\": \"load_gen_2053_20170905\",\n",
    "    \"bus_transformer_cap\": 225,\n",
    "}}"
   ]
  },
  {
   "cell_type": "code",
   "execution_count": null,
   "metadata": {
    "id": "QxsZ285STUey"
   },
   "outputs": [],
   "source": [
    "# Set ACN-Sim Experiment Algorithm.\n",
    "acn_solar_load_flattening_configs = deepcopy(acn_solar_experiment_configs)\n",
    "for config in acn_solar_load_flattening_configs.values():\n",
    "    config[\"alg_name\"] = \"load_flattening\"\n",
    "\n",
    "# Build composite experiment.\n",
    "solar_load_flattening_2053 = ACNOpenDSSCompositeExperiment(\n",
    "    open_dss_experiment_config, \n",
    "    acn_solar_load_flattening_configs, \n",
    ")\n"
   ]
  },
  {
   "cell_type": "code",
   "execution_count": null,
   "metadata": {
    "colab": {
     "base_uri": "https://localhost:8080/"
    },
    "collapsed": true,
    "id": "dTU5MGx5TUey",
    "jupyter": {
     "outputs_hidden": true
    },
    "outputId": "c7457af6-e820-431a-ce49-857dd8a6267d"
   },
   "outputs": [],
   "source": [
    "# Run ACN-Sim Experiment\n",
    "solar_load_flattening_2053.run_acn()\n",
    "\n",
    "# Add EV load to the OpenDSS Experiment \n",
    "solar_load_flattening_2053.add_acn_loads()\n",
    "\n",
    "# Add solar load to the OpenDSS Experiment\n",
    "solar_load_flattening_2053.add_general_loads(solar_gen)"
   ]
  },
  {
   "cell_type": "code",
   "execution_count": null,
   "metadata": {
    "colab": {
     "base_uri": "https://localhost:8080/"
    },
    "id": "If1ILvcSTUez",
    "outputId": "0a825851-db18-44c4-9a01-7d99e51315c0"
   },
   "outputs": [],
   "source": [
    "# Run OpenDSS Experiment\n",
    "solar_load_flattening_2053.run_dss(detailed_metrics=True)"
   ]
  },
  {
   "cell_type": "code",
   "execution_count": null,
   "metadata": {
    "colab": {
     "base_uri": "https://localhost:8080/",
     "height": 524
    },
    "id": "a8oFhcdITUez",
    "outputId": "3d8227b1-3acc-4bd7-8477-22442705a51c"
   },
   "outputs": [],
   "source": [
    "fig, ax = plt.subplots(figsize=(8, 8), sharex=True)\n",
    "solar_load_flattening_2053.plot_dss_voltages(ax, legend=True, title=\"Load Flattening+Solar with Regulation\")"
   ]
  },
  {
   "cell_type": "code",
   "execution_count": null,
   "metadata": {
    "colab": {
     "base_uri": "https://localhost:8080/"
    },
    "id": "WCm1F2qpTUez",
    "outputId": "c083b1ff-7930-4861-fda5-da8ac8be715e"
   },
   "outputs": [],
   "source": [
    "pd.concat(pd.DataFrame(val) for val in solar_load_flattening_2053.open_dss_experiment._overload_dict.values())[\" %Normal\"]"
   ]
  },
  {
   "cell_type": "markdown",
   "metadata": {
    "id": "l3EoWC5gTUez"
   },
   "source": [
    "(The empty series means there were no transformer overloads)\n",
    "\n",
    "We see that the minimum and maximum voltage profiles look very similar to the\n",
    "baseline profiles. The interpretation of this is twofold: first, adding the one\n",
    "solar array to the feeder does not cause an over-voltage issue in the grid.\n",
    "Second, load flattening against solar (i.e. charging EVs when solar is more\n",
    "available) eliminates any under-voltage issues from the ACN; moreover, solar\n",
    "and load flattening essentially eliminates any effect of the ACN on the minimal\n",
    "voltage.\n",
    "\n",
    "The plot below shows the under-voltage deviations from all scenarios together.\n",
    "Note that the curves for the baseline and load flattening + solar\n",
    "under-voltages are essentially co-located. With solar, we can make it so that\n",
    "the ACN has no effect on upper and lower voltage bounds of the entire grid."
   ]
  },
  {
   "cell_type": "code",
   "execution_count": null,
   "metadata": {
    "colab": {
     "base_uri": "https://localhost:8080/",
     "height": 259
    },
    "id": "DpKpYQ2ATUe0",
    "outputId": "cdcf7f9d-c5f9-4c08-bca8-38da7d8de396"
   },
   "outputs": [],
   "source": [
    "fig, ax = plt.subplots(sharex=True)\n",
    "style = {\n",
    "    \"linewidth\": 2,\n",
    "    \"alpha\": .85,\n",
    "}\n",
    "baseline_model.open_dss_experiment.voltage_pu.min().plot(**style)\n",
    "unctrl_2053.open_dss_experiment.voltage_pu.min().plot(**style)\n",
    "load_flattening_2053.open_dss_experiment.voltage_pu.min().plot(**style)\n",
    "solar_load_flattening_2053.open_dss_experiment.voltage_pu.min().plot(**style)\n",
    "ax.set_ylabel(\"Minimum Voltage Mag. (pu)\", fontsize=10.5)\n",
    "ax.legend([\"Baseline\", \"Uncontrolled\", \"MPC\", \"MPC w/Solar\"])\n",
    "ax.spines['right'].set_visible(False)\n",
    "ax.spines['top'].set_visible(False)\n",
    "plt.xlim((25076560.0, 25078495.0))\n",
    "ax.axhline(0.95, linestyle=\"--\", color=\"grey\")\n",
    "plt.rc('text', usetex=False)\n",
    "plt.rcParams.update({'font.size': 11})\n",
    "ax.grid(alpha=0.5)\n",
    "ax.grid(alpha=0.5)\n",
    "fig = plt.gcf()\n",
    "fig.set_size_inches(6.47, 3.5)\n",
    "plt.tight_layout()"
   ]
  },
  {
   "cell_type": "markdown",
   "metadata": {
    "id": "Ov___1p2TUe0"
   },
   "source": [
    "Let's check the energy delivered for each scenario with an ACN."
   ]
  },
  {
   "cell_type": "code",
   "execution_count": null,
   "metadata": {
    "colab": {
     "base_uri": "https://localhost:8080/"
    },
    "id": "q0rA8G7MTUe0",
    "outputId": "15f0d3fc-bcc4-4428-8ef9-52ebd3d21204"
   },
   "outputs": [],
   "source": [
    "unctrl_energy_delivered = acnsim.proportion_of_energy_delivered(\n",
    "    unctrl_2053.acn_experiments[\"2053\"].sim\n",
    ")\n",
    "load_flattening_energy_delivered = acnsim.proportion_of_energy_delivered(\n",
    "    load_flattening_2053.acn_experiments[\"2053\"].sim\n",
    ")\n",
    "solar_load_flattening_energy_delivered = acnsim.proportion_of_energy_delivered(\n",
    "    solar_load_flattening_2053.acn_experiments[\"2053\"].sim\n",
    ")\n",
    "print(\n",
    "    f\"Energy delivered with Uncontrolled Charging: \"\n",
    "    f\"{unctrl_energy_delivered}\\n\"\n",
    "    f\"Energy delivered with Load Flattening: \"\n",
    "    f\"{load_flattening_energy_delivered}\\n\"\n",
    "    f\"Energy delivered with Load Flattening and Solar: \"\n",
    "    f\"{solar_load_flattening_energy_delivered}\\n\"\n",
    ")"
   ]
  }
 ],
 "metadata": {
  "colab": {
   "collapsed_sections": [],
   "name": "3.2-Iowa-Feeder-with-EV-and-Solar-OpenDSS.ipynb",
   "provenance": [],
   "toc_visible": true
  },
  "kernelspec": {
   "display_name": "Python 3",
   "language": "python",
   "name": "python3"
  },
  "language_info": {
   "codemirror_mode": {
    "name": "ipython",
    "version": 3
   },
   "file_extension": ".py",
   "mimetype": "text/x-python",
   "name": "python",
   "nbconvert_exporter": "python",
   "pygments_lexer": "ipython3",
   "version": "3.9.18"
  },
  "pycharm": {
   "stem_cell": {
    "cell_type": "raw",
    "metadata": {
     "collapsed": false
    },
    "source": []
   }
  }
 },
 "nbformat": 4,
 "nbformat_minor": 4
}
