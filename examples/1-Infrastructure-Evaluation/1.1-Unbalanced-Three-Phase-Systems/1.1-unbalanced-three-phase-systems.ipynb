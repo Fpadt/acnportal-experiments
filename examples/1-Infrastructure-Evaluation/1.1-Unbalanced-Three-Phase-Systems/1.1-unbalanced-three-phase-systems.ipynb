{
 "cells": [
  {
   "cell_type": "markdown",
   "metadata": {
    "colab_type": "text",
    "id": "view-in-github"
   },
   "source": [
    "<a href=\"https://colab.research.google.com/github/zach401/ACN-Sim-Demo/blob/master/unbalanced_three_phase_infrastructure.ipynb\" target=\"_parent\"><img src=\"https://colab.research.google.com/assets/colab-badge.svg\" alt=\"Open In Colab\"/></a>"
   ]
  },
  {
   "cell_type": "markdown",
   "metadata": {
    "colab_type": "text",
    "id": "S8wxkRpdMzwl"
   },
   "source": [
    "*If running in Colab run this first to install ACN-Portal.*"
   ]
  },
  {
   "cell_type": "code",
   "execution_count": 2,
   "metadata": {
    "colab": {},
    "colab_type": "code",
    "id": "bRvsN1Q9TEr2"
   },
   "outputs": [
    {
     "name": "stdout",
     "output_type": "stream",
     "text": [
      "Collecting acnportal==0.2.1\n",
      "  Using cached acnportal-0.2.1-py3-none-any.whl (75 kB)\n",
      "Requirement already satisfied: pytz in /opt/conda/lib/python3.8/site-packages (from acnportal==0.2.1) (2020.1)\n",
      "Requirement already satisfied: requests in /opt/conda/lib/python3.8/site-packages (from acnportal==0.2.1) (2.24.0)\n",
      "Requirement already satisfied: matplotlib in /opt/conda/lib/python3.8/site-packages (from acnportal==0.2.1) (3.2.2)\n",
      "Requirement already satisfied: pandas in /opt/conda/lib/python3.8/site-packages (from acnportal==0.2.1) (1.1.2)\n",
      "Requirement already satisfied: numpy in /opt/conda/lib/python3.8/site-packages (from acnportal==0.2.1) (1.19.1)\n",
      "Requirement already satisfied: chardet<4,>=3.0.2 in /opt/conda/lib/python3.8/site-packages (from requests->acnportal==0.2.1) (3.0.4)\n",
      "Requirement already satisfied: urllib3!=1.25.0,!=1.25.1,<1.26,>=1.21.1 in /opt/conda/lib/python3.8/site-packages (from requests->acnportal==0.2.1) (1.25.10)\n",
      "Requirement already satisfied: certifi>=2017.4.17 in /opt/conda/lib/python3.8/site-packages (from requests->acnportal==0.2.1) (2020.6.20)\n",
      "Requirement already satisfied: idna<3,>=2.5 in /opt/conda/lib/python3.8/site-packages (from requests->acnportal==0.2.1) (2.10)\n",
      "Requirement already satisfied: cycler>=0.10 in /opt/conda/lib/python3.8/site-packages (from matplotlib->acnportal==0.2.1) (0.10.0)\n",
      "Requirement already satisfied: kiwisolver>=1.0.1 in /opt/conda/lib/python3.8/site-packages (from matplotlib->acnportal==0.2.1) (1.2.0)\n",
      "Requirement already satisfied: python-dateutil>=2.1 in /opt/conda/lib/python3.8/site-packages (from matplotlib->acnportal==0.2.1) (2.8.1)\n",
      "Requirement already satisfied: pyparsing!=2.0.4,!=2.1.2,!=2.1.6,>=2.0.1 in /opt/conda/lib/python3.8/site-packages (from matplotlib->acnportal==0.2.1) (2.4.7)\n",
      "Requirement already satisfied: six in /opt/conda/lib/python3.8/site-packages (from cycler>=0.10->matplotlib->acnportal==0.2.1) (1.15.0)\n",
      "Installing collected packages: acnportal\n",
      "Successfully installed acnportal-0.2.1\n",
      "Note: you may need to restart the kernel to use updated packages.\n"
     ]
    }
   ],
   "source": [
    "pip install acnportal==0.2.1"
   ]
  },
  {
   "cell_type": "markdown",
   "metadata": {
    "colab_type": "text",
    "id": "4Dx6R-26M6JP"
   },
   "source": [
    "# Unbalanced Three-Phase Infrastructure Constraints\n",
    "\n",
    "Currently, most charging algorithms in the literature rely on constraints which assume single-phase or balanced three-phase operation. In this experiment, we demonstrate why these assumptions are insufficient for practical charging systems. \n",
    "\n",
    "For this experiment we use the LLF algorithm. We consider two cases. In the first, LLF considers a simplified single-phase representation of the constraints in the network. In the second, LLF uses the full three-phase system model. In both cases, we evalaute the algorithms using the true three-phase network model."
   ]
  },
  {
   "cell_type": "code",
   "execution_count": 3,
   "metadata": {
    "colab": {},
    "colab_type": "code",
    "id": "cM2mYe93TU0_"
   },
   "outputs": [],
   "source": [
    "import pytz\n",
    "from datetime import datetime\n",
    "import numpy as np\n",
    "# import cvxpy as cp\n",
    "from copy import deepcopy\n",
    "import time \n",
    "from matplotlib import pyplot as plt\n",
    "\n",
    "from acnportal import acnsim\n",
    "from acnportal.acnsim import analysis\n",
    "from acnportal import algorithms"
   ]
  },
  {
   "cell_type": "markdown",
   "metadata": {
    "colab_type": "text",
    "id": "JtsqSXf0OCo1"
   },
   "source": [
    "## Single-phase CaltechACN Network\n",
    "\n",
    "In this *ChargingNetwork* we treat all EVSEs as if they were on the same phase by setting the phase angle for each to be 0. The only constraints for this model are that the aggregate rates of the AV and CC pods are less than 80 A and that the aggregate power of all EVSEs is less than the power limit of the transformer. \n",
    "\n",
    "(We assume nominal voltage in the network)"
   ]
  },
  {
   "cell_type": "code",
   "execution_count": 4,
   "metadata": {
    "colab": {},
    "colab_type": "code",
    "id": "daSbJIfqTQEL"
   },
   "outputs": [],
   "source": [
    "def single_phase_caltech_acn(basic_evse=False, voltage=208, transformer_cap=150, network_type=acnsim.ChargingNetwork):\n",
    "    \"\"\" Predefined single phase ChargingNetwork for the Caltech ACN.\n",
    "\n",
    "    Args:\n",
    "        basic_evse (bool): If True use BASIC EVSE type instead of actual AeroViroment and ClipperCreek types.\n",
    "        voltage (float): Default voltage at the EVSEs. Does not affect the current rating of the transformer which is\n",
    "            based on nominal voltages in the network. 277V LL for delta primary and 120V LN for wye secondary. [V]\n",
    "        transformer_cap (float): Capacity of the transformer in the CaltechACN. Default: 150. [kW]\n",
    "\n",
    "    Attributes:\n",
    "        See ChargingNetwork for Attributes.\n",
    "    \"\"\"\n",
    "    network = network_type()\n",
    "\n",
    "    if basic_evse:\n",
    "        evse_type = {'AV': 'BASIC', 'CC': 'BASIC'}\n",
    "    else:\n",
    "        evse_type = {'AV': 'AeroVironment', 'CC': 'ClipperCreek'}\n",
    "\n",
    "    # Define the sets of EVSEs in the Caltech ACN.\n",
    "    CC_pod_ids = ['CA-322', 'CA-493', 'CA-496', 'CA-320', 'CA-495', 'CA-321', 'CA-323', 'CA-494']\n",
    "    AV_pod_ids = ['CA-324', 'CA-325', 'CA-326', 'CA-327', 'CA-489', 'CA-490', 'CA-491', 'CA-492']\n",
    "    AB_ids = ['CA-{0}'.format(i) for i in [308, 508, 303, 513, 310, 506, 316, 500, 318, 498]] + CC_pod_ids + AV_pod_ids\n",
    "    BC_ids = ['CA-{0}'.format(i) for i in [304, 512, 305, 511, 313, 503, 311, 505, 317, 499]]\n",
    "    CA_ids = ['CA-{0}'.format(i) for i in [307, 509, 309, 507, 306, 510, 315, 501, 319, 497, 312, 504, 314, 502]]\n",
    "\n",
    "    # Temporarily add ADA spaces to BC, since we don't know where they come from\n",
    "    BC_ids += ['CA-148', 'CA-149', 'CA-212', 'CA-213']\n",
    "\n",
    "    # Add Caltech EVSEs\n",
    "    for evse_id in AB_ids:\n",
    "        if evse_id not in CC_pod_ids:\n",
    "            network.register_evse(acnsim.get_evse_by_type(evse_id, evse_type['AV']), voltage, 0)\n",
    "        else:\n",
    "            network.register_evse(acnsim.get_evse_by_type(evse_id, evse_type['CC']), voltage, 0)\n",
    "    for evse_id in BC_ids:\n",
    "        network.register_evse(acnsim.get_evse_by_type(evse_id, evse_type['AV']), voltage, 0)\n",
    "    for evse_id in CA_ids:\n",
    "        network.register_evse(acnsim.get_evse_by_type(evse_id, evse_type['AV']), voltage, 0)\n",
    "\n",
    "    # Add Caltech Constraint Set\n",
    "    CC_pod = acnsim.Current(CC_pod_ids)\n",
    "    AV_pod = acnsim.Current(AV_pod_ids)\n",
    "    all_current = acnsim.Current(AB_ids + BC_ids + CA_ids)\n",
    "\n",
    "    # Build constraint set\n",
    "    network.add_constraint(CC_pod, 80, name='CC Pod')\n",
    "    network.add_constraint(AV_pod, 80, name='AV Pod')\n",
    "    network.add_constraint(all_current, transformer_cap * 1000 / voltage, name='Transformer Cap')\n",
    "    return network"
   ]
  },
  {
   "cell_type": "markdown",
   "metadata": {
    "colab_type": "text",
    "id": "YTGuRUk-PPGu"
   },
   "source": [
    "## Experiment Setup"
   ]
  },
  {
   "cell_type": "code",
   "execution_count": 5,
   "metadata": {
    "colab": {},
    "colab_type": "code",
    "id": "Q9M8B670SmPe"
   },
   "outputs": [],
   "source": [
    "# -- Experiment Parameters ---------------------------------------------------------------------------------------------\n",
    "timezone = pytz.timezone('America/Los_Angeles')\n",
    "start = timezone.localize(datetime(2019, 3, 5))\n",
    "end = timezone.localize(datetime(2019, 3, 6))\n",
    "period = 5  # minute\n",
    "voltage = 208  # volts\n",
    "default_battery_power = 32 * voltage / 1000 # kW\n",
    "site = 'caltech'\n",
    "\n",
    "# -- Network -----------------------------------------------------------------------------------------------------------\n",
    "single_phase_cn = single_phase_caltech_acn(basic_evse=True, transformer_cap=50)\n",
    "real_cn = acnsim.sites.caltech_acn(basic_evse=True, transformer_cap=50)\n",
    "\n",
    "# -- Events ------------------------------------------------------------------------------------------------------------\n",
    "API_KEY = 'DEMO_TOKEN'\n",
    "events = acnsim.acndata_events.generate_events(API_KEY, site, start, end, period, voltage, default_battery_power)"
   ]
  },
  {
   "cell_type": "markdown",
   "metadata": {
    "colab_type": "text",
    "id": "tYsq2kGfPCRi"
   },
   "source": [
    "## Running Experiment"
   ]
  },
  {
   "cell_type": "markdown",
   "metadata": {
    "colab_type": "text",
    "id": "ULP4AFoMPWBh"
   },
   "source": [
    "### Single-Phase"
   ]
  },
  {
   "cell_type": "code",
   "execution_count": 6,
   "metadata": {
    "colab": {},
    "colab_type": "code",
    "id": "xPZbsQhKTBbf"
   },
   "outputs": [],
   "source": [
    "llf_sp_sim = acnsim.Simulator(deepcopy(single_phase_cn), \n",
    "                              algorithms.SortedSchedulingAlgo(algorithms.least_laxity_first),\n",
    "                              deepcopy(events), start, period=period, verbose=False)\n",
    "llf_sp_sim.run()"
   ]
  },
  {
   "cell_type": "markdown",
   "metadata": {
    "colab_type": "text",
    "id": "h8vcUY2ZPYOb"
   },
   "source": [
    "### Three-Phase"
   ]
  },
  {
   "cell_type": "code",
   "execution_count": 7,
   "metadata": {
    "colab": {},
    "colab_type": "code",
    "id": "MMO9pQ5J51cH"
   },
   "outputs": [],
   "source": [
    "llf_tp_sim = acnsim.Simulator(deepcopy(real_cn), \n",
    "                              algorithms.SortedSchedulingAlgo(algorithms.least_laxity_first),\n",
    "                              deepcopy(events), start, period=period, verbose=False)\n",
    "llf_tp_sim.run()"
   ]
  },
  {
   "cell_type": "markdown",
   "metadata": {
    "colab_type": "text",
    "id": "edJlAV5wPesD"
   },
   "source": [
    "## Results\n",
    "\n",
    "In order to compare the single-phase and three-phase versions of LLF, we plot the aggregate power of all EVSEs as well as individual line currents on the primary and secondary side of the transformer which feeds the CaltechACN. "
   ]
  },
  {
   "cell_type": "markdown",
   "metadata": {
    "colab_type": "text",
    "id": "y72LJFIGPiej"
   },
   "source": [
    "Since we are interested in how the single-phase LLF algorithm would have performed in the real CaltechACN, we replace the network model with the real network model for analysis. "
   ]
  },
  {
   "cell_type": "code",
   "execution_count": 8,
   "metadata": {
    "colab": {},
    "colab_type": "code",
    "id": "mauQTMRGT67x"
   },
   "outputs": [],
   "source": [
    "llf_sp_sim.network = real_cn"
   ]
  },
  {
   "cell_type": "code",
   "execution_count": 9,
   "metadata": {
    "colab": {
     "base_uri": "https://localhost:8080/",
     "height": 263
    },
    "colab_type": "code",
    "id": "MBhusqQV8ZAe",
    "outputId": "3b668259-2f13-4baf-ef86-a9627b1a3834"
   },
   "outputs": [
    {
     "data": {
      "image/png": "[encoded data removed]",
      "text/plain": [
       "<Figure size 576x288 with 6 Axes>"
      ]
     },
     "metadata": {
      "needs_background": "light"
     },
     "output_type": "display_data"
    }
   ],
   "source": [
    "from matplotlib import cm\n",
    "cmap = cm.get_cmap('tab20c')\n",
    "\n",
    "fig, axes = plt.subplots(3, 2, sharey='row', sharex=True, figsize=(8,4))\n",
    "fig.subplots_adjust(wspace=0.17, hspace=0.17)\n",
    "axes[0, 0].set_xlim(7*12, 17*12)\n",
    "\n",
    "# Plot Aggregate Charging Power\n",
    "sp_agg = analysis.aggregate_current(llf_sp_sim)*voltage/1000\n",
    "tp_agg = analysis.aggregate_current(llf_tp_sim)*voltage/1000\n",
    "sp_color = 4\n",
    "tp_color = 0\n",
    "axes[0, 0].plot(sp_agg, color=cmap(sp_color))\n",
    "axes[0, 1].plot(tp_agg, color=cmap(tp_color))\n",
    "\n",
    "\n",
    "# Calculate currents in constrained lines\n",
    "sp_cc = analysis.constraint_currents(llf_sp_sim)\n",
    "tp_cc = analysis.constraint_currents(llf_tp_sim)\n",
    "\n",
    "# Plot currents in lines on the Primary and Secondary side of the transformer.\n",
    "for j, line in enumerate('ABC'): \n",
    "  axes[1, 0].plot(sp_cc['Primary {0}'.format(line)], label='Primary {0}'.format(line), color=cmap(j + sp_color))\n",
    "  axes[1, 1].plot(tp_cc['Primary {0}'.format(line)], label='Primary {0}'.format(line), color=cmap(j + tp_color))\n",
    "\n",
    "  axes[2, 0].plot(sp_cc['Secondary {0}'.format(line)], label='Secondary {0}'.format(line), color=cmap(j + sp_color))\n",
    "  axes[2, 1].plot(tp_cc['Secondary {0}'.format(line)], label='Secondary {0}'.format(line), color=cmap(j + tp_color))\n",
    "\n",
    "# Plot limits \n",
    "axes[0, 0].axhline(50, color='k', linestyle='--')\n",
    "axes[1, 0].axhline(180.5/3, color='k', linestyle='--')\n",
    "axes[2, 0].axhline(416.67/3, color='k', linestyle='--')\n",
    "\n",
    "axes[0, 1].axhline(50, color='k', linestyle='--')\n",
    "axes[1, 1].axhline(180.5/3, color='k', linestyle='--')\n",
    "axes[2, 1].axhline(416.67/3, color='k', linestyle='--')\n",
    "\n",
    "axes[0, 0].set_title(\"Single Phase Constraints\")\n",
    "axes[0, 1].set_title(\"Three Phase Constriants\")\n",
    "plt.xticks(range(7*12, 17*12, 36), ['7:00', '10:00', '13:00', '16:00'])\n",
    "plt.show()"
   ]
  },
  {
   "cell_type": "markdown",
   "metadata": {
    "colab_type": "text",
    "id": "65VBWKw_RNjr"
   },
   "source": [
    "Here we can see that only considering single-phase constraints can lead to significant constraint violations in line currents. However, by designing an algorithm which considers the full three-phase model, we are able to respect these constraints. Note that because of phase unbalance, we are not able to make use of the full 50 kW transformer capacity while also respecting line limits."
   ]
  }
 ],
 "metadata": {
  "colab": {
   "collapsed_sections": [],
   "include_colab_link": true,
   "name": "unbalanced_three_phase_infrastructure.ipynb",
   "provenance": []
  },
  "kernelspec": {
   "display_name": "Python 3",
   "language": "python",
   "name": "python3"
  },
  "language_info": {
   "codemirror_mode": {
    "name": "ipython",
    "version": 3
   },
   "file_extension": ".py",
   "mimetype": "text/x-python",
   "name": "python",
   "nbconvert_exporter": "python",
   "pygments_lexer": "ipython3",
   "version": "3.8.5"
  }
 },
 "nbformat": 4,
 "nbformat_minor": 4
}
