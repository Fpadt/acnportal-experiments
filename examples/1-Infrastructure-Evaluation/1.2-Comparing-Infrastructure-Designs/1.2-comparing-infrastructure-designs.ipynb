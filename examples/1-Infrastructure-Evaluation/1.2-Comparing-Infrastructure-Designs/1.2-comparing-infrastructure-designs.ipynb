{
 "cells": [
  {
   "cell_type": "markdown",
   "metadata": {
    "colab_type": "text",
    "id": "qOa43Yh-LE4H"
   },
   "source": [
    "*If running in Colab run this first to install ACN-Portal.*"
   ]
  },
  {
   "cell_type": "code",
   "execution_count": null,
   "metadata": {
    "colab": {
     "base_uri": "https://localhost:8080/",
     "height": 646
    },
    "colab_type": "code",
    "id": "L4NCLfDSl8-7",
    "outputId": "c8a2a60f-eaa4-43de-edfc-f6b15f2675c7"
   },
   "outputs": [],
   "source": [
    "import subprocess\n",
    "import sys\n",
    "\n",
    "if 'google.colab' in str(get_ipython()):\n",
    "    print('Running on CoLab')\n",
    "    subprocess.check_call([sys.executable, \"-m\", \"pip\", \"install\", \"acnportal\"])\n",
    "    subprocess.check_call([sys.executable, \"-m\", \"pip\", \"install\", \"git+https://github.com/caltech-netlab/adacharge@py_3.6_compatibility\"])"
   ]
  },
  {
   "cell_type": "code",
   "execution_count": null,
   "metadata": {},
   "outputs": [],
   "source": [
    "import os\n",
    "import subprocess\n",
    "\n",
    "if not os.path.exists(\"data/jpl_weekeday_40.pkl\"):\n",
    "    if not os.path.exists(\"data\"):\n",
    "        subprocess.run([\"mkdir\", \"data\"])\n",
    "    subprocess.run([\"wget\", \"-P\", \"./data\", \"https://ev.caltech.edu/assets/data/gmm/jpl_weekday_40.pkl\"])"
   ]
  },
  {
   "cell_type": "markdown",
   "metadata": {
    "colab_type": "text",
    "id": "GenojIdhB6o4"
   },
   "source": [
    "\n",
    "# Comparing Infrastructure Designs using ACN-Sim\n",
    "### by Zachary Lee\n",
    "#### Last updated: 4/16/2020\n",
    "\n",
    "\n",
    "In this case study, we demonstrate how ACN-Data and ACN-Sim can be used to evaluate infrastructure configurations and algorithms. We consider the case of a site host who expects to charge approximately 100 EVs per day with a demand pattern similar to that of JPL.\n",
    "\n",
    "The site host has several options, including  \n",
    "*   102 Uncontrolled Level-1 EVSEs with a 200 kW Transformer\n",
    "*   30 Uncontrolled Level-2 EVSEs with a 200 kW Transformer\n",
    "*   102 Uncontrolled Level-2 EVSEs with a 670 kW Transformer\n",
    "*   102 Smart Level-2 EVSEs running LLF with a 200 kW Transformer\n",
    "\n",
    "We evaluate the scenarios on the number of times drivers would have to swap parking places to allow other drivers to charge, the percentage of total demand met, and the operating costs (calculated using ACN-Sim's integration with utility tariffs). This demonstrates the significant benefits of developing smart EV charging systems in terms of reducing both capital costs (transformer capacity) and operating costs.\n"
   ]
  },
  {
   "cell_type": "code",
   "execution_count": null,
   "metadata": {
    "colab": {},
    "colab_type": "code",
    "id": "tI1sjPLhl7zX"
   },
   "outputs": [],
   "source": [
    "import acnportal\n",
    "\n",
    "from copy import deepcopy\n",
    "import warnings\n",
    "import pytz\n",
    "import numpy as np\n",
    "import pickle\n",
    "from datetime import datetime\n",
    "from acnportal import acnsim\n",
    "from acnportal import algorithms\n",
    "from acnportal.signals.tariffs.tou_tariff import TimeOfUseTariff\n",
    "from acnportal.acnsim.events import GaussianMixtureEvents\n",
    "from acnportal.contrib.acnsim import StochasticNetwork\n",
    "import adacharge"
   ]
  },
  {
   "cell_type": "markdown",
   "metadata": {
    "colab_type": "text",
    "id": "sHbmBo6gLRpm"
   },
   "source": [
    "## Charging Network Designs\n",
    "\n",
    "To define our charging network options, we will use two functions which generate a StochasticNetwork object. The StochasticNetwork assigns users to spaces dynamically based on available spaces. In this example, we will assume each driver has equal preference for all spots.\n",
    "\n",
    "If all spaces are taken, drivers join a queue which is drained as drivers finish charging and move their vehicle (the early departure option specifies that drivers move their vehicle when it is done charging rather than their normal departure time). We record each time that the user leave and is replaced with someone from the queue as a swap. Swaps are undesirable as they waste time and are frustrating for users. Despite this, swapping is a common practice in many charging facilities where the number of users exceeds the number of EVSEs.  "
   ]
  },
  {
   "cell_type": "code",
   "execution_count": null,
   "metadata": {
    "colab": {},
    "colab_type": "code",
    "id": "Sze0cur7ni9p"
   },
   "outputs": [],
   "source": [
    "def level_1_network(transformer_cap=200, evse_per_phase=34):\n",
    "    \"\"\" Configurable charging network for level-1 EVSEs connected line to ground\n",
    "        at 120 V. \n",
    "\n",
    "    Args:\n",
    "        transformer_cap (float): Capacity of the transformer feeding the network\n",
    "          [kW]\n",
    "        evse_per_phase (int): Number of EVSEs on each phase. Total number of \n",
    "          EVSEs will be 3 * evse_per_phase.\n",
    "\n",
    "    Returns:\n",
    "        ChargingNetwork: Configured ChargingNetwork.  \n",
    "    \"\"\"\n",
    "    network = StochasticNetwork(early_departure=True)\n",
    "    voltage = 120\n",
    "\n",
    "    # Define the sets of EVSEs in the Caltech ACN.\n",
    "    A_ids = ['A-{0}'.format(i) for i in range(evse_per_phase)]\n",
    "    B_ids = ['B-{0}'.format(i) for i in range(evse_per_phase)]\n",
    "    C_ids = ['C-{0}'.format(i) for i in range(evse_per_phase)]\n",
    "\n",
    "    # Add Caltech EVSEs\n",
    "    for evse_id in A_ids:\n",
    "        network.register_evse(acnsim.FiniteRatesEVSE(evse_id, [0, 16]), voltage, 0)\n",
    "    for evse_id in B_ids:\n",
    "        network.register_evse(acnsim.FiniteRatesEVSE(evse_id, [0, 16]), voltage, 120)\n",
    "    for evse_id in C_ids:\n",
    "        network.register_evse(acnsim.FiniteRatesEVSE(evse_id, [0, 16]), voltage, -120)\n",
    "\n",
    "    # Add Caltech Constraint Set\n",
    "    I3a = acnsim.Current(A_ids)\n",
    "    I3b = acnsim.Current(B_ids)\n",
    "    I3c = acnsim.Current(C_ids)\n",
    "\n",
    "    # Define intermediate currents\n",
    "    I2a = (1 / 4) * (I3a - I3c)\n",
    "    I2b = (1 / 4) * (I3b - I3a)\n",
    "    I2c = (1 / 4) * (I3c - I3b)\n",
    "\n",
    "    # Build constraint set\n",
    "    primary_side_constr = transformer_cap * 1000 / 3 / 277\n",
    "    secondary_side_constr = transformer_cap * 1000 / 3 / 120\n",
    "    network.add_constraint(I3a, secondary_side_constr, name='Secondary A')\n",
    "    network.add_constraint(I3b, secondary_side_constr, name='Secondary B')\n",
    "    network.add_constraint(I3c, secondary_side_constr, name='Secondary C')\n",
    "    network.add_constraint(I2a, primary_side_constr, name='Primary A')\n",
    "    network.add_constraint(I2b, primary_side_constr, name='Primary B')\n",
    "    network.add_constraint(I2c, primary_side_constr, name='Primary C')\n",
    "\n",
    "    return network\n",
    "\n",
    "\n",
    "def level_2_network(transformer_cap=200, evse_per_phase=34):\n",
    "    \"\"\" Configurable charging network for level-2 EVSEs connected line to line\n",
    "        at 208 V. \n",
    "\n",
    "    Args:\n",
    "        transformer_cap (float): Capacity of the transformer feeding the network\n",
    "          [kW]\n",
    "        evse_per_phase (int): Number of EVSEs on each phase. Total number of \n",
    "          EVSEs will be 3 * evse_per_phase.\n",
    "\n",
    "    Returns:\n",
    "        ChargingNetwork: Configured ChargingNetwork.  \n",
    "    \"\"\"\n",
    "    network = StochasticNetwork(early_departure=True)\n",
    "    voltage = 208\n",
    "    evse_type = 'AeroVironment'\n",
    "\n",
    "    # Define the sets of EVSEs in the Caltech ACN.\n",
    "    AB_ids = ['AB-{0}'.format(i) for i in range(evse_per_phase)]\n",
    "    BC_ids = ['BC-{0}'.format(i) for i in range(evse_per_phase)]\n",
    "    CA_ids = ['CA-{0}'.format(i) for i in range(evse_per_phase)]\n",
    "\n",
    "    # Add Caltech EVSEs\n",
    "    for evse_id in AB_ids:\n",
    "        network.register_evse(acnsim.get_evse_by_type(evse_id, evse_type), voltage, 30)\n",
    "    for evse_id in BC_ids:\n",
    "        network.register_evse(acnsim.get_evse_by_type(evse_id, evse_type), voltage, -90)\n",
    "    for evse_id in CA_ids:\n",
    "        network.register_evse(acnsim.get_evse_by_type(evse_id, evse_type), voltage, 150)\n",
    "\n",
    "    # Add Caltech Constraint Set\n",
    "    AB = acnsim.Current(AB_ids)\n",
    "    BC = acnsim.Current(BC_ids)\n",
    "    CA = acnsim.Current(CA_ids)\n",
    "\n",
    "    # Define intermediate currents\n",
    "    I3a = AB - CA\n",
    "    I3b = BC - AB\n",
    "    I3c = CA - BC\n",
    "    I2a = (1 / 4) * (I3a - I3c)\n",
    "    I2b = (1 / 4) * (I3b - I3a)\n",
    "    I2c = (1 / 4) * (I3c - I3b)\n",
    "\n",
    "    # Build constraint set\n",
    "    primary_side_constr = transformer_cap * 1000 / 3 / 277\n",
    "    secondary_side_constr = transformer_cap * 1000 / 3 / 120\n",
    "    network.add_constraint(I3a, secondary_side_constr, name='Secondary A')\n",
    "    network.add_constraint(I3b, secondary_side_constr, name='Secondary B')\n",
    "    network.add_constraint(I3c, secondary_side_constr, name='Secondary C')\n",
    "    network.add_constraint(I2a, primary_side_constr, name='Primary A')\n",
    "    network.add_constraint(I2b, primary_side_constr, name='Primary B')\n",
    "    network.add_constraint(I2c, primary_side_constr, name='Primary C')\n",
    "\n",
    "    return network\n"
   ]
  },
  {
   "cell_type": "markdown",
   "metadata": {
    "colab_type": "text",
    "id": "mVFCezpgMdwf"
   },
   "source": [
    "## Experiments\n",
    "\n",
    "In these experiments we will run a simulation for each system configuration can compare the results on key metrics."
   ]
  },
  {
   "cell_type": "code",
   "execution_count": null,
   "metadata": {
    "colab": {},
    "colab_type": "code",
    "id": "_7f4UUUol7ze"
   },
   "outputs": [],
   "source": [
    "# How long each time discrete time interval in the simulation should be.\n",
    "PERIOD = 5  # minutes\n",
    "\n",
    "# Voltage of the network.\n",
    "VOLTAGE = 208  # volts\n",
    "\n",
    "# Default maximum charging rate for each EV battery.\n",
    "DEFAULT_BATTERY_POWER = 6.6 # kW"
   ]
  },
  {
   "cell_type": "markdown",
   "metadata": {
    "colab_type": "text",
    "id": "aJOcKxZ1MpS8"
   },
   "source": [
    "**Network Options**\n",
    "\n",
    "We consider five infrastrucuture configurations."
   ]
  },
  {
   "cell_type": "code",
   "execution_count": null,
   "metadata": {
    "colab": {},
    "colab_type": "code",
    "id": "FHlFY1kMl7zi",
    "pycharm": {
     "is_executing": false,
     "name": "#%%\n"
    }
   },
   "outputs": [],
   "source": [
    "# Network of 102 Level-1 EVSEs with a 200 kW Transformer\n",
    "level_1 = level_1_network(transformer_cap=200, evse_per_phase=34)\n",
    "\n",
    "# Network of 30 Level-2 EVSEs with a 200 kW Transformer\n",
    "level_2_200kW_30 = level_2_network(transformer_cap=200, evse_per_phase=10)\n",
    "\n",
    "# Network of 102 Level-2 EVSEs with a 200 kW Transformer\n",
    "level_2_200kW_102 = level_2_network(transformer_cap=200, evse_per_phase=34)\n",
    "\n",
    "# Network of 102 Level-2 EVSEs with a 670 kW Transformer\n",
    "level_2_670kW_102 = level_2_network(transformer_cap=670, evse_per_phase=34)\n",
    "\n",
    "# Network of 201 Level-2 EVSEs with a 200 kW Transformer\n",
    "level_2_200kW_201 = level_2_network(transformer_cap=200, evse_per_phase=67)"
   ]
  },
  {
   "cell_type": "markdown",
   "metadata": {
    "colab_type": "text",
    "id": "Vg1PjL6pMvX2"
   },
   "source": [
    "**Events**\n",
    "\n",
    "We assume that our site will have a usage profile similar to JPL, so we use a Gaussian Mixture Model trained on data from weekdays at JPL to generate events for this experiment. We assume that the site will be closed on weekends, so no charging will occur. "
   ]
  },
  {
   "cell_type": "code",
   "execution_count": null,
   "metadata": {
    "colab": {
     "base_uri": "https://localhost:8080/",
     "height": 258
    },
    "colab_type": "code",
    "id": "STPte5LQl7zm",
    "outputId": "6d2ceffa-ae3e-4442-9858-c3aa0b51815a",
    "pycharm": {
     "name": "#%%\n"
    }
   },
   "outputs": [],
   "source": [
    "def get_synth_events(sessions_per_day):\n",
    "    gmm = pickle.load(open('./data/jpl_weekday_40.pkl', 'rb'))\n",
    "\n",
    "    # Generate a list of the number of sessions to draw for each day.\n",
    "    # This generates 30 days of charging demands.\n",
    "    num_evs = [0]*2 + [sessions_per_day]*5 + [0]*2 + [sessions_per_day]*5 + [0]*2 + \\\n",
    "              [sessions_per_day]*5 + [0]*2 + [sessions_per_day]*5 + [0]*2\n",
    "\n",
    "    # Note that because we are drawing from a distribution, some sessions will be\n",
    "    # invalid, we ignore these sessions and remove the corresponding plugin events. \n",
    "    gen = GaussianMixtureEvents(pretrained_model=gmm)\n",
    "\n",
    "    synth_events = gen.generate_events(num_evs, PERIOD, VOLTAGE, DEFAULT_BATTERY_POWER)\n",
    "    return synth_events"
   ]
  },
  {
   "cell_type": "code",
   "execution_count": null,
   "metadata": {},
   "outputs": [],
   "source": [
    "# Events with 100 EVs per weekday\n",
    "sessions_100 = get_synth_events(100)\n",
    "\n",
    "# Events with 200 EVs per weekday\n",
    "sessions_200 = get_synth_events(200)"
   ]
  },
  {
   "cell_type": "code",
   "execution_count": null,
   "metadata": {
    "colab": {},
    "colab_type": "code",
    "id": "n5f0FWYLl7zq",
    "pycharm": {
     "name": "#%%\n"
    }
   },
   "outputs": [],
   "source": [
    "def run_experiment(network, algorithm, events):\n",
    "    \"\"\" Run simulation for the events defined previously and the specified\n",
    "        network / algorithm / events. \n",
    "    \"\"\"\n",
    "    # Timezone of the ACN we are using.\n",
    "    timezone = pytz.timezone('America/Los_Angeles')\n",
    "    \n",
    "    # Start and End times are used when collecting data.\n",
    "    start = timezone.localize(datetime(2019, 6, 1))\n",
    "    end = timezone.localize(datetime(2019, 7, 1))\n",
    "    \n",
    "    sch = deepcopy(algorithm)\n",
    "    cn = deepcopy(network)\n",
    "    signals = {'tariff': TimeOfUseTariff('sce_tou_ev_4_march_2019')}\n",
    "\n",
    "    sim = acnsim.Simulator(cn, sch, events, start, period=PERIOD, verbose=False, signals=signals)\n",
    "    with warnings.catch_warnings():\n",
    "        warnings.simplefilter(\"ignore\")\n",
    "    sim.run()\n",
    "\n",
    "    r = {'proportion_of_energy_delivered': acnsim.proportion_of_energy_delivered(sim),\n",
    "         'energy_delivered': sum(ev.energy_delivered for ev in sim.ev_history.values()),\n",
    "         'num_swaps': cn.swaps,\n",
    "         'num_never_charged': cn.never_charged,\n",
    "         'energy_cost': acnsim.energy_cost(sim),\n",
    "         'demand_charge': acnsim.demand_charge(sim)\n",
    "         }\n",
    "    r['total_cost'] = r['energy_cost'] + r['demand_charge']\n",
    "    r['$/kWh'] = r['total_cost'] / r['energy_delivered']\n",
    "    return r"
   ]
  },
  {
   "cell_type": "markdown",
   "metadata": {
    "colab_type": "text",
    "id": "iheZsy_3OCFh"
   },
   "source": [
    "**Define Algorithms**\n",
    "\n",
    "We consider Uncontrolled, Least-Laxity First and Model Predictive Control (cost-minimization).  "
   ]
  },
  {
   "cell_type": "code",
   "execution_count": null,
   "metadata": {
    "colab": {},
    "colab_type": "code",
    "id": "1-zimjDDl7zs"
   },
   "outputs": [],
   "source": [
    "uncontrolled = algorithms.UncontrolledCharging()\n",
    "llf = algorithms.SortedSchedulingAlgo(algorithms.least_laxity_first)"
   ]
  },
  {
   "cell_type": "code",
   "execution_count": null,
   "metadata": {},
   "outputs": [],
   "source": [
    "def days_remaining_scale_demand_charge(rates, infrastructure, interface,\n",
    "                                       baseline_peak=0, **kwargs):\n",
    "    day_index = interface.current_time // ((60 / interface.period) * 24)\n",
    "    days_in_month = 30\n",
    "    day_index = min(day_index, days_in_month - 1)\n",
    "    scale = 1 / (days_in_month - day_index)\n",
    "    dc = adacharge.demand_charge(rates, infrastructure, interface, baseline_peak, **kwargs)\n",
    "    return scale * dc"
   ]
  },
  {
   "cell_type": "code",
   "execution_count": null,
   "metadata": {
    "colab": {},
    "colab_type": "code",
    "id": "4mmi7SjPHvfo"
   },
   "outputs": [],
   "source": [
    "cost_min_obj = [adacharge.ObjectiveComponent(adacharge.total_energy, 1000),\n",
    "                adacharge.ObjectiveComponent(adacharge.tou_energy_cost),\n",
    "                adacharge.ObjectiveComponent(days_remaining_scale_demand_charge),\n",
    "                adacharge.ObjectiveComponent(adacharge.quick_charge, 1e-6),\n",
    "                adacharge.ObjectiveComponent(adacharge.equal_share, 1e-12)\n",
    "               ]\n",
    "cost_min = adacharge.AdaptiveSchedulingAlgorithm(cost_min_obj, solver=\"ECOS\", quantize=True, reallocate=True, peak_limit=1000, max_recompute=1)"
   ]
  },
  {
   "cell_type": "markdown",
   "metadata": {
    "colab_type": "text",
    "id": "zitdbeLGOHUw"
   },
   "source": [
    "**Run Experiments (100 EVs)**"
   ]
  },
  {
   "cell_type": "code",
   "execution_count": null,
   "metadata": {
    "colab": {},
    "colab_type": "code",
    "id": "vZ2qQ7_hl7zv",
    "pycharm": {
     "is_executing": false
    }
   },
   "outputs": [],
   "source": [
    "level1_unctrl_100 = run_experiment(level_1, uncontrolled, deepcopy(sessions_100))"
   ]
  },
  {
   "cell_type": "code",
   "execution_count": null,
   "metadata": {
    "colab": {},
    "colab_type": "code",
    "id": "m_9VPCrL1me7",
    "jupyter": {
     "outputs_hidden": true
    }
   },
   "outputs": [],
   "source": [
    "level2_200kW_untrl_100 = run_experiment(level_2_200kW_30, uncontrolled, deepcopy(sessions_100))"
   ]
  },
  {
   "cell_type": "code",
   "execution_count": null,
   "metadata": {
    "colab": {},
    "colab_type": "code",
    "id": "k3QrKQ9h1oLk"
   },
   "outputs": [],
   "source": [
    "level2_670kW_unctrl_100 = run_experiment(level_2_670kW_102, uncontrolled, deepcopy(sessions_100))"
   ]
  },
  {
   "cell_type": "code",
   "execution_count": null,
   "metadata": {
    "colab": {},
    "colab_type": "code",
    "id": "Lx68xWXS1pI0"
   },
   "outputs": [],
   "source": [
    "level2_200kW_llf_100 = run_experiment(level_2_200kW_102, llf, deepcopy(sessions_100))"
   ]
  },
  {
   "cell_type": "code",
   "execution_count": null,
   "metadata": {
    "colab": {},
    "colab_type": "code",
    "id": "Lx68xWXS1pI0"
   },
   "outputs": [],
   "source": [
    "level2_200kW_cost_min_100 = run_experiment(level_2_200kW_102, cost_min, deepcopy(sessions_100))"
   ]
  },
  {
   "cell_type": "markdown",
   "metadata": {
    "colab_type": "text",
    "id": "zitdbeLGOHUw"
   },
   "source": [
    "**Run Experiments (200 EVs)**"
   ]
  },
  {
   "cell_type": "code",
   "execution_count": null,
   "metadata": {
    "colab": {},
    "colab_type": "code",
    "id": "vZ2qQ7_hl7zv",
    "jupyter": {
     "outputs_hidden": true
    },
    "pycharm": {
     "is_executing": false
    }
   },
   "outputs": [],
   "source": [
    "level1_unctrl_200 = run_experiment(level_1, uncontrolled, deepcopy(sessions_200))"
   ]
  },
  {
   "cell_type": "code",
   "execution_count": null,
   "metadata": {
    "colab": {},
    "colab_type": "code",
    "id": "m_9VPCrL1me7",
    "jupyter": {
     "outputs_hidden": true
    }
   },
   "outputs": [],
   "source": [
    "level2_200kW_untrl_200 = run_experiment(level_2_200kW_30, uncontrolled, deepcopy(sessions_200))"
   ]
  },
  {
   "cell_type": "code",
   "execution_count": null,
   "metadata": {
    "colab": {},
    "colab_type": "code",
    "id": "k3QrKQ9h1oLk",
    "jupyter": {
     "outputs_hidden": true
    }
   },
   "outputs": [],
   "source": [
    "level2_670kW_unctrl_200 = run_experiment(level_2_670kW_102, uncontrolled, deepcopy(sessions_200))"
   ]
  },
  {
   "cell_type": "code",
   "execution_count": null,
   "metadata": {
    "colab": {},
    "colab_type": "code",
    "id": "Lx68xWXS1pI0"
   },
   "outputs": [],
   "source": [
    "level2_200kW_llf_200 = run_experiment(level_2_200kW_102, llf, deepcopy(sessions_200))"
   ]
  },
  {
   "cell_type": "code",
   "execution_count": null,
   "metadata": {
    "colab": {},
    "colab_type": "code",
    "id": "Lx68xWXS1pI0",
    "jupyter": {
     "outputs_hidden": true
    }
   },
   "outputs": [],
   "source": [
    "level2_200kW_cost_min_200 = run_experiment(level_2_200kW_102, cost_min, deepcopy(sessions_200))"
   ]
  },
  {
   "cell_type": "code",
   "execution_count": null,
   "metadata": {
    "colab": {},
    "colab_type": "code",
    "id": "Lx68xWXS1pI0"
   },
   "outputs": [],
   "source": [
    "level2_200kW_cost_min_201_200 = run_experiment(level_2_200kW_201, cost_min, deepcopy(sessions_200))"
   ]
  },
  {
   "cell_type": "markdown",
   "metadata": {
    "colab_type": "text",
    "id": "yjN7cSvSOKQ1"
   },
   "source": [
    "### Analyze Results"
   ]
  },
  {
   "cell_type": "code",
   "execution_count": 26,
   "metadata": {
    "colab": {
     "base_uri": "https://localhost:8080/",
     "height": 297
    },
    "colab_type": "code",
    "id": "KW4Dwf5R3EVy",
    "outputId": "1215ead6-04f1-4f76-8e39-5bfcb2b7c351"
   },
   "outputs": [
    {
     "data": {
      "text/html": [
       "<div>\n",
       "<style scoped>\n",
       "    .dataframe tbody tr th:only-of-type {\n",
       "        vertical-align: middle;\n",
       "    }\n",
       "\n",
       "    .dataframe tbody tr th {\n",
       "        vertical-align: top;\n",
       "    }\n",
       "\n",
       "    .dataframe thead th {\n",
       "        text-align: right;\n",
       "    }\n",
       "</style>\n",
       "<table border=\"1\" class=\"dataframe\">\n",
       "  <thead>\n",
       "    <tr style=\"text-align: right;\">\n",
       "      <th></th>\n",
       "      <th>Level 1: Unctrl: 200 kW : 102 EVSEs</th>\n",
       "      <th>Level 2: Unctrl: 200 kW : 30 EVSEs</th>\n",
       "      <th>Level 2: Unctrl: 670 kW : 102 EVSEs</th>\n",
       "      <th>Level 2: LLF: 200 kW : 102 EVSEs</th>\n",
       "      <th>Level 2: Min Cost: 200 kW : 102 EVSEs</th>\n",
       "    </tr>\n",
       "  </thead>\n",
       "  <tbody>\n",
       "    <tr>\n",
       "      <th>proportion_of_energy_delivered</th>\n",
       "      <td>0.762811</td>\n",
       "      <td>0.996239</td>\n",
       "      <td>0.998055</td>\n",
       "      <td>0.996626</td>\n",
       "      <td>0.995221</td>\n",
       "    </tr>\n",
       "    <tr>\n",
       "      <th>energy_delivered</th>\n",
       "      <td>17633.284238</td>\n",
       "      <td>23029.249597</td>\n",
       "      <td>23071.228611</td>\n",
       "      <td>23038.193333</td>\n",
       "      <td>23005.712286</td>\n",
       "    </tr>\n",
       "    <tr>\n",
       "      <th>num_swaps</th>\n",
       "      <td>0.000000</td>\n",
       "      <td>1105.000000</td>\n",
       "      <td>0.000000</td>\n",
       "      <td>0.000000</td>\n",
       "      <td>0.000000</td>\n",
       "    </tr>\n",
       "    <tr>\n",
       "      <th>num_never_charged</th>\n",
       "      <td>0.000000</td>\n",
       "      <td>2.000000</td>\n",
       "      <td>0.000000</td>\n",
       "      <td>0.000000</td>\n",
       "      <td>0.000000</td>\n",
       "    </tr>\n",
       "    <tr>\n",
       "      <th>energy_cost</th>\n",
       "      <td>2620.599843</td>\n",
       "      <td>2858.657152</td>\n",
       "      <td>2755.603858</td>\n",
       "      <td>2836.313035</td>\n",
       "      <td>2697.950066</td>\n",
       "    </tr>\n",
       "    <tr>\n",
       "      <th>demand_charge</th>\n",
       "      <td>2245.553409</td>\n",
       "      <td>3070.980000</td>\n",
       "      <td>5603.388021</td>\n",
       "      <td>3076.811760</td>\n",
       "      <td>2936.353200</td>\n",
       "    </tr>\n",
       "    <tr>\n",
       "      <th>total_cost</th>\n",
       "      <td>4866.153252</td>\n",
       "      <td>5929.637152</td>\n",
       "      <td>8358.991879</td>\n",
       "      <td>5913.124795</td>\n",
       "      <td>5634.303266</td>\n",
       "    </tr>\n",
       "    <tr>\n",
       "      <th>$/kWh</th>\n",
       "      <td>0.275964</td>\n",
       "      <td>0.257483</td>\n",
       "      <td>0.362312</td>\n",
       "      <td>0.256666</td>\n",
       "      <td>0.244909</td>\n",
       "    </tr>\n",
       "  </tbody>\n",
       "</table>\n",
       "</div>"
      ],
      "text/plain": [
       "                                Level 1: Unctrl: 200 kW : 102 EVSEs  \\\n",
       "proportion_of_energy_delivered                             0.762811   \n",
       "energy_delivered                                       17633.284238   \n",
       "num_swaps                                                  0.000000   \n",
       "num_never_charged                                          0.000000   \n",
       "energy_cost                                             2620.599843   \n",
       "demand_charge                                           2245.553409   \n",
       "total_cost                                              4866.153252   \n",
       "$/kWh                                                      0.275964   \n",
       "\n",
       "                                Level 2: Unctrl: 200 kW : 30 EVSEs  \\\n",
       "proportion_of_energy_delivered                            0.996239   \n",
       "energy_delivered                                      23029.249597   \n",
       "num_swaps                                              1105.000000   \n",
       "num_never_charged                                         2.000000   \n",
       "energy_cost                                            2858.657152   \n",
       "demand_charge                                          3070.980000   \n",
       "total_cost                                             5929.637152   \n",
       "$/kWh                                                     0.257483   \n",
       "\n",
       "                                Level 2: Unctrl: 670 kW : 102 EVSEs  \\\n",
       "proportion_of_energy_delivered                             0.998055   \n",
       "energy_delivered                                       23071.228611   \n",
       "num_swaps                                                  0.000000   \n",
       "num_never_charged                                          0.000000   \n",
       "energy_cost                                             2755.603858   \n",
       "demand_charge                                           5603.388021   \n",
       "total_cost                                              8358.991879   \n",
       "$/kWh                                                      0.362312   \n",
       "\n",
       "                                Level 2: LLF: 200 kW : 102 EVSEs  \\\n",
       "proportion_of_energy_delivered                          0.996626   \n",
       "energy_delivered                                    23038.193333   \n",
       "num_swaps                                               0.000000   \n",
       "num_never_charged                                       0.000000   \n",
       "energy_cost                                          2836.313035   \n",
       "demand_charge                                        3076.811760   \n",
       "total_cost                                           5913.124795   \n",
       "$/kWh                                                   0.256666   \n",
       "\n",
       "                                Level 2: Min Cost: 200 kW : 102 EVSEs  \n",
       "proportion_of_energy_delivered                               0.995221  \n",
       "energy_delivered                                         23005.712286  \n",
       "num_swaps                                                    0.000000  \n",
       "num_never_charged                                            0.000000  \n",
       "energy_cost                                               2697.950066  \n",
       "demand_charge                                             2936.353200  \n",
       "total_cost                                                5634.303266  \n",
       "$/kWh                                                        0.244909  "
      ]
     },
     "execution_count": 26,
     "metadata": {},
     "output_type": "execute_result"
    }
   ],
   "source": [
    "import pandas as pd\n",
    "evs_100 = pd.DataFrame({\n",
    "    'Level 1: Unctrl: 200 kW : 102 EVSEs': level1_unctrl_100,\n",
    "    'Level 2: Unctrl: 200 kW : 30 EVSEs':  level2_200kW_untrl_100,\n",
    "    'Level 2: Unctrl: 670 kW : 102 EVSEs': level2_670kW_unctrl_100,\n",
    "    'Level 2: LLF: 200 kW : 102 EVSEs': level2_200kW_llf_100,\n",
    "    'Level 2: Min Cost: 200 kW : 102 EVSEs': level2_200kW_cost_min_100\n",
    "})\n",
    "evs_100"
   ]
  },
  {
   "cell_type": "code",
   "execution_count": null,
   "metadata": {},
   "outputs": [],
   "source": [
    "evs_100.to_csv(\"results/100_EV_comparison.csv\")"
   ]
  },
  {
   "cell_type": "code",
   "execution_count": 27,
   "metadata": {
    "colab": {
     "base_uri": "https://localhost:8080/",
     "height": 297
    },
    "colab_type": "code",
    "id": "KW4Dwf5R3EVy",
    "outputId": "1215ead6-04f1-4f76-8e39-5bfcb2b7c351"
   },
   "outputs": [
    {
     "data": {
      "text/html": [
       "<div>\n",
       "<style scoped>\n",
       "    .dataframe tbody tr th:only-of-type {\n",
       "        vertical-align: middle;\n",
       "    }\n",
       "\n",
       "    .dataframe tbody tr th {\n",
       "        vertical-align: top;\n",
       "    }\n",
       "\n",
       "    .dataframe thead th {\n",
       "        text-align: right;\n",
       "    }\n",
       "</style>\n",
       "<table border=\"1\" class=\"dataframe\">\n",
       "  <thead>\n",
       "    <tr style=\"text-align: right;\">\n",
       "      <th></th>\n",
       "      <th>Level 1: Unctrl: 200 kW : 102 EVSEs</th>\n",
       "      <th>Level 2: Unctrl: 200 kW : 30 EVSEs</th>\n",
       "      <th>Level 2: Unctrl: 670 kW : 102 EVSEs</th>\n",
       "      <th>Level 2: LLF: 200 kW : 102 EVSEs</th>\n",
       "      <th>Level 2: Min Cost: 200 kW : 102 EVSEs</th>\n",
       "      <th>Level 2: Min Cost: 200 kW : 201 EVSEs</th>\n",
       "    </tr>\n",
       "  </thead>\n",
       "  <tbody>\n",
       "    <tr>\n",
       "      <th>proportion_of_energy_delivered</th>\n",
       "      <td>0.730504</td>\n",
       "      <td>0.913737</td>\n",
       "      <td>0.998447</td>\n",
       "      <td>0.883396</td>\n",
       "      <td>0.867435</td>\n",
       "      <td>0.983779</td>\n",
       "    </tr>\n",
       "    <tr>\n",
       "      <th>energy_delivered</th>\n",
       "      <td>34125.243336</td>\n",
       "      <td>42684.900077</td>\n",
       "      <td>46642.088051</td>\n",
       "      <td>41267.544000</td>\n",
       "      <td>40521.942111</td>\n",
       "      <td>45956.898999</td>\n",
       "    </tr>\n",
       "    <tr>\n",
       "      <th>num_swaps</th>\n",
       "      <td>1214.000000</td>\n",
       "      <td>2967.000000</td>\n",
       "      <td>1113.000000</td>\n",
       "      <td>1449.000000</td>\n",
       "      <td>1425.000000</td>\n",
       "      <td>0.000000</td>\n",
       "    </tr>\n",
       "    <tr>\n",
       "      <th>num_never_charged</th>\n",
       "      <td>14.000000</td>\n",
       "      <td>205.000000</td>\n",
       "      <td>0.000000</td>\n",
       "      <td>305.000000</td>\n",
       "      <td>344.000000</td>\n",
       "      <td>0.000000</td>\n",
       "    </tr>\n",
       "    <tr>\n",
       "      <th>energy_cost</th>\n",
       "      <td>5317.505932</td>\n",
       "      <td>6916.562569</td>\n",
       "      <td>5524.710717</td>\n",
       "      <td>6750.448114</td>\n",
       "      <td>6002.584158</td>\n",
       "      <td>7413.359855</td>\n",
       "    </tr>\n",
       "    <tr>\n",
       "      <th>demand_charge</th>\n",
       "      <td>3037.478400</td>\n",
       "      <td>3070.980000</td>\n",
       "      <td>9404.831489</td>\n",
       "      <td>3077.680320</td>\n",
       "      <td>3100.262880</td>\n",
       "      <td>3100.262880</td>\n",
       "    </tr>\n",
       "    <tr>\n",
       "      <th>total_cost</th>\n",
       "      <td>8354.984332</td>\n",
       "      <td>9987.542569</td>\n",
       "      <td>14929.542207</td>\n",
       "      <td>9828.128434</td>\n",
       "      <td>9102.847038</td>\n",
       "      <td>10513.622735</td>\n",
       "    </tr>\n",
       "    <tr>\n",
       "      <th>$/kWh</th>\n",
       "      <td>0.244833</td>\n",
       "      <td>0.233983</td>\n",
       "      <td>0.320087</td>\n",
       "      <td>0.238156</td>\n",
       "      <td>0.224640</td>\n",
       "      <td>0.228771</td>\n",
       "    </tr>\n",
       "  </tbody>\n",
       "</table>\n",
       "</div>"
      ],
      "text/plain": [
       "                                Level 1: Unctrl: 200 kW : 102 EVSEs  \\\n",
       "proportion_of_energy_delivered                             0.730504   \n",
       "energy_delivered                                       34125.243336   \n",
       "num_swaps                                               1214.000000   \n",
       "num_never_charged                                         14.000000   \n",
       "energy_cost                                             5317.505932   \n",
       "demand_charge                                           3037.478400   \n",
       "total_cost                                              8354.984332   \n",
       "$/kWh                                                      0.244833   \n",
       "\n",
       "                                Level 2: Unctrl: 200 kW : 30 EVSEs  \\\n",
       "proportion_of_energy_delivered                            0.913737   \n",
       "energy_delivered                                      42684.900077   \n",
       "num_swaps                                              2967.000000   \n",
       "num_never_charged                                       205.000000   \n",
       "energy_cost                                            6916.562569   \n",
       "demand_charge                                          3070.980000   \n",
       "total_cost                                             9987.542569   \n",
       "$/kWh                                                     0.233983   \n",
       "\n",
       "                                Level 2: Unctrl: 670 kW : 102 EVSEs  \\\n",
       "proportion_of_energy_delivered                             0.998447   \n",
       "energy_delivered                                       46642.088051   \n",
       "num_swaps                                               1113.000000   \n",
       "num_never_charged                                          0.000000   \n",
       "energy_cost                                             5524.710717   \n",
       "demand_charge                                           9404.831489   \n",
       "total_cost                                             14929.542207   \n",
       "$/kWh                                                      0.320087   \n",
       "\n",
       "                                Level 2: LLF: 200 kW : 102 EVSEs  \\\n",
       "proportion_of_energy_delivered                          0.883396   \n",
       "energy_delivered                                    41267.544000   \n",
       "num_swaps                                            1449.000000   \n",
       "num_never_charged                                     305.000000   \n",
       "energy_cost                                          6750.448114   \n",
       "demand_charge                                        3077.680320   \n",
       "total_cost                                           9828.128434   \n",
       "$/kWh                                                   0.238156   \n",
       "\n",
       "                                Level 2: Min Cost: 200 kW : 102 EVSEs  \\\n",
       "proportion_of_energy_delivered                               0.867435   \n",
       "energy_delivered                                         40521.942111   \n",
       "num_swaps                                                 1425.000000   \n",
       "num_never_charged                                          344.000000   \n",
       "energy_cost                                               6002.584158   \n",
       "demand_charge                                             3100.262880   \n",
       "total_cost                                                9102.847038   \n",
       "$/kWh                                                        0.224640   \n",
       "\n",
       "                                Level 2: Min Cost: 200 kW : 201 EVSEs  \n",
       "proportion_of_energy_delivered                               0.983779  \n",
       "energy_delivered                                         45956.898999  \n",
       "num_swaps                                                    0.000000  \n",
       "num_never_charged                                            0.000000  \n",
       "energy_cost                                               7413.359855  \n",
       "demand_charge                                             3100.262880  \n",
       "total_cost                                               10513.622735  \n",
       "$/kWh                                                        0.228771  "
      ]
     },
     "execution_count": 27,
     "metadata": {},
     "output_type": "execute_result"
    }
   ],
   "source": [
    "evs_200 = pd.DataFrame({\n",
    "    'Level 1: Unctrl: 200 kW : 102 EVSEs': level1_unctrl_200,\n",
    "    'Level 2: Unctrl: 200 kW : 30 EVSEs':  level2_200kW_untrl_200,\n",
    "    'Level 2: Unctrl: 670 kW : 102 EVSEs': level2_670kW_unctrl_200,\n",
    "    'Level 2: LLF: 200 kW : 102 EVSEs': level2_200kW_llf_200,\n",
    "    'Level 2: Min Cost: 200 kW : 102 EVSEs': level2_200kW_cost_min_200,\n",
    "    'Level 2: Min Cost: 200 kW : 201 EVSEs': level2_200kW_cost_min_201_200\n",
    "})\n",
    "evs_200"
   ]
  },
  {
   "cell_type": "code",
   "execution_count": null,
   "metadata": {},
   "outputs": [],
   "source": [
    "evs_200.to_csv(\"results/200_EV_comparison.csv\")"
   ]
  },
  {
   "cell_type": "markdown",
   "metadata": {
    "colab_type": "text",
    "id": "1NxLXfdbONx_"
   },
   "source": [
    "From the above table we can see that smart charging using even a simple LLF algorithm has significant benefits over Uncontrolled Level-1 charging in terms of amount of demand met. It also requires far less infrastructure than Uncontrolled Level-2 charging with the same number of EVSEs, and without requiring users to swap spaces mid-day. "
   ]
  }
 ],
 "metadata": {
  "colab": {
   "collapsed_sections": [],
   "name": "infrastructure_evaluation.ipynb",
   "provenance": []
  },
  "kernelspec": {
   "display_name": "Python 3",
   "language": "python",
   "name": "python3"
  },
  "language_info": {
   "codemirror_mode": {
    "name": "ipython",
    "version": 3
   },
   "file_extension": ".py",
   "mimetype": "text/x-python",
   "name": "python",
   "nbconvert_exporter": "python",
   "pygments_lexer": "ipython3",
   "version": "3.8.1"
  }
 },
 "nbformat": 4,
 "nbformat_minor": 4
}
