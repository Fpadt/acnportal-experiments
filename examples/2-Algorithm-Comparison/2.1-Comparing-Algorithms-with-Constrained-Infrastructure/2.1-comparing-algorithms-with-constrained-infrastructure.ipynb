{
 "cells": [
  {
   "cell_type": "markdown",
   "metadata": {
    "colab_type": "text",
    "id": "IhI2uguhv2RV"
   },
   "source": [
    "*If running in Colab run this first to install ACN-Portal.*"
   ]
  },
  {
   "cell_type": "code",
   "execution_count": 1,
   "metadata": {
    "colab": {},
    "colab_type": "code",
    "id": "jaheloGAKKXU",
    "jupyter": {
     "outputs_hidden": true
    }
   },
   "outputs": [],
   "source": [
    "%%script false --no-raise-error\n",
    "import subprocess\n",
    "import sys\n",
    "\n",
    "if 'google.colab' in str(get_ipython()):\n",
    "    print('Running on CoLab')\n",
    "    subprocess.check_call([sys.executable, \"-m\", \"pip\", \"install\", \"acnportal\"])\n",
    "    subprocess.check_call([sys.executable, \"-m\", \"pip\", \"install\", \"git+https://github.com/caltech-netlab/adacharge\"])"
   ]
  },
  {
   "cell_type": "markdown",
   "metadata": {
    "colab_type": "text",
    "id": "9UiM4S_79Fwp"
   },
   "source": [
    "# Baseline Algorithm Evaluation\n",
    "In this experiment we compare the performance of the Round Robin, First-Come First-Served, Earliest Deadline First, and Least Laxity First algorithms. To understand how these algorithms cope with constrained infrastructure, we limit the capacity of the transformer feeding the charging network. We then compare what percentage of energy demands each algorithm is able to meet. We also consider the current unbalance caused by each algorithm to help understand why certain algorithms are able to deliver more or less energy at a given infrastrucutre capacity."
   ]
  },
  {
   "cell_type": "code",
   "execution_count": 2,
   "metadata": {
    "colab": {},
    "colab_type": "code",
    "id": "QZy2CYP4KNED"
   },
   "outputs": [
    {
     "data": {
      "text/plain": [
       "<module 'adacharge' from '/home/floris/miniforge3/envs/acn_py38/lib/python3.8/site-packages/adacharge/__init__.py'>"
      ]
     },
     "execution_count": 2,
     "metadata": {},
     "output_type": "execute_result"
    }
   ],
   "source": [
    "from matplotlib import pyplot as plt\n",
    "import matplotlib\n",
    "import matplotlib.dates as mdates\n",
    "from datetime import datetime, timedelta\n",
    "import pytz\n",
    "import numpy as np\n",
    "import pandas as pd\n",
    "from collections import defaultdict\n",
    "from pprint import pprint\n",
    "from copy import deepcopy\n",
    "import json\n",
    "import os\n",
    "import time\n",
    "import gzip\n",
    "import random\n",
    "\n",
    "from acnportal import acnsim\n",
    "from acnportal import algorithms\n",
    "\n",
    "from acnportal.acnsim import analysis\n",
    "from acnportal.signals.tariffs import TimeOfUseTariff\n",
    "\n",
    "import adacharge\n",
    "\n",
    "import importlib\n",
    "importlib.reload(adacharge)"
   ]
  },
  {
   "cell_type": "code",
   "execution_count": 3,
   "metadata": {},
   "outputs": [],
   "source": [
    "matplotlib.rcParams.update({'font.size': 12})"
   ]
  },
  {
   "cell_type": "markdown",
   "metadata": {
    "colab_type": "text",
    "id": "3qx32BT2F3AB"
   },
   "source": [
    "## Experiment Parameters\n"
   ]
  },
  {
   "cell_type": "code",
   "execution_count": 4,
   "metadata": {
    "colab": {},
    "colab_type": "code",
    "id": "PIGTi0JKKXGl"
   },
   "outputs": [],
   "source": [
    "# Timezone of the ACN we are using.\n",
    "timezone = pytz.timezone('Europe/Amsterdam')\n",
    "\n",
    "# Start and End times are used when collecting data.\n",
    "start = timezone.localize(datetime(2019, 3, 1))\n",
    "\n",
    "# Use only one week for quicker results.\n",
    "end = timezone.localize(datetime(2019, 4, 1,))\n",
    "\n",
    "# How long each time discrete time interval in the simulation should be.\n",
    "period = 5  # minutes\n",
    "\n",
    "# Voltage of the network.\n",
    "voltage = 208  # volts\n",
    "\n",
    "# Default maximum charging rate for each EV battery.\n",
    "default_battery_power =  6.6 # 32 * voltage / 1000 # kW\n",
    "\n",
    "# Site info\n",
    "site = 'caltech'\n",
    "station_ids = acnsim.sites.caltech_acn().station_ids"
   ]
  },
  {
   "cell_type": "code",
   "execution_count": 5,
   "metadata": {},
   "outputs": [],
   "source": [
    "# Get Events Via the API\n",
    "API_KEY = os.getenv('API_KEY')\n",
    "events = acnsim.acndata_events.generate_events(API_KEY, site, start, end, \n",
    "                                               period, voltage, \n",
    "                                               default_battery_power)"
   ]
  },
  {
   "cell_type": "code",
   "execution_count": 6,
   "metadata": {},
   "outputs": [],
   "source": [
    "# Save Events\n",
    "start_iso = start.strftime(\"%Y%m%dT%H%M%S\")\n",
    "end_iso = end.strftime(\"%Y%m%dT%H%M%S\")\n",
    "name = f\"events/{site}_{start_iso}_{end_iso}_{period}m_{voltage}V_{default_battery_power}kW.json.gz\"\n",
    "if not os.path.exists(name):\n",
    "    data = events.to_json()\n",
    "    with gzip.GzipFile(name, 'w') as fout:\n",
    "        fout.write(json.dumps(data).encode('utf-8'))"
   ]
  },
  {
   "cell_type": "code",
   "execution_count": 7,
   "metadata": {},
   "outputs": [
    {
     "name": "stderr",
     "output_type": "stream",
     "text": [
      "/home/floris/miniforge3/envs/acn_py38/lib/python3.8/site-packages/acnportal/acnsim/base.py:667: UserWarning: Version 0.3.2 of input acnportal object does not match current version 0.3.3.\n",
      "  warnings.warn(\n",
      "/home/floris/miniforge3/envs/acn_py38/lib/python3.8/site-packages/acnportal/acnsim/base.py:680: UserWarning: Current version of dependency numpy does not match serialized version. Current: 1.24.4, Serialized: 1.26.0.\n",
      "  warnings.warn(\n",
      "/home/floris/miniforge3/envs/acn_py38/lib/python3.8/site-packages/acnportal/acnsim/base.py:680: UserWarning: Current version of dependency pandas does not match serialized version. Current: 2.0.3, Serialized: 1.1.5.\n",
      "  warnings.warn(\n"
     ]
    }
   ],
   "source": [
    "# Load Events\n",
    "start_iso = start.strftime(\"%Y%m%dT%H%M%S\")\n",
    "end_iso = end.strftime(\"%Y%m%dT%H%M%S\")\n",
    "name = f\"events/{site}_{start_iso}_{end_iso}_{period}m_{voltage}V_{default_battery_power}kW.json.gz\"\n",
    "if os.path.exists(name):\n",
    "    with gzip.GzipFile(name, 'r') as fin:\n",
    "        data = json.loads(fin.read().decode('utf-8'))\n",
    "        events = acnsim.EventQueue.from_json(data)\n",
    "else:\n",
    "    print(\"No cached events with the given parameters.\")"
   ]
  },
  {
   "cell_type": "markdown",
   "metadata": {
    "colab_type": "text",
    "id": "rO1dfvvqqqcn"
   },
   "source": [
    "## Algorithms\n",
    "We consider four algorithms: Round Robin, First-Come First-Served, Earliest Deadline First, and Least Laxity First."
   ]
  },
  {
   "cell_type": "code",
   "execution_count": 8,
   "metadata": {},
   "outputs": [],
   "source": [
    "def days_remaining_scale_demand_charge(rates, infrastructure, interface,\n",
    "                                       baseline_peak=0, **kwargs):\n",
    "    day_index = interface.current_time // ((60 / interface.period) * 24)\n",
    "    days_in_month = 30\n",
    "    day_index = min(day_index, days_in_month - 1)\n",
    "    scale = 1 / (days_in_month - day_index)\n",
    "    dc = adacharge.demand_charge(rates, infrastructure, interface, baseline_peak, **kwargs)\n",
    "    return scale * dc"
   ]
  },
  {
   "cell_type": "code",
   "execution_count": 9,
   "metadata": {
    "colab": {},
    "colab_type": "code",
    "id": "4mmi7SjPHvfo"
   },
   "outputs": [],
   "source": [
    "sch = {}\n",
    "sch['Unctrl'] = algorithms.UncontrolledCharging()\n",
    "sch['FCFS'] = algorithms.SortedSchedulingAlgo(algorithms.first_come_first_served)\n",
    "sch['LLF'] = algorithms.SortedSchedulingAlgo(algorithms.least_laxity_first)\n",
    "sch['EDF'] = algorithms.SortedSchedulingAlgo(algorithms.earliest_deadline_first)\n",
    "sch['RR'] = algorithms.RoundRobin(algorithms.first_come_first_served)\n",
    "    \n",
    "quick_charge_obj = [adacharge.ObjectiveComponent(adacharge.quick_charge),\n",
    "                    adacharge.ObjectiveComponent(adacharge.equal_share, 1e-12)]\n",
    "sch['MPC_QC'] = adacharge.AdaptiveSchedulingAlgorithm(quick_charge_obj, solver=\"ECOS\")\n",
    "sch['Offline_QC'] = adacharge.AdaptiveChargingAlgorithmOffline(quick_charge_obj, solver=\"ECOS\")\n",
    "\n",
    "cost_min_obj = [adacharge.ObjectiveComponent(adacharge.total_energy, 1000),\n",
    "                adacharge.ObjectiveComponent(adacharge.tou_energy_cost),\n",
    "                adacharge.ObjectiveComponent(days_remaining_scale_demand_charge),\n",
    "                adacharge.ObjectiveComponent(adacharge.quick_charge, 1e-4),\n",
    "                adacharge.ObjectiveComponent(adacharge.equal_share, 1e-12)\n",
    "               ]\n",
    "sch['MPC_CM'] = adacharge.AdaptiveSchedulingAlgorithm(cost_min_obj, solver=\"MOSEK\")\n",
    "\n",
    "cost_min_obj_off = [\n",
    "                    adacharge.ObjectiveComponent(adacharge.total_energy, 1000),\n",
    "                    adacharge.ObjectiveComponent(adacharge.tou_energy_cost),\n",
    "                    adacharge.ObjectiveComponent(adacharge.demand_charge),\n",
    "                   ]\n",
    "sch['Offline_CM'] = adacharge.AdaptiveChargingAlgorithmOffline(cost_min_obj_off, solver=\"MOSEK\")"
   ]
  },
  {
   "cell_type": "markdown",
   "metadata": {
    "colab_type": "text",
    "id": "fSa_fwSZq4Og"
   },
   "source": [
    "## Experiment"
   ]
  },
  {
   "cell_type": "markdown",
   "metadata": {},
   "source": [
    "Load results from the data directory. "
   ]
  },
  {
   "cell_type": "code",
   "execution_count": 10,
   "metadata": {},
   "outputs": [
    {
     "name": "stderr",
     "output_type": "stream",
     "text": [
      "/home/floris/miniforge3/envs/acn_py38/lib/python3.8/site-packages/acnportal/acnsim/simulator.py:469: UserWarning: Scheduler acnportal.algorithms.sorted_algorithms.RoundRobin requires constructor inputs. Setting scheduler to BaseAlgorithm instead.\n",
      "  warnings.warn(\n",
      "/home/floris/miniforge3/envs/acn_py38/lib/python3.8/site-packages/acnportal/acnsim/simulator.py:469: UserWarning: Scheduler acnportal.algorithms.sorted_algorithms.SortedSchedulingAlgo requires constructor inputs. Setting scheduler to BaseAlgorithm instead.\n",
      "  warnings.warn(\n",
      "/home/floris/miniforge3/envs/acn_py38/lib/python3.8/site-packages/acnportal/acnsim/simulator.py:469: UserWarning: Scheduler adacharge.adacharge.AdaptiveSchedulingAlgorithm requires constructor inputs. Setting scheduler to BaseAlgorithm instead.\n",
      "  warnings.warn(\n",
      "/home/floris/miniforge3/envs/acn_py38/lib/python3.8/site-packages/acnportal/acnsim/simulator.py:469: UserWarning: Scheduler adacharge.adacharge.AdaptiveChargingAlgorithmOffline requires constructor inputs. Setting scheduler to BaseAlgorithm instead.\n",
      "  warnings.warn(\n"
     ]
    }
   ],
   "source": [
    "sims = dict()\n",
    "results_dir = \"results/sims\"\n",
    "if os.path.exists(results_dir):\n",
    "    for filename in os.listdir(results_dir):\n",
    "        try:\n",
    "            split_name = filename.split(\".\")\n",
    "            if \"gz\" == split_name[-1]:\n",
    "                network_type, alg_name, cap = split_name[0].split(\"-\")\n",
    "                path = os.path.join(results_dir, filename)\n",
    "                with gzip.GzipFile(path, 'r') as fin:\n",
    "                    data = json.loads(fin.read().decode('utf-8'))\n",
    "                    sims[network_type, alg_name, int(cap)] = acnsim.Simulator.from_json(data)\n",
    "        except ValueError:\n",
    "            pass"
   ]
  },
  {
   "cell_type": "markdown",
   "metadata": {},
   "source": [
    "### Run Experiment from Scratch\n",
    "\n",
    "To run the experiment we vary the capacity of the transformer which feeds the Caltech charging network from 5 kW to 150 kW. This allows us to see how each algorithm copes with various levels of infrastructure constraints."
   ]
  },
  {
   "cell_type": "code",
   "execution_count": 11,
   "metadata": {},
   "outputs": [],
   "source": [
    "sims = dict()"
   ]
  },
  {
   "cell_type": "code",
   "execution_count": 12,
   "metadata": {},
   "outputs": [],
   "source": [
    "def run_experiment(network_type, alg_name, cap):            \n",
    "    if network_type == \"single_phase\":\n",
    "        cn = acnsim.sites.simple_acn(station_ids, voltage=voltage, aggregate_cap=cap)\n",
    "    else:\n",
    "        cn = acnsim.sites.caltech_acn(basic_evse=True, voltage=voltage, transformer_cap=cap)\n",
    "    alg = deepcopy(sch[alg_name])\n",
    "    experiment_events = deepcopy(events)\n",
    "    signals = {'tariff': TimeOfUseTariff(\"sce_tou_ev_4_march_2019\")}\n",
    "    sim = acnsim.Simulator(cn, alg, experiment_events, start, period=period, signals=signals, verbose=False)\n",
    "    print(\"Running...\")\n",
    "    start_simulation = time.time()\n",
    "    if alg_name == \"Offline_CM\" or alg_name == \"Offline_QC\":\n",
    "        alg.register_events(experiment_events)\n",
    "        alg.solve()\n",
    "    sim.run()\n",
    "    print(f\"Run time: {time.time() - start_simulation}\")\n",
    "    return sim"
   ]
  },
  {
   "cell_type": "code",
   "execution_count": 13,
   "metadata": {
    "colab": {
     "base_uri": "https://localhost:8080/",
     "height": 612
    },
    "colab_type": "code",
    "id": "cER7tAcfKbuW",
    "outputId": "b3ff15bd-c93d-4a6c-ac45-79f772c4095c"
   },
   "outputs": [
    {
     "name": "stdout",
     "output_type": "stream",
     "text": [
      "('single_phase', 'Unctrl', 125)\n",
      "Running...\n",
      "Run time: 0.46361756324768066\n",
      "('single_phase', 'FCFS', 125)\n",
      "Running...\n",
      "Run time: 0.7278439998626709\n",
      "('single_phase', 'EDF', 125)\n",
      "Running...\n",
      "Run time: 0.6616580486297607\n",
      "('single_phase', 'LLF', 125)\n",
      "Running...\n",
      "Run time: 1.2419519424438477\n",
      "('single_phase', 'RR', 125)\n",
      "Running...\n",
      "Run time: 13.735879182815552\n",
      "('single_phase', 'MPC_CM', 125)\n",
      "Running...\n",
      "Run time: 18.508678197860718\n",
      "('single_phase', 'Offline_CM', 125)\n",
      "Running...\n",
      "Run time: 1.0360329151153564\n",
      "('three_phase', 'Unctrl', 125)\n",
      "Running...\n",
      "Run time: 0.2089216709136963\n",
      "('three_phase', 'FCFS', 125)\n",
      "Running...\n",
      "Run time: 1.1984541416168213\n",
      "('three_phase', 'EDF', 125)\n",
      "Running...\n",
      "Run time: 1.3145065307617188\n",
      "('three_phase', 'LLF', 125)\n",
      "Running...\n",
      "Run time: 1.3033199310302734\n",
      "('three_phase', 'RR', 125)\n",
      "Running...\n",
      "Run time: 80.57572937011719\n",
      "('three_phase', 'MPC_CM', 125)\n",
      "Running...\n",
      "Run time: 48.51488137245178\n",
      "('three_phase', 'Offline_CM', 125)\n",
      "Running...\n",
      "Run time: 4.60791015625\n"
     ]
    }
   ],
   "source": [
    "# We expect Unctrl to overload the system, so we will surpress warnings.\n",
    "import warnings\n",
    "warnings.simplefilter(\"ignore\")\n",
    "    \n",
    "capacities = list(range(10, 126, 5))\n",
    "alg_names = [\"Unctrl\", \"FCFS\", \"EDF\", \"LLF\", \"RR\", \"MPC_CM\", \"Offline_CM\"]\n",
    "for network_type in [\"single_phase\", \"three_phase\"]:\n",
    "    for cap in capacities:\n",
    "        for alg_name in alg_names:\n",
    "            config = (network_type, alg_name, cap)\n",
    "            print(config)\n",
    "            if config not in sims:\n",
    "                sims[config] = run_experiment(*config)"
   ]
  },
  {
   "cell_type": "code",
   "execution_count": 25,
   "metadata": {},
   "outputs": [],
   "source": [
    "if not os.path.exists(\"results/sims\"):\n",
    "    os.makedirs(\"results/sims\")\n",
    "    \n",
    "for config, sim in sims.items():\n",
    "    name = \"results/sims/{0}-{1}-{2}.json.gz\".format(*config)\n",
    "    if not os.path.exists(name):\n",
    "        data = sim.to_json()\n",
    "        with gzip.GzipFile(name, 'w') as fout:\n",
    "            fout.write(json.dumps(data).encode('utf-8'))"
   ]
  },
  {
   "cell_type": "markdown",
   "metadata": {
    "colab_type": "text",
    "id": "7UJwNuU2rpwq"
   },
   "source": [
    "## Results\n",
    "We can then analyze the results of the experiment. We consider three metrics. \n",
    "\n",
    "1.   Proportion of total energy requested which is delivered by each algorithm. \n",
    "2.   Maximum infrastructure utilization, defined as the maximum instantaneous power draw over the capacity of the system.\n",
    "3.   Average current unbalance which measures how well each algorithm is able to balance between phases, a key factor in maximally utilizing infrastructure capacity."
   ]
  },
  {
   "cell_type": "code",
   "execution_count": 26,
   "metadata": {},
   "outputs": [],
   "source": [
    "def calc_metrics(config, sim):\n",
    "    metrics = {\n",
    "        \"Network Type\": config[0],\n",
    "        \"Algorithm\": config[1],\n",
    "        \"Capacity (kW)\": config[2],\n",
    "        \"Energy Delivered (%)\": analysis.proportion_of_energy_delivered(sim) * 100,\n",
    "        \"Max Utilization (%)\": np.max(analysis.aggregate_power(sim)) / config[2] * 100,\n",
    "        \"Peak (kW)\": np.max(analysis.aggregate_power(sim))\n",
    "    }\n",
    "    if config[0] == \"three_phase\":\n",
    "        metrics[\"Current Unbalance\"] = np.nanmean(analysis.current_unbalance(sim, ['Secondary {0}'.format(p) for p in 'ABC'], 'NEMA'))\n",
    "    else:\n",
    "        metrics[\"Current Unbalance\"] = np.nan\n",
    "    return metrics"
   ]
  },
  {
   "cell_type": "code",
   "execution_count": 27,
   "metadata": {},
   "outputs": [],
   "source": [
    "metrics = pd.DataFrame(calc_metrics(config, sim) for config, sim in sims.items())"
   ]
  },
  {
   "cell_type": "code",
   "execution_count": 28,
   "metadata": {},
   "outputs": [
    {
     "data": {
      "text/html": [
       "<div>\n",
       "<style scoped>\n",
       "    .dataframe tbody tr th:only-of-type {\n",
       "        vertical-align: middle;\n",
       "    }\n",
       "\n",
       "    .dataframe tbody tr th {\n",
       "        vertical-align: top;\n",
       "    }\n",
       "\n",
       "    .dataframe thead th {\n",
       "        text-align: right;\n",
       "    }\n",
       "</style>\n",
       "<table border=\"1\" class=\"dataframe\">\n",
       "  <thead>\n",
       "    <tr style=\"text-align: right;\">\n",
       "      <th></th>\n",
       "      <th></th>\n",
       "      <th>count</th>\n",
       "      <th>mean</th>\n",
       "      <th>std</th>\n",
       "      <th>min</th>\n",
       "      <th>25%</th>\n",
       "      <th>50%</th>\n",
       "      <th>75%</th>\n",
       "      <th>max</th>\n",
       "    </tr>\n",
       "    <tr>\n",
       "      <th>Algorithm</th>\n",
       "      <th>Network Type</th>\n",
       "      <th></th>\n",
       "      <th></th>\n",
       "      <th></th>\n",
       "      <th></th>\n",
       "      <th></th>\n",
       "      <th></th>\n",
       "      <th></th>\n",
       "      <th></th>\n",
       "    </tr>\n",
       "  </thead>\n",
       "  <tbody>\n",
       "    <tr>\n",
       "      <th rowspan=\"2\" valign=\"top\">EDF</th>\n",
       "      <th>single_phase</th>\n",
       "      <td>1.0</td>\n",
       "      <td>99.990580</td>\n",
       "      <td>NaN</td>\n",
       "      <td>99.990580</td>\n",
       "      <td>99.990580</td>\n",
       "      <td>99.990580</td>\n",
       "      <td>99.990580</td>\n",
       "      <td>99.990580</td>\n",
       "    </tr>\n",
       "    <tr>\n",
       "      <th>three_phase</th>\n",
       "      <td>1.0</td>\n",
       "      <td>99.990580</td>\n",
       "      <td>NaN</td>\n",
       "      <td>99.990580</td>\n",
       "      <td>99.990580</td>\n",
       "      <td>99.990580</td>\n",
       "      <td>99.990580</td>\n",
       "      <td>99.990580</td>\n",
       "    </tr>\n",
       "    <tr>\n",
       "      <th rowspan=\"2\" valign=\"top\">FCFS</th>\n",
       "      <th>single_phase</th>\n",
       "      <td>1.0</td>\n",
       "      <td>99.990580</td>\n",
       "      <td>NaN</td>\n",
       "      <td>99.990580</td>\n",
       "      <td>99.990580</td>\n",
       "      <td>99.990580</td>\n",
       "      <td>99.990580</td>\n",
       "      <td>99.990580</td>\n",
       "    </tr>\n",
       "    <tr>\n",
       "      <th>three_phase</th>\n",
       "      <td>1.0</td>\n",
       "      <td>99.990580</td>\n",
       "      <td>NaN</td>\n",
       "      <td>99.990580</td>\n",
       "      <td>99.990580</td>\n",
       "      <td>99.990580</td>\n",
       "      <td>99.990580</td>\n",
       "      <td>99.990580</td>\n",
       "    </tr>\n",
       "    <tr>\n",
       "      <th rowspan=\"2\" valign=\"top\">LLF</th>\n",
       "      <th>single_phase</th>\n",
       "      <td>1.0</td>\n",
       "      <td>99.990580</td>\n",
       "      <td>NaN</td>\n",
       "      <td>99.990580</td>\n",
       "      <td>99.990580</td>\n",
       "      <td>99.990580</td>\n",
       "      <td>99.990580</td>\n",
       "      <td>99.990580</td>\n",
       "    </tr>\n",
       "    <tr>\n",
       "      <th>three_phase</th>\n",
       "      <td>1.0</td>\n",
       "      <td>99.990580</td>\n",
       "      <td>NaN</td>\n",
       "      <td>99.990580</td>\n",
       "      <td>99.990580</td>\n",
       "      <td>99.990580</td>\n",
       "      <td>99.990580</td>\n",
       "      <td>99.990580</td>\n",
       "    </tr>\n",
       "    <tr>\n",
       "      <th rowspan=\"2\" valign=\"top\">MPC_CM</th>\n",
       "      <th>single_phase</th>\n",
       "      <td>1.0</td>\n",
       "      <td>99.990437</td>\n",
       "      <td>NaN</td>\n",
       "      <td>99.990437</td>\n",
       "      <td>99.990437</td>\n",
       "      <td>99.990437</td>\n",
       "      <td>99.990437</td>\n",
       "      <td>99.990437</td>\n",
       "    </tr>\n",
       "    <tr>\n",
       "      <th>three_phase</th>\n",
       "      <td>1.0</td>\n",
       "      <td>99.990535</td>\n",
       "      <td>NaN</td>\n",
       "      <td>99.990535</td>\n",
       "      <td>99.990535</td>\n",
       "      <td>99.990535</td>\n",
       "      <td>99.990535</td>\n",
       "      <td>99.990535</td>\n",
       "    </tr>\n",
       "    <tr>\n",
       "      <th rowspan=\"2\" valign=\"top\">Offline_CM</th>\n",
       "      <th>single_phase</th>\n",
       "      <td>1.0</td>\n",
       "      <td>99.990514</td>\n",
       "      <td>NaN</td>\n",
       "      <td>99.990514</td>\n",
       "      <td>99.990514</td>\n",
       "      <td>99.990514</td>\n",
       "      <td>99.990514</td>\n",
       "      <td>99.990514</td>\n",
       "    </tr>\n",
       "    <tr>\n",
       "      <th>three_phase</th>\n",
       "      <td>1.0</td>\n",
       "      <td>99.990580</td>\n",
       "      <td>NaN</td>\n",
       "      <td>99.990580</td>\n",
       "      <td>99.990580</td>\n",
       "      <td>99.990580</td>\n",
       "      <td>99.990580</td>\n",
       "      <td>99.990580</td>\n",
       "    </tr>\n",
       "    <tr>\n",
       "      <th rowspan=\"2\" valign=\"top\">RR</th>\n",
       "      <th>single_phase</th>\n",
       "      <td>1.0</td>\n",
       "      <td>99.983204</td>\n",
       "      <td>NaN</td>\n",
       "      <td>99.983204</td>\n",
       "      <td>99.983204</td>\n",
       "      <td>99.983204</td>\n",
       "      <td>99.983204</td>\n",
       "      <td>99.983204</td>\n",
       "    </tr>\n",
       "    <tr>\n",
       "      <th>three_phase</th>\n",
       "      <td>1.0</td>\n",
       "      <td>99.983204</td>\n",
       "      <td>NaN</td>\n",
       "      <td>99.983204</td>\n",
       "      <td>99.983204</td>\n",
       "      <td>99.983204</td>\n",
       "      <td>99.983204</td>\n",
       "      <td>99.983204</td>\n",
       "    </tr>\n",
       "    <tr>\n",
       "      <th rowspan=\"2\" valign=\"top\">Unctrl</th>\n",
       "      <th>single_phase</th>\n",
       "      <td>1.0</td>\n",
       "      <td>99.990580</td>\n",
       "      <td>NaN</td>\n",
       "      <td>99.990580</td>\n",
       "      <td>99.990580</td>\n",
       "      <td>99.990580</td>\n",
       "      <td>99.990580</td>\n",
       "      <td>99.990580</td>\n",
       "    </tr>\n",
       "    <tr>\n",
       "      <th>three_phase</th>\n",
       "      <td>1.0</td>\n",
       "      <td>99.990580</td>\n",
       "      <td>NaN</td>\n",
       "      <td>99.990580</td>\n",
       "      <td>99.990580</td>\n",
       "      <td>99.990580</td>\n",
       "      <td>99.990580</td>\n",
       "      <td>99.990580</td>\n",
       "    </tr>\n",
       "  </tbody>\n",
       "</table>\n",
       "</div>"
      ],
      "text/plain": [
       "                         count       mean  std        min        25%  \\\n",
       "Algorithm  Network Type                                                \n",
       "EDF        single_phase    1.0  99.990580  NaN  99.990580  99.990580   \n",
       "           three_phase     1.0  99.990580  NaN  99.990580  99.990580   \n",
       "FCFS       single_phase    1.0  99.990580  NaN  99.990580  99.990580   \n",
       "           three_phase     1.0  99.990580  NaN  99.990580  99.990580   \n",
       "LLF        single_phase    1.0  99.990580  NaN  99.990580  99.990580   \n",
       "           three_phase     1.0  99.990580  NaN  99.990580  99.990580   \n",
       "MPC_CM     single_phase    1.0  99.990437  NaN  99.990437  99.990437   \n",
       "           three_phase     1.0  99.990535  NaN  99.990535  99.990535   \n",
       "Offline_CM single_phase    1.0  99.990514  NaN  99.990514  99.990514   \n",
       "           three_phase     1.0  99.990580  NaN  99.990580  99.990580   \n",
       "RR         single_phase    1.0  99.983204  NaN  99.983204  99.983204   \n",
       "           three_phase     1.0  99.983204  NaN  99.983204  99.983204   \n",
       "Unctrl     single_phase    1.0  99.990580  NaN  99.990580  99.990580   \n",
       "           three_phase     1.0  99.990580  NaN  99.990580  99.990580   \n",
       "\n",
       "                               50%        75%        max  \n",
       "Algorithm  Network Type                                   \n",
       "EDF        single_phase  99.990580  99.990580  99.990580  \n",
       "           three_phase   99.990580  99.990580  99.990580  \n",
       "FCFS       single_phase  99.990580  99.990580  99.990580  \n",
       "           three_phase   99.990580  99.990580  99.990580  \n",
       "LLF        single_phase  99.990580  99.990580  99.990580  \n",
       "           three_phase   99.990580  99.990580  99.990580  \n",
       "MPC_CM     single_phase  99.990437  99.990437  99.990437  \n",
       "           three_phase   99.990535  99.990535  99.990535  \n",
       "Offline_CM single_phase  99.990514  99.990514  99.990514  \n",
       "           three_phase   99.990580  99.990580  99.990580  \n",
       "RR         single_phase  99.983204  99.983204  99.983204  \n",
       "           three_phase   99.983204  99.983204  99.983204  \n",
       "Unctrl     single_phase  99.990580  99.990580  99.990580  \n",
       "           three_phase   99.990580  99.990580  99.990580  "
      ]
     },
     "execution_count": 28,
     "metadata": {},
     "output_type": "execute_result"
    }
   ],
   "source": [
    "metrics.groupby([\"Algorithm\", \"Network Type\"])[\"Energy Delivered (%)\"].describe()"
   ]
  },
  {
   "cell_type": "code",
   "execution_count": 29,
   "metadata": {},
   "outputs": [
    {
     "data": {
      "text/html": [
       "<div>\n",
       "<style scoped>\n",
       "    .dataframe tbody tr th:only-of-type {\n",
       "        vertical-align: middle;\n",
       "    }\n",
       "\n",
       "    .dataframe tbody tr th {\n",
       "        vertical-align: top;\n",
       "    }\n",
       "\n",
       "    .dataframe thead th {\n",
       "        text-align: right;\n",
       "    }\n",
       "</style>\n",
       "<table border=\"1\" class=\"dataframe\">\n",
       "  <thead>\n",
       "    <tr style=\"text-align: right;\">\n",
       "      <th></th>\n",
       "      <th></th>\n",
       "      <th>count</th>\n",
       "      <th>mean</th>\n",
       "      <th>std</th>\n",
       "      <th>min</th>\n",
       "      <th>25%</th>\n",
       "      <th>50%</th>\n",
       "      <th>75%</th>\n",
       "      <th>max</th>\n",
       "    </tr>\n",
       "    <tr>\n",
       "      <th>Algorithm</th>\n",
       "      <th>Network Type</th>\n",
       "      <th></th>\n",
       "      <th></th>\n",
       "      <th></th>\n",
       "      <th></th>\n",
       "      <th></th>\n",
       "      <th></th>\n",
       "      <th></th>\n",
       "      <th></th>\n",
       "    </tr>\n",
       "  </thead>\n",
       "  <tbody>\n",
       "    <tr>\n",
       "      <th rowspan=\"2\" valign=\"top\">EDF</th>\n",
       "      <th>single_phase</th>\n",
       "      <td>1.0</td>\n",
       "      <td>77.440000</td>\n",
       "      <td>NaN</td>\n",
       "      <td>77.440000</td>\n",
       "      <td>77.440000</td>\n",
       "      <td>77.440000</td>\n",
       "      <td>77.440000</td>\n",
       "      <td>77.440000</td>\n",
       "    </tr>\n",
       "    <tr>\n",
       "      <th>three_phase</th>\n",
       "      <td>1.0</td>\n",
       "      <td>77.440000</td>\n",
       "      <td>NaN</td>\n",
       "      <td>77.440000</td>\n",
       "      <td>77.440000</td>\n",
       "      <td>77.440000</td>\n",
       "      <td>77.440000</td>\n",
       "      <td>77.440000</td>\n",
       "    </tr>\n",
       "    <tr>\n",
       "      <th rowspan=\"2\" valign=\"top\">FCFS</th>\n",
       "      <th>single_phase</th>\n",
       "      <td>1.0</td>\n",
       "      <td>77.440000</td>\n",
       "      <td>NaN</td>\n",
       "      <td>77.440000</td>\n",
       "      <td>77.440000</td>\n",
       "      <td>77.440000</td>\n",
       "      <td>77.440000</td>\n",
       "      <td>77.440000</td>\n",
       "    </tr>\n",
       "    <tr>\n",
       "      <th>three_phase</th>\n",
       "      <td>1.0</td>\n",
       "      <td>77.440000</td>\n",
       "      <td>NaN</td>\n",
       "      <td>77.440000</td>\n",
       "      <td>77.440000</td>\n",
       "      <td>77.440000</td>\n",
       "      <td>77.440000</td>\n",
       "      <td>77.440000</td>\n",
       "    </tr>\n",
       "    <tr>\n",
       "      <th rowspan=\"2\" valign=\"top\">LLF</th>\n",
       "      <th>single_phase</th>\n",
       "      <td>1.0</td>\n",
       "      <td>77.440000</td>\n",
       "      <td>NaN</td>\n",
       "      <td>77.440000</td>\n",
       "      <td>77.440000</td>\n",
       "      <td>77.440000</td>\n",
       "      <td>77.440000</td>\n",
       "      <td>77.440000</td>\n",
       "    </tr>\n",
       "    <tr>\n",
       "      <th>three_phase</th>\n",
       "      <td>1.0</td>\n",
       "      <td>77.440000</td>\n",
       "      <td>NaN</td>\n",
       "      <td>77.440000</td>\n",
       "      <td>77.440000</td>\n",
       "      <td>77.440000</td>\n",
       "      <td>77.440000</td>\n",
       "      <td>77.440000</td>\n",
       "    </tr>\n",
       "    <tr>\n",
       "      <th rowspan=\"2\" valign=\"top\">MPC_CM</th>\n",
       "      <th>single_phase</th>\n",
       "      <td>1.0</td>\n",
       "      <td>22.920925</td>\n",
       "      <td>NaN</td>\n",
       "      <td>22.920925</td>\n",
       "      <td>22.920925</td>\n",
       "      <td>22.920925</td>\n",
       "      <td>22.920925</td>\n",
       "      <td>22.920925</td>\n",
       "    </tr>\n",
       "    <tr>\n",
       "      <th>three_phase</th>\n",
       "      <td>1.0</td>\n",
       "      <td>22.920275</td>\n",
       "      <td>NaN</td>\n",
       "      <td>22.920275</td>\n",
       "      <td>22.920275</td>\n",
       "      <td>22.920275</td>\n",
       "      <td>22.920275</td>\n",
       "      <td>22.920275</td>\n",
       "    </tr>\n",
       "    <tr>\n",
       "      <th rowspan=\"2\" valign=\"top\">Offline_CM</th>\n",
       "      <th>single_phase</th>\n",
       "      <td>1.0</td>\n",
       "      <td>19.120549</td>\n",
       "      <td>NaN</td>\n",
       "      <td>19.120549</td>\n",
       "      <td>19.120549</td>\n",
       "      <td>19.120549</td>\n",
       "      <td>19.120549</td>\n",
       "      <td>19.120549</td>\n",
       "    </tr>\n",
       "    <tr>\n",
       "      <th>three_phase</th>\n",
       "      <td>1.0</td>\n",
       "      <td>19.120545</td>\n",
       "      <td>NaN</td>\n",
       "      <td>19.120545</td>\n",
       "      <td>19.120545</td>\n",
       "      <td>19.120545</td>\n",
       "      <td>19.120545</td>\n",
       "      <td>19.120545</td>\n",
       "    </tr>\n",
       "    <tr>\n",
       "      <th rowspan=\"2\" valign=\"top\">RR</th>\n",
       "      <th>single_phase</th>\n",
       "      <td>1.0</td>\n",
       "      <td>77.440000</td>\n",
       "      <td>NaN</td>\n",
       "      <td>77.440000</td>\n",
       "      <td>77.440000</td>\n",
       "      <td>77.440000</td>\n",
       "      <td>77.440000</td>\n",
       "      <td>77.440000</td>\n",
       "    </tr>\n",
       "    <tr>\n",
       "      <th>three_phase</th>\n",
       "      <td>1.0</td>\n",
       "      <td>77.440000</td>\n",
       "      <td>NaN</td>\n",
       "      <td>77.440000</td>\n",
       "      <td>77.440000</td>\n",
       "      <td>77.440000</td>\n",
       "      <td>77.440000</td>\n",
       "      <td>77.440000</td>\n",
       "    </tr>\n",
       "    <tr>\n",
       "      <th rowspan=\"2\" valign=\"top\">Unctrl</th>\n",
       "      <th>single_phase</th>\n",
       "      <td>1.0</td>\n",
       "      <td>77.440000</td>\n",
       "      <td>NaN</td>\n",
       "      <td>77.440000</td>\n",
       "      <td>77.440000</td>\n",
       "      <td>77.440000</td>\n",
       "      <td>77.440000</td>\n",
       "      <td>77.440000</td>\n",
       "    </tr>\n",
       "    <tr>\n",
       "      <th>three_phase</th>\n",
       "      <td>1.0</td>\n",
       "      <td>77.440000</td>\n",
       "      <td>NaN</td>\n",
       "      <td>77.440000</td>\n",
       "      <td>77.440000</td>\n",
       "      <td>77.440000</td>\n",
       "      <td>77.440000</td>\n",
       "      <td>77.440000</td>\n",
       "    </tr>\n",
       "  </tbody>\n",
       "</table>\n",
       "</div>"
      ],
      "text/plain": [
       "                         count       mean  std        min        25%  \\\n",
       "Algorithm  Network Type                                                \n",
       "EDF        single_phase    1.0  77.440000  NaN  77.440000  77.440000   \n",
       "           three_phase     1.0  77.440000  NaN  77.440000  77.440000   \n",
       "FCFS       single_phase    1.0  77.440000  NaN  77.440000  77.440000   \n",
       "           three_phase     1.0  77.440000  NaN  77.440000  77.440000   \n",
       "LLF        single_phase    1.0  77.440000  NaN  77.440000  77.440000   \n",
       "           three_phase     1.0  77.440000  NaN  77.440000  77.440000   \n",
       "MPC_CM     single_phase    1.0  22.920925  NaN  22.920925  22.920925   \n",
       "           three_phase     1.0  22.920275  NaN  22.920275  22.920275   \n",
       "Offline_CM single_phase    1.0  19.120549  NaN  19.120549  19.120549   \n",
       "           three_phase     1.0  19.120545  NaN  19.120545  19.120545   \n",
       "RR         single_phase    1.0  77.440000  NaN  77.440000  77.440000   \n",
       "           three_phase     1.0  77.440000  NaN  77.440000  77.440000   \n",
       "Unctrl     single_phase    1.0  77.440000  NaN  77.440000  77.440000   \n",
       "           three_phase     1.0  77.440000  NaN  77.440000  77.440000   \n",
       "\n",
       "                               50%        75%        max  \n",
       "Algorithm  Network Type                                   \n",
       "EDF        single_phase  77.440000  77.440000  77.440000  \n",
       "           three_phase   77.440000  77.440000  77.440000  \n",
       "FCFS       single_phase  77.440000  77.440000  77.440000  \n",
       "           three_phase   77.440000  77.440000  77.440000  \n",
       "LLF        single_phase  77.440000  77.440000  77.440000  \n",
       "           three_phase   77.440000  77.440000  77.440000  \n",
       "MPC_CM     single_phase  22.920925  22.920925  22.920925  \n",
       "           three_phase   22.920275  22.920275  22.920275  \n",
       "Offline_CM single_phase  19.120549  19.120549  19.120549  \n",
       "           three_phase   19.120545  19.120545  19.120545  \n",
       "RR         single_phase  77.440000  77.440000  77.440000  \n",
       "           three_phase   77.440000  77.440000  77.440000  \n",
       "Unctrl     single_phase  77.440000  77.440000  77.440000  \n",
       "           three_phase   77.440000  77.440000  77.440000  "
      ]
     },
     "execution_count": 29,
     "metadata": {},
     "output_type": "execute_result"
    }
   ],
   "source": [
    "metrics.groupby([\"Algorithm\", \"Network Type\"])[\"Peak (kW)\"].describe()"
   ]
  },
  {
   "cell_type": "code",
   "execution_count": 30,
   "metadata": {},
   "outputs": [
    {
     "data": {
      "image/png": "[encoded data removed]",
      "text/plain": [
       "<Figure size 600x600 with 2 Axes>"
      ]
     },
     "metadata": {},
     "output_type": "display_data"
    }
   ],
   "source": [
    "from matplotlib import cm\n",
    " \n",
    "plt.style.use('default')\n",
    "\n",
    "energy_delivered= metrics.pivot_table(\"Energy Delivered (%)\", \"Capacity (kW)\", [\"Network Type\", \"Algorithm\"])\n",
    "energy_delivered.rename(columns={'RR': 'Round Robin', 'MPC_CM': 'MPC', 'Offline_CM': 'Offline Optimal'}, inplace=True)\n",
    "\n",
    "column_order = ['Round Robin', 'FCFS', 'EDF', 'LLF', 'MPC','Offline Optimal']\n",
    "cap_range = (10, 100)\n",
    "\n",
    "cmap = cm.get_cmap('tab20')\n",
    "li = 0\n",
    "label2color = {'FCFS': cmap(0+li), 'EDF': cmap(2+li), 'LLF': cmap(4+li), 'Round Robin': cmap(6+li), \n",
    "               'Offline Optimal': cmap(8), 'MPC': cmap(9)}\n",
    "\n",
    "style = {\n",
    "    \"color\": [label2color[col] for col in column_order],\n",
    "    \"style\": [\"-\"]*5 + [\"*\"],\n",
    "    \"linewidth\": 2,\n",
    "    \"alpha\": .85,\n",
    "    #\"marker\": [\".\"]*5 + [None],\n",
    "    #\"fillstyle\": \"none\",\n",
    "    \"legend\": False,\n",
    "}\n",
    "\n",
    "plt.rc('text', usetex=False)\n",
    "plt.rcParams.update({'font.size': 11})\n",
    "\n",
    "# fig, ax = plt.subplots(ncols=2, sharex=True, sharey=True)\n",
    "fig, ax = plt.subplots(nrows=2, sharex=True, sharey=True)\n",
    "energy_delivered[\"single_phase\"][column_order].loc[cap_range[0]:cap_range[1]].plot(ax=ax[0], **style)\n",
    "energy_delivered[\"three_phase\"][column_order].loc[cap_range[0]:cap_range[1]].plot(ax=ax[1], **style)\n",
    "ax[0].legend(loc=\"best\")\n",
    "# pm[:105].plot(color=colors, style=styles, linewidth=4, alpha=0.85)\n",
    "\n",
    "ax[0].set_title(\"Single Phase\", fontsize=11)\n",
    "ax[1].set_title(\"Three Phase\", fontsize=11)\n",
    "\n",
    "fig.text(0.5, 0, \"Transformer Capacity (kW)\", ha='center')\n",
    "\n",
    "ax[0].set_xlabel(\"\")\n",
    "ax[1].set_xlabel(\"\")\n",
    "\n",
    "ax[0].set_ylabel(\"Demand Met (%)\")\n",
    "\n",
    "ax[0].grid(alpha=0.5)\n",
    "ax[1].grid(alpha=0.5)\n",
    "fig = plt.gcf()\n",
    "fig.set_size_inches(6, 6)\n",
    "plt.tight_layout()"
   ]
  },
  {
   "cell_type": "markdown",
   "metadata": {
    "colab_type": "text",
    "id": "s1M18vmqg8xW"
   },
   "source": [
    "In this figure we can see that with enough infrastructure capacity, all algorithms are able to meet 100% of demand. Since these requests were taken from real charging data, they are all feasible (meaning with enough capacity we should be able to meet them), so this is to be expected. \n",
    "\n",
    "\n",
    "\n",
    "The most interesting range, however, in when infrastructure is moderately constrained, in this case between 20-75 kW. In this range we see that algorithms which use information about departure times and energy demands (EDF and LLF) preform significantly better than those that do not (FCFS and RR). \n",
    "\n",
    "\n",
    "\n",
    "Another interesting, but less practical range of operation is the highly constrained regime. Here we see that RR outperforms the other algorithms. To see why we consider the infrastructure utilization plot below.\n"
   ]
  },
  {
   "cell_type": "markdown",
   "metadata": {},
   "source": [
    "https://github.com/pandas-dev/pandas/issues/11520"
   ]
  },
  {
   "cell_type": "code",
   "execution_count": 31,
   "metadata": {},
   "outputs": [
    {
     "data": {
      "text/plain": [
       "<module 'pandas' from '/home/floris/miniforge3/envs/acn_py38/lib/python3.8/site-packages/pandas/__init__.py'>"
      ]
     },
     "execution_count": 31,
     "metadata": {},
     "output_type": "execute_result"
    }
   ],
   "source": [
    "from importlib import reload \n",
    "import pandas as pd\n",
    "reload(pd)"
   ]
  },
  {
   "cell_type": "code",
   "execution_count": 32,
   "metadata": {},
   "outputs": [
    {
     "data": {
      "image/png": "[encoded data removed]",
      "text/plain": [
       "<Figure size 1500x400 with 2 Axes>"
      ]
     },
     "metadata": {},
     "output_type": "display_data"
    }
   ],
   "source": [
    "utilization = metrics.pivot_table(\"Max Utilization (%)\", \"Capacity (kW)\", [\"Network Type\", \"Algorithm\"])\n",
    "fig, axes = plt.subplots(1,2, figsize=(15, 4), sharey=True)\n",
    "utilization[\"single_phase\"].plot(linewidth=2, alpha=0.75, ax=axes[0])\n",
    "utilization[\"three_phase\"].plot(linewidth=2, alpha=0.75, ax=axes[1])\n",
    "axes[0].set_xlim(10, 150)\n",
    "axes[1].set_xlim(10, 150)\n",
    "\n",
    "axes[0].set_ylim(0, 200)\n",
    "axes[1].set_ylim(0, 200)\n",
    "\n",
    "axes[0].set_ylabel('Max Utilization (%)')\n",
    "axes[0].set_title(\"Single Phase\")\n",
    "axes[1].set_title(\"Three Phase\")\n",
    "\n",
    "plt.tight_layout()"
   ]
  },
  {
   "cell_type": "markdown",
   "metadata": {
    "colab_type": "text",
    "id": "W27KSWfZn540"
   },
   "source": [
    "From this plot we can see that RR does a much better job at utilizing constrained infrastructure capacity (in terms of maximum utilization) than the other algorithms. To see why, we can examine the phase unbalance plot below. \n",
    "\n",
    "*Note that with high enough capacity, the max utilization for all algorithms converges. This is because there is only so much instantaneous demand in the underlying requests.*"
   ]
  },
  {
   "cell_type": "code",
   "execution_count": 33,
   "metadata": {},
   "outputs": [
    {
     "data": {
      "image/png": "[encoded data removed]",
      "text/plain": [
       "<Figure size 700x400 with 1 Axes>"
      ]
     },
     "metadata": {},
     "output_type": "display_data"
    }
   ],
   "source": [
    "current_unbalance = metrics.pivot_table(\"Current Unbalance\", \"Capacity (kW)\", [\"Network Type\", \"Algorithm\"])\n",
    "fig, ax = plt.subplots(1, figsize=(7, 4), sharey=True)\n",
    "current_unbalance[\"three_phase\"].plot(linewidth=2, alpha=0.75, ax=ax)\n",
    "ax.set_xlim(10, 150)\n",
    "ax.set_ylabel(\"Max Current Unbalance\")\n",
    "ax.set_title(\"Three Phase\")\n",
    "plt.tight_layout()"
   ]
  },
  {
   "cell_type": "markdown",
   "metadata": {
    "colab_type": "text",
    "id": "3AXknJQ-pAeJ"
   },
   "source": [
    "Here we see that RR acheive much lower average current unbalance than the other algorithms, esspecailly at low infrastructure capacity. By balancing between phases RR is able to deliver power matching the capacity of the network as seen above. However, the other sorting based algorithms do not do as well balancing between phases, leading them to underutilize infrastructure capacity even when there are EVs present which could charge. \n",
    "\n",
    "*Note that with sufficient infrastructure capacity, all algorithms have the same average current unbalance. This is becasue the unbalance is inheriant in the demands, i.e. more energy was requested on phase A than on phase B or C.*\n",
    "\n",
    "\n",
    "This explains why RR is able to deliver more energy with highly constrained infrastructure. When infrastructure is less constrained, however, RR's shortcomings in not accounting for energy demands and departure times means that some EVs are fully charged before their deadline while others leave unsatisfied. This motivates us to examine algorithms which both balance between phases and account for session information such as the adaptive scheduling algorithm presented [here](https://ieeexplore.ieee.org/document/8587550)."
   ]
  },
  {
   "cell_type": "markdown",
   "metadata": {
    "colab_type": "text",
    "id": "S4He5fCer8KD"
   },
   "source": [
    "## Additional Visualizations"
   ]
  },
  {
   "cell_type": "markdown",
   "metadata": {
    "colab_type": "text",
    "id": "hy47o4ZfuS8T"
   },
   "source": [
    "### Line Currents\n",
    "\n",
    "ACN-Sim also allows us to take a deeper dive into the currents in our simulations. Here we visualize the line currents on the primary and secondary side of the transformer feeding the Caltech ACN for each algorithm. "
   ]
  },
  {
   "cell_type": "code",
   "execution_count": 34,
   "metadata": {
    "colab": {},
    "colab_type": "code",
    "id": "DMfig5qPT369"
   },
   "outputs": [],
   "source": [
    "def plot_line_currents(sims, names, start, length):\n",
    "  fig, axes = plt.subplots(2, len(sims), sharey='row', sharex=True, figsize=(16, 6))\n",
    "  axes[0,0].set_xlim(start, start+length)\n",
    "  fig.subplots_adjust(wspace=0.07, hspace=0.07)\n",
    "  for i, sim in enumerate(sims):\n",
    "    cc = analysis.constraint_currents(sim)\n",
    "    for line in 'ABC': \n",
    "      axes[0, i].plot(cc['Primary {0}'.format(line)], label='Primary {0}'.format(line), linewidth=2)\n",
    "      axes[1, i].plot(cc['Secondary {0}'.format(line)], label='Secondary {0}'.format(line), linewidth=2)\n",
    "\n",
    "    axes[1, i].axhline(416.67/3, color='gray', linestyle='--')\n",
    "    axes[0, i].axhline(180.5/3, color='gray', linestyle='--')\n",
    "    axes[0, i].set_title(names[i])\n",
    "    \n",
    "  axes[0,-1].legend()\n",
    "  axes[1,-1].legend()\n",
    "  plt.show()\n",
    "  return fig"
   ]
  },
  {
   "cell_type": "code",
   "execution_count": 35,
   "metadata": {
    "colab": {
     "base_uri": "https://localhost:8080/",
     "height": 489
    },
    "colab_type": "code",
    "id": "0s7bN4FFUAYO",
    "outputId": "0f53aa40-8516-45ee-bf99-36b156e34598"
   },
   "outputs": [
    {
     "ename": "KeyError",
     "evalue": "('three_phase', 'Unctrl', 50)",
     "output_type": "error",
     "traceback": [
      "\u001b[0;31m---------------------------------------------------------------------------\u001b[0m",
      "\u001b[0;31mKeyError\u001b[0m                                  Traceback (most recent call last)",
      "\u001b[1;32m/home/floris/acnportal-experiments/examples/2-Algorithm-Comparison/2.1-Comparing-Algorithms-with-Constrained-Infrastructure/2.1-comparing-algorithms-with-constrained-infrastructure.ipynb Cell 38\u001b[0m line \u001b[0;36m2\n\u001b[1;32m      <a href='vscode-notebook-cell://wsl%2Bubuntu-22.04/home/floris/acnportal-experiments/examples/2-Algorithm-Comparison/2.1-Comparing-Algorithms-with-Constrained-Infrastructure/2.1-comparing-algorithms-with-constrained-infrastructure.ipynb#X52sdnNjb2RlLXJlbW90ZQ%3D%3D?line=0'>1</a>\u001b[0m alg_order \u001b[39m=\u001b[39m [\u001b[39m\"\u001b[39m\u001b[39mUnctrl\u001b[39m\u001b[39m\"\u001b[39m, \u001b[39m\"\u001b[39m\u001b[39mFCFS\u001b[39m\u001b[39m\"\u001b[39m, \u001b[39m\"\u001b[39m\u001b[39mEDF\u001b[39m\u001b[39m\"\u001b[39m, \u001b[39m\"\u001b[39m\u001b[39mLLF\u001b[39m\u001b[39m\"\u001b[39m, \u001b[39m\"\u001b[39m\u001b[39mRR\u001b[39m\u001b[39m\"\u001b[39m, \u001b[39m\"\u001b[39m\u001b[39mMPC_CM\u001b[39m\u001b[39m\"\u001b[39m, \u001b[39m\"\u001b[39m\u001b[39mOffline_CM\u001b[39m\u001b[39m\"\u001b[39m]\n\u001b[0;32m----> <a href='vscode-notebook-cell://wsl%2Bubuntu-22.04/home/floris/acnportal-experiments/examples/2-Algorithm-Comparison/2.1-Comparing-Algorithms-with-Constrained-Infrastructure/2.1-comparing-algorithms-with-constrained-infrastructure.ipynb#X52sdnNjb2RlLXJlbW90ZQ%3D%3D?line=1'>2</a>\u001b[0m fig \u001b[39m=\u001b[39m plot_line_currents([sims[\u001b[39m\"\u001b[39m\u001b[39mthree_phase\u001b[39m\u001b[39m\"\u001b[39m, alg, \u001b[39m50\u001b[39m] \u001b[39mfor\u001b[39;00m alg \u001b[39min\u001b[39;00m alg_order], alg_order, \u001b[39m84\u001b[39m, \u001b[39m180\u001b[39m)\n",
      "\u001b[1;32m/home/floris/acnportal-experiments/examples/2-Algorithm-Comparison/2.1-Comparing-Algorithms-with-Constrained-Infrastructure/2.1-comparing-algorithms-with-constrained-infrastructure.ipynb Cell 38\u001b[0m line \u001b[0;36m2\n\u001b[1;32m      <a href='vscode-notebook-cell://wsl%2Bubuntu-22.04/home/floris/acnportal-experiments/examples/2-Algorithm-Comparison/2.1-Comparing-Algorithms-with-Constrained-Infrastructure/2.1-comparing-algorithms-with-constrained-infrastructure.ipynb#X52sdnNjb2RlLXJlbW90ZQ%3D%3D?line=0'>1</a>\u001b[0m alg_order \u001b[39m=\u001b[39m [\u001b[39m\"\u001b[39m\u001b[39mUnctrl\u001b[39m\u001b[39m\"\u001b[39m, \u001b[39m\"\u001b[39m\u001b[39mFCFS\u001b[39m\u001b[39m\"\u001b[39m, \u001b[39m\"\u001b[39m\u001b[39mEDF\u001b[39m\u001b[39m\"\u001b[39m, \u001b[39m\"\u001b[39m\u001b[39mLLF\u001b[39m\u001b[39m\"\u001b[39m, \u001b[39m\"\u001b[39m\u001b[39mRR\u001b[39m\u001b[39m\"\u001b[39m, \u001b[39m\"\u001b[39m\u001b[39mMPC_CM\u001b[39m\u001b[39m\"\u001b[39m, \u001b[39m\"\u001b[39m\u001b[39mOffline_CM\u001b[39m\u001b[39m\"\u001b[39m]\n\u001b[0;32m----> <a href='vscode-notebook-cell://wsl%2Bubuntu-22.04/home/floris/acnportal-experiments/examples/2-Algorithm-Comparison/2.1-Comparing-Algorithms-with-Constrained-Infrastructure/2.1-comparing-algorithms-with-constrained-infrastructure.ipynb#X52sdnNjb2RlLXJlbW90ZQ%3D%3D?line=1'>2</a>\u001b[0m fig \u001b[39m=\u001b[39m plot_line_currents([sims[\u001b[39m\"\u001b[39;49m\u001b[39mthree_phase\u001b[39;49m\u001b[39m\"\u001b[39;49m, alg, \u001b[39m50\u001b[39;49m] \u001b[39mfor\u001b[39;00m alg \u001b[39min\u001b[39;00m alg_order], alg_order, \u001b[39m84\u001b[39m, \u001b[39m180\u001b[39m)\n",
      "\u001b[0;31mKeyError\u001b[0m: ('three_phase', 'Unctrl', 50)"
     ]
    }
   ],
   "source": [
    "alg_order = [\"Unctrl\", \"FCFS\", \"EDF\", \"LLF\", \"RR\", \"MPC_CM\", \"Offline_CM\"]\n",
    "fig = plot_line_currents([sims[\"three_phase\", alg, 50] for alg in alg_order], alg_order, 84, 180)"
   ]
  },
  {
   "cell_type": "markdown",
   "metadata": {
    "colab_type": "text",
    "id": "UUz5YuCJU1iA"
   },
   "source": [
    "### EV Charging Profile\n",
    "\n",
    "ACN-Sim also allows us to examine the charging rates of a particular EV with each algorithm."
   ]
  },
  {
   "cell_type": "code",
   "execution_count": 36,
   "metadata": {
    "colab": {},
    "colab_type": "code",
    "id": "4VseYHEwXayl"
   },
   "outputs": [],
   "source": [
    "def plot_ev_charging(sim, ev, ax, label, label_auto_place=False):\n",
    "    evse_index = sim.network.station_ids.index(ev.station_id)\n",
    "    session_len = ev.departure - ev.arrival\n",
    "    x = [sim.start + timedelta(minutes=5 * ev.arrival) + timedelta(minutes=5*i) for i in range(session_len)]\n",
    "    ax.step(x, sim.charging_rates[evse_index][ev.arrival:ev.departure],\n",
    "            label=label, linewidth=2)\n",
    "    if label_auto_place:\n",
    "        ax.legend()\n",
    "    else:\n",
    "        ax.text(0.02, 0.9, label, horizontalalignment='left', verticalalignment='top', transform=ax.transAxes)\n",
    "\n",
    "def plot_profiles(sims, network_type, cap, ev, end=None, label_auto_place=False):\n",
    "    fig, axes = plt.subplots(6, 1, sharey=True, sharex=True, figsize=(6, 6))\n",
    "\n",
    "    x_min = sim.start + timedelta(minutes=5 * ev.arrival)\n",
    "    x_max = end if end is not None else sim.start + timedelta(minutes=5 * ev.departure)\n",
    "    axes[0].set_xlim(x_min, x_max)\n",
    "    axes[-1].xaxis.set_major_formatter(mdates.DateFormatter('%H:%M'))\n",
    "    fig.autofmt_xdate()\n",
    "\n",
    "    axes[0].set_ylim(0, 45)\n",
    "    axes[0].set_yticks([0, 32])\n",
    "    \n",
    "    plt.subplots_adjust(hspace=.2)\n",
    "    fig.text(0.035, 0.55, 'Charging Current (A)', va='center', rotation='vertical')\n",
    "    print(ev.session_id)\n",
    "    for i, alg_name in enumerate([\"RR\", \"FCFS\", \"EDF\", \"LLF\", \"MPC\", \"Offline\"]):\n",
    "        label = alg_name if alg_name != \"Offline\" else \"Offline Optimal\"\n",
    "        plot_ev_charging(sims[network_type, alg_name, cap], ev, axes[i], label=label, label_auto_place=label_auto_place)\n",
    "        axes[i].xaxis.set_major_formatter(mdates.DateFormatter('%H:%M'))\n",
    "        axes[i].spines['right'].set_visible(False)\n",
    "        axes[i].spines['top'].set_visible(False)\n",
    "    return fig"
   ]
  },
  {
   "cell_type": "markdown",
   "metadata": {},
   "source": [
    "Plot charging profiles for session '2_39_78_360_2019-03-05 18:22:15.939445' which highlights the difference between the algorithms. "
   ]
  },
  {
   "cell_type": "code",
   "execution_count": 37,
   "metadata": {
    "colab": {
     "base_uri": "https://localhost:8080/",
     "height": 489
    },
    "colab_type": "code",
    "id": "bF6gZOD2Uiba",
    "outputId": "99cf9513-f93c-413a-d243-5cc91b75aefc"
   },
   "outputs": [
    {
     "ename": "KeyError",
     "evalue": "'2_39_129_17_2019-03-02 16:04:30.975643'",
     "output_type": "error",
     "traceback": [
      "\u001b[0;31m---------------------------------------------------------------------------\u001b[0m",
      "\u001b[0;31mKeyError\u001b[0m                                  Traceback (most recent call last)",
      "\u001b[1;32m/home/floris/acnportal-experiments/examples/2-Algorithm-Comparison/2.1-Comparing-Algorithms-with-Constrained-Infrastructure/2.1-comparing-algorithms-with-constrained-infrastructure.ipynb Cell 42\u001b[0m line \u001b[0;36m3\n\u001b[1;32m      <a href='vscode-notebook-cell://wsl%2Bubuntu-22.04/home/floris/acnportal-experiments/examples/2-Algorithm-Comparison/2.1-Comparing-Algorithms-with-Constrained-Infrastructure/2.1-comparing-algorithms-with-constrained-infrastructure.ipynb#X56sdnNjb2RlLXJlbW90ZQ%3D%3D?line=0'>1</a>\u001b[0m \u001b[39m# ev = sims[network_type, \"RR\", cap].ev_history['2_39_78_360_2019-03-05 18:22:15.939445']\u001b[39;00m\n\u001b[1;32m      <a href='vscode-notebook-cell://wsl%2Bubuntu-22.04/home/floris/acnportal-experiments/examples/2-Algorithm-Comparison/2.1-Comparing-Algorithms-with-Constrained-Infrastructure/2.1-comparing-algorithms-with-constrained-infrastructure.ipynb#X56sdnNjb2RlLXJlbW90ZQ%3D%3D?line=1'>2</a>\u001b[0m \u001b[39m# end =  timezone.localize(datetime(2019, 3, 5, 15)\u001b[39;00m\n\u001b[0;32m----> <a href='vscode-notebook-cell://wsl%2Bubuntu-22.04/home/floris/acnportal-experiments/examples/2-Algorithm-Comparison/2.1-Comparing-Algorithms-with-Constrained-Infrastructure/2.1-comparing-algorithms-with-constrained-infrastructure.ipynb#X56sdnNjb2RlLXJlbW90ZQ%3D%3D?line=2'>3</a>\u001b[0m ev \u001b[39m=\u001b[39m sims[network_type, \u001b[39m\"\u001b[39;49m\u001b[39mRR\u001b[39;49m\u001b[39m\"\u001b[39;49m, cap]\u001b[39m.\u001b[39;49mev_history[\u001b[39m'\u001b[39;49m\u001b[39m2_39_129_17_2019-03-02 16:04:30.975643\u001b[39;49m\u001b[39m'\u001b[39;49m]\n\u001b[1;32m      <a href='vscode-notebook-cell://wsl%2Bubuntu-22.04/home/floris/acnportal-experiments/examples/2-Algorithm-Comparison/2.1-Comparing-Algorithms-with-Constrained-Infrastructure/2.1-comparing-algorithms-with-constrained-infrastructure.ipynb#X56sdnNjb2RlLXJlbW90ZQ%3D%3D?line=3'>4</a>\u001b[0m end \u001b[39m=\u001b[39m datetime(\u001b[39m2019\u001b[39m, \u001b[39m3\u001b[39m, \u001b[39m26\u001b[39m, \u001b[39m22\u001b[39m)\n\u001b[1;32m      <a href='vscode-notebook-cell://wsl%2Bubuntu-22.04/home/floris/acnportal-experiments/examples/2-Algorithm-Comparison/2.1-Comparing-Algorithms-with-Constrained-Infrastructure/2.1-comparing-algorithms-with-constrained-infrastructure.ipynb#X56sdnNjb2RlLXJlbW90ZQ%3D%3D?line=4'>5</a>\u001b[0m \u001b[39m# end = None\u001b[39;00m\n",
      "\u001b[0;31mKeyError\u001b[0m: '2_39_129_17_2019-03-02 16:04:30.975643'"
     ]
    }
   ],
   "source": [
    "# ev = sims[network_type, \"RR\", cap].ev_history['2_39_78_360_2019-03-05 18:22:15.939445']\n",
    "# end =  timezone.localize(datetime(2019, 3, 5, 15)\n",
    "ev = sims[network_type, \"RR\", cap].ev_history['2_39_129_17_2019-03-02 16:04:30.975643']\n",
    "end = datetime(2019, 3, 26, 22)\n",
    "# end = None\n",
    "network_type = \"three_phase\"\n",
    "cap = 50\n",
    "fig = plot_profiles(sims, network_type, cap, ev, end)"
   ]
  },
  {
   "cell_type": "code",
   "execution_count": 38,
   "metadata": {},
   "outputs": [
    {
     "ename": "NameError",
     "evalue": "name 'ev' is not defined",
     "output_type": "error",
     "traceback": [
      "\u001b[0;31m---------------------------------------------------------------------------\u001b[0m",
      "\u001b[0;31mNameError\u001b[0m                                 Traceback (most recent call last)",
      "\u001b[1;32m/home/floris/acnportal-experiments/examples/2-Algorithm-Comparison/2.1-Comparing-Algorithms-with-Constrained-Infrastructure/2.1-comparing-algorithms-with-constrained-infrastructure.ipynb Cell 43\u001b[0m line \u001b[0;36m1\n\u001b[0;32m----> <a href='vscode-notebook-cell://wsl%2Bubuntu-22.04/home/floris/acnportal-experiments/examples/2-Algorithm-Comparison/2.1-Comparing-Algorithms-with-Constrained-Infrastructure/2.1-comparing-algorithms-with-constrained-infrastructure.ipynb#X60sdnNjb2RlLXJlbW90ZQ%3D%3D?line=0'>1</a>\u001b[0m fig\u001b[39m.\u001b[39msavefig(\u001b[39mf\u001b[39m\u001b[39m\"\u001b[39m\u001b[39mfigures/profiles_\u001b[39m\u001b[39m{\u001b[39;00mev\u001b[39m.\u001b[39msession_id\u001b[39m}\u001b[39;00m\u001b[39m.pdf\u001b[39m\u001b[39m\"\u001b[39m, dpi\u001b[39m=\u001b[39m\u001b[39m300\u001b[39m)\n\u001b[1;32m      <a href='vscode-notebook-cell://wsl%2Bubuntu-22.04/home/floris/acnportal-experiments/examples/2-Algorithm-Comparison/2.1-Comparing-Algorithms-with-Constrained-Infrastructure/2.1-comparing-algorithms-with-constrained-infrastructure.ipynb#X60sdnNjb2RlLXJlbW90ZQ%3D%3D?line=1'>2</a>\u001b[0m fig\u001b[39m.\u001b[39msavefig(\u001b[39mf\u001b[39m\u001b[39m\"\u001b[39m\u001b[39mfigures/ev_charging_profiles_2.pdf\u001b[39m\u001b[39m\"\u001b[39m, dpi\u001b[39m=\u001b[39m\u001b[39m300\u001b[39m)\n",
      "\u001b[0;31mNameError\u001b[0m: name 'ev' is not defined"
     ]
    }
   ],
   "source": [
    "fig.savefig(f\"figures/profiles_{ev.session_id}.pdf\", dpi=300)\n",
    "fig.savefig(f\"figures/ev_charging_profiles_2.pdf\", dpi=300)"
   ]
  },
  {
   "cell_type": "markdown",
   "metadata": {
    "colab_type": "text",
    "id": "Msge1KCAjY36"
   },
   "source": [
    "Plot a random EV's profile to see how the algorithms compare for different sessions."
   ]
  },
  {
   "cell_type": "code",
   "execution_count": 39,
   "metadata": {},
   "outputs": [
    {
     "name": "stdout",
     "output_type": "stream",
     "text": [
      "2_39_130_31_2019-03-01 22:13:25.653198\n"
     ]
    },
    {
     "ename": "KeyError",
     "evalue": "('three_phase', 'RR', 50)",
     "output_type": "error",
     "traceback": [
      "\u001b[0;31m---------------------------------------------------------------------------\u001b[0m",
      "\u001b[0;31mKeyError\u001b[0m                                  Traceback (most recent call last)",
      "\u001b[1;32m/home/floris/acnportal-experiments/examples/2-Algorithm-Comparison/2.1-Comparing-Algorithms-with-Constrained-Infrastructure/2.1-comparing-algorithms-with-constrained-infrastructure.ipynb Cell 45\u001b[0m line \u001b[0;36m4\n\u001b[1;32m      <a href='vscode-notebook-cell://wsl%2Bubuntu-22.04/home/floris/acnportal-experiments/examples/2-Algorithm-Comparison/2.1-Comparing-Algorithms-with-Constrained-Infrastructure/2.1-comparing-algorithms-with-constrained-infrastructure.ipynb#X62sdnNjb2RlLXJlbW90ZQ%3D%3D?line=1'>2</a>\u001b[0m network_type \u001b[39m=\u001b[39m \u001b[39m\"\u001b[39m\u001b[39mthree_phase\u001b[39m\u001b[39m\"\u001b[39m\n\u001b[1;32m      <a href='vscode-notebook-cell://wsl%2Bubuntu-22.04/home/floris/acnportal-experiments/examples/2-Algorithm-Comparison/2.1-Comparing-Algorithms-with-Constrained-Infrastructure/2.1-comparing-algorithms-with-constrained-infrastructure.ipynb#X62sdnNjb2RlLXJlbW90ZQ%3D%3D?line=2'>3</a>\u001b[0m cap \u001b[39m=\u001b[39m \u001b[39m50\u001b[39m\n\u001b[0;32m----> <a href='vscode-notebook-cell://wsl%2Bubuntu-22.04/home/floris/acnportal-experiments/examples/2-Algorithm-Comparison/2.1-Comparing-Algorithms-with-Constrained-Infrastructure/2.1-comparing-algorithms-with-constrained-infrastructure.ipynb#X62sdnNjb2RlLXJlbW90ZQ%3D%3D?line=3'>4</a>\u001b[0m plot_profiles(sims, network_type, cap, ev, label_auto_place\u001b[39m=\u001b[39;49m\u001b[39mTrue\u001b[39;49;00m)\n\u001b[1;32m      <a href='vscode-notebook-cell://wsl%2Bubuntu-22.04/home/floris/acnportal-experiments/examples/2-Algorithm-Comparison/2.1-Comparing-Algorithms-with-Constrained-Infrastructure/2.1-comparing-algorithms-with-constrained-infrastructure.ipynb#X62sdnNjb2RlLXJlbW90ZQ%3D%3D?line=4'>5</a>\u001b[0m plt\u001b[39m.\u001b[39mshow()\n",
      "\u001b[1;32m/home/floris/acnportal-experiments/examples/2-Algorithm-Comparison/2.1-Comparing-Algorithms-with-Constrained-Infrastructure/2.1-comparing-algorithms-with-constrained-infrastructure.ipynb Cell 45\u001b[0m line \u001b[0;36m2\n\u001b[1;32m     <a href='vscode-notebook-cell://wsl%2Bubuntu-22.04/home/floris/acnportal-experiments/examples/2-Algorithm-Comparison/2.1-Comparing-Algorithms-with-Constrained-Infrastructure/2.1-comparing-algorithms-with-constrained-infrastructure.ipynb#X62sdnNjb2RlLXJlbW90ZQ%3D%3D?line=26'>27</a>\u001b[0m \u001b[39mfor\u001b[39;00m i, alg_name \u001b[39min\u001b[39;00m \u001b[39menumerate\u001b[39m([\u001b[39m\"\u001b[39m\u001b[39mRR\u001b[39m\u001b[39m\"\u001b[39m, \u001b[39m\"\u001b[39m\u001b[39mFCFS\u001b[39m\u001b[39m\"\u001b[39m, \u001b[39m\"\u001b[39m\u001b[39mEDF\u001b[39m\u001b[39m\"\u001b[39m, \u001b[39m\"\u001b[39m\u001b[39mLLF\u001b[39m\u001b[39m\"\u001b[39m, \u001b[39m\"\u001b[39m\u001b[39mMPC\u001b[39m\u001b[39m\"\u001b[39m, \u001b[39m\"\u001b[39m\u001b[39mOffline\u001b[39m\u001b[39m\"\u001b[39m]):\n\u001b[1;32m     <a href='vscode-notebook-cell://wsl%2Bubuntu-22.04/home/floris/acnportal-experiments/examples/2-Algorithm-Comparison/2.1-Comparing-Algorithms-with-Constrained-Infrastructure/2.1-comparing-algorithms-with-constrained-infrastructure.ipynb#X62sdnNjb2RlLXJlbW90ZQ%3D%3D?line=27'>28</a>\u001b[0m     label \u001b[39m=\u001b[39m alg_name \u001b[39mif\u001b[39;00m alg_name \u001b[39m!=\u001b[39m \u001b[39m\"\u001b[39m\u001b[39mOffline\u001b[39m\u001b[39m\"\u001b[39m \u001b[39melse\u001b[39;00m \u001b[39m\"\u001b[39m\u001b[39mOffline Optimal\u001b[39m\u001b[39m\"\u001b[39m\n\u001b[0;32m---> <a href='vscode-notebook-cell://wsl%2Bubuntu-22.04/home/floris/acnportal-experiments/examples/2-Algorithm-Comparison/2.1-Comparing-Algorithms-with-Constrained-Infrastructure/2.1-comparing-algorithms-with-constrained-infrastructure.ipynb#X62sdnNjb2RlLXJlbW90ZQ%3D%3D?line=28'>29</a>\u001b[0m     plot_ev_charging(sims[network_type, alg_name, cap], ev, axes[i], label\u001b[39m=\u001b[39mlabel, label_auto_place\u001b[39m=\u001b[39mlabel_auto_place)\n\u001b[1;32m     <a href='vscode-notebook-cell://wsl%2Bubuntu-22.04/home/floris/acnportal-experiments/examples/2-Algorithm-Comparison/2.1-Comparing-Algorithms-with-Constrained-Infrastructure/2.1-comparing-algorithms-with-constrained-infrastructure.ipynb#X62sdnNjb2RlLXJlbW90ZQ%3D%3D?line=29'>30</a>\u001b[0m     axes[i]\u001b[39m.\u001b[39mxaxis\u001b[39m.\u001b[39mset_major_formatter(mdates\u001b[39m.\u001b[39mDateFormatter(\u001b[39m'\u001b[39m\u001b[39m%\u001b[39m\u001b[39mH:\u001b[39m\u001b[39m%\u001b[39m\u001b[39mM\u001b[39m\u001b[39m'\u001b[39m))\n\u001b[1;32m     <a href='vscode-notebook-cell://wsl%2Bubuntu-22.04/home/floris/acnportal-experiments/examples/2-Algorithm-Comparison/2.1-Comparing-Algorithms-with-Constrained-Infrastructure/2.1-comparing-algorithms-with-constrained-infrastructure.ipynb#X62sdnNjb2RlLXJlbW90ZQ%3D%3D?line=30'>31</a>\u001b[0m     axes[i]\u001b[39m.\u001b[39mspines[\u001b[39m'\u001b[39m\u001b[39mright\u001b[39m\u001b[39m'\u001b[39m]\u001b[39m.\u001b[39mset_visible(\u001b[39mFalse\u001b[39;00m)\n",
      "\u001b[0;31mKeyError\u001b[0m: ('three_phase', 'RR', 50)"
     ]
    },
    {
     "data": {
      "image/png": "[encoded data removed]",
      "text/plain": [
       "<Figure size 600x600 with 6 Axes>"
      ]
     },
     "metadata": {},
     "output_type": "display_data"
    }
   ],
   "source": [
    "ev = random.choice(list(sims[network_type, \"RR\", cap].ev_history.values()))\n",
    "network_type = \"three_phase\"\n",
    "cap = 50\n",
    "plot_profiles(sims, network_type, cap, ev, label_auto_place=True)\n",
    "plt.show()"
   ]
  }
 ],
 "metadata": {
  "colab": {
   "collapsed_sections": [],
   "include_colab_link": true,
   "name": "baseline_algorithms_w_constrained_infrastructure.ipynb",
   "provenance": []
  },
  "kernelspec": {
   "display_name": "Python 3",
   "language": "python",
   "name": "python3"
  },
  "language_info": {
   "codemirror_mode": {
    "name": "ipython",
    "version": 3
   },
   "file_extension": ".py",
   "mimetype": "text/x-python",
   "name": "python",
   "nbconvert_exporter": "python",
   "pygments_lexer": "ipython3",
   "version": "3.8.18"
  }
 },
 "nbformat": 4,
 "nbformat_minor": 4
}
