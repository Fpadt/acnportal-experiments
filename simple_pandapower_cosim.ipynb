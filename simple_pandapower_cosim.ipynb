{
  "nbformat": 4,
  "nbformat_minor": 0,
  "metadata": {
    "kernelspec": {
      "display_name": "Python 3",
      "language": "python",
      "name": "python3"
    },
    "language_info": {
      "codemirror_mode": {
        "name": "ipython",
        "version": 3
      },
      "file_extension": ".py",
      "mimetype": "text/x-python",
      "name": "python",
      "nbconvert_exporter": "python",
      "pygments_lexer": "ipython3",
      "version": "3.7.6"
    },
    "pycharm": {
      "stem_cell": {
        "cell_type": "raw",
        "metadata": {
          "collapsed": false
        },
        "source": []
      }
    },
    "colab": {
      "name": "simple_pandapower_cosim.ipynb",
      "provenance": [],
      "toc_visible": true
    }
  },
  "cells": [
    {
      "cell_type": "markdown",
      "metadata": {
        "id": "T-yxu-Ndjzzp",
        "colab_type": "text"
      },
      "source": [
        "If running in a new environment, such as Google Colab, run this first."
      ]
    },
    {
      "cell_type": "code",
      "metadata": {
        "jupyter": {
          "outputs_hidden": false
        },
        "pycharm": {
          "name": "#%%\n"
        },
        "id": "vZlt7nVRjzzu",
        "colab_type": "code",
        "colab": {
          "base_uri": "https://localhost:8080/",
          "height": 329
        },
        "outputId": "c1ece0f0-3142-4013-883d-ab77dffee295"
      },
      "source": [
        "!pip install acnportal==0.2.1"
      ],
      "execution_count": 2,
      "outputs": [
        {
          "output_type": "stream",
          "text": [
            "Collecting acnportal==0.2.1\n",
            "\u001b[?25l  Downloading https://files.pythonhosted.org/packages/ba/f2/172f1df1d2dd5b728db17206952e05ae9b9f813238d7b7545970548138a1/acnportal-0.2.1-py3-none-any.whl (75kB)\n",
            "\u001b[K     |████████████████████████████████| 81kB 2.2MB/s \n",
            "\u001b[?25hRequirement already satisfied: numpy in /usr/local/lib/python3.6/dist-packages (from acnportal==0.2.1) (1.18.5)\n",
            "Requirement already satisfied: requests in /usr/local/lib/python3.6/dist-packages (from acnportal==0.2.1) (2.23.0)\n",
            "Requirement already satisfied: matplotlib in /usr/local/lib/python3.6/dist-packages (from acnportal==0.2.1) (3.2.2)\n",
            "Requirement already satisfied: pytz in /usr/local/lib/python3.6/dist-packages (from acnportal==0.2.1) (2018.9)\n",
            "Requirement already satisfied: pandas in /usr/local/lib/python3.6/dist-packages (from acnportal==0.2.1) (1.0.5)\n",
            "Requirement already satisfied: certifi>=2017.4.17 in /usr/local/lib/python3.6/dist-packages (from requests->acnportal==0.2.1) (2020.6.20)\n",
            "Requirement already satisfied: idna<3,>=2.5 in /usr/local/lib/python3.6/dist-packages (from requests->acnportal==0.2.1) (2.10)\n",
            "Requirement already satisfied: urllib3!=1.25.0,!=1.25.1,<1.26,>=1.21.1 in /usr/local/lib/python3.6/dist-packages (from requests->acnportal==0.2.1) (1.24.3)\n",
            "Requirement already satisfied: chardet<4,>=3.0.2 in /usr/local/lib/python3.6/dist-packages (from requests->acnportal==0.2.1) (3.0.4)\n",
            "Requirement already satisfied: kiwisolver>=1.0.1 in /usr/local/lib/python3.6/dist-packages (from matplotlib->acnportal==0.2.1) (1.2.0)\n",
            "Requirement already satisfied: python-dateutil>=2.1 in /usr/local/lib/python3.6/dist-packages (from matplotlib->acnportal==0.2.1) (2.8.1)\n",
            "Requirement already satisfied: cycler>=0.10 in /usr/local/lib/python3.6/dist-packages (from matplotlib->acnportal==0.2.1) (0.10.0)\n",
            "Requirement already satisfied: pyparsing!=2.0.4,!=2.1.2,!=2.1.6,>=2.0.1 in /usr/local/lib/python3.6/dist-packages (from matplotlib->acnportal==0.2.1) (2.4.7)\n",
            "Requirement already satisfied: six>=1.5 in /usr/local/lib/python3.6/dist-packages (from python-dateutil>=2.1->matplotlib->acnportal==0.2.1) (1.15.0)\n",
            "Installing collected packages: acnportal\n",
            "Successfully installed acnportal-0.2.1\n"
          ],
          "name": "stdout"
        }
      ]
    },
    {
      "cell_type": "markdown",
      "metadata": {
        "id": "MzW9p8b5jzz6",
        "colab_type": "text"
      },
      "source": [
        "For this experiment, you will also need pandapower installed. Run the line of code below to install pandapower. We use pandapower 2.1.0 in this experiment."
      ]
    },
    {
      "cell_type": "code",
      "metadata": {
        "id": "7sbGJEFqjzz7",
        "colab_type": "code",
        "colab": {
          "base_uri": "https://localhost:8080/",
          "height": 197
        },
        "outputId": "95d5dd2a-624a-4afd-9fa1-8d34f9a11c8b"
      },
      "source": [
        "!pip install pandapower==2.1.0"
      ],
      "execution_count": 3,
      "outputs": [
        {
          "output_type": "stream",
          "text": [
            "Requirement already satisfied: pandapower==2.1.0 in /usr/local/lib/python3.6/dist-packages (2.1.0)\n",
            "Requirement already satisfied: packaging in /usr/local/lib/python3.6/dist-packages (from pandapower==2.1.0) (20.4)\n",
            "Requirement already satisfied: pandas>=0.17 in /usr/local/lib/python3.6/dist-packages (from pandapower==2.1.0) (1.0.5)\n",
            "Requirement already satisfied: networkx in /usr/local/lib/python3.6/dist-packages (from pandapower==2.1.0) (2.5)\n",
            "Requirement already satisfied: scipy in /usr/local/lib/python3.6/dist-packages (from pandapower==2.1.0) (1.4.1)\n",
            "Requirement already satisfied: numpy>=0.11 in /usr/local/lib/python3.6/dist-packages (from pandapower==2.1.0) (1.18.5)\n",
            "Requirement already satisfied: six in /usr/local/lib/python3.6/dist-packages (from packaging->pandapower==2.1.0) (1.15.0)\n",
            "Requirement already satisfied: pyparsing>=2.0.2 in /usr/local/lib/python3.6/dist-packages (from packaging->pandapower==2.1.0) (2.4.7)\n",
            "Requirement already satisfied: python-dateutil>=2.6.1 in /usr/local/lib/python3.6/dist-packages (from pandas>=0.17->pandapower==2.1.0) (2.8.1)\n",
            "Requirement already satisfied: pytz>=2017.2 in /usr/local/lib/python3.6/dist-packages (from pandas>=0.17->pandapower==2.1.0) (2018.9)\n",
            "Requirement already satisfied: decorator>=4.3.0 in /usr/local/lib/python3.6/dist-packages (from networkx->pandapower==2.1.0) (4.4.2)\n"
          ],
          "name": "stdout"
        }
      ]
    },
    {
      "cell_type": "markdown",
      "metadata": {
        "id": "W27bK4tV6UmH",
        "colab_type": "text"
      },
      "source": [
        "We will also need two data files. The first contains building load data taken from the United States Department of Energy Office of Energy Efficiency and Renewable Energy. The second is synthetic PV output data for a 220 kW array generated by the NREL SAM tool. "
      ]
    },
    {
      "cell_type": "code",
      "metadata": {
        "id": "-TtiNA_YkWQ5",
        "colab_type": "code",
        "colab": {
          "base_uri": "https://localhost:8080/",
          "height": 378
        },
        "outputId": "90b3ce84-2858-4662-b963-8b59254e41bc"
      },
      "source": [
        "!wget https://raw.githubusercontent.com/zach401/acnportal/pandapower-integration/tutorials/RefBldgMediumOfficeNew2004_7.1_5.0_3B_USA_CA_LOS_ANGELES.csv\n",
        "!wget https://raw.githubusercontent.com/zach401/acnportal/pandapower-integration/tutorials/results_jpl_autosized_220kWdc.csv\n"
      ],
      "execution_count": 4,
      "outputs": [
        {
          "output_type": "stream",
          "text": [
            "--2020-09-03 16:09:26--  https://raw.githubusercontent.com/zach401/acnportal/pandapower-integration/tutorials/RefBldgMediumOfficeNew2004_7.1_5.0_3B_USA_CA_LOS_ANGELES.csv\n",
            "Resolving raw.githubusercontent.com (raw.githubusercontent.com)... 151.101.0.133, 151.101.64.133, 151.101.128.133, ...\n",
            "Connecting to raw.githubusercontent.com (raw.githubusercontent.com)|151.101.0.133|:443... connected.\n",
            "HTTP request sent, awaiting response... 200 OK\n",
            "Length: 968720 (946K) [text/plain]\n",
            "Saving to: ‘RefBldgMediumOfficeNew2004_7.1_5.0_3B_USA_CA_LOS_ANGELES.csv.1’\n",
            "\n",
            "\r          RefBldgMe   0%[                    ]       0  --.-KB/s               \rRefBldgMediumOffice 100%[===================>] 946.02K  --.-KB/s    in 0.08s   \n",
            "\n",
            "2020-09-03 16:09:27 (11.4 MB/s) - ‘RefBldgMediumOfficeNew2004_7.1_5.0_3B_USA_CA_LOS_ANGELES.csv.1’ saved [968720/968720]\n",
            "\n",
            "--2020-09-03 16:09:27--  https://raw.githubusercontent.com/zach401/acnportal/pandapower-integration/tutorials/results_jpl_autosized_220kWdc.csv\n",
            "Resolving raw.githubusercontent.com (raw.githubusercontent.com)... 151.101.0.133, 151.101.64.133, 151.101.128.133, ...\n",
            "Connecting to raw.githubusercontent.com (raw.githubusercontent.com)|151.101.0.133|:443... connected.\n",
            "HTTP request sent, awaiting response... 200 OK\n",
            "Length: 413664 (404K) [text/plain]\n",
            "Saving to: ‘results_jpl_autosized_220kWdc.csv.1’\n",
            "\n",
            "results_jpl_autosiz 100%[===================>] 403.97K  --.-KB/s    in 0.06s   \n",
            "\n",
            "2020-09-03 16:09:27 (6.90 MB/s) - ‘results_jpl_autosized_220kWdc.csv.1’ saved [413664/413664]\n",
            "\n"
          ],
          "name": "stdout"
        }
      ]
    },
    {
      "cell_type": "markdown",
      "metadata": {
        "id": "vKQBn9IQjz0C",
        "colab_type": "text"
      },
      "source": [
        "# ACN-Sim Experiments: Pandapower Co-Simulation\n",
        "### by Sunash Sharma, Zachary Lee\n",
        "#### Last updated: 11/06/2019\n",
        "\n",
        "In this experiment, we use ACN-Sim in conjunction with pandapower to understand the effects of EV charging on the electrical grid. Specifically, we use outputs from simulations of the JPL ACN with different charging algorithms as inputs to a pandapower power flow at varying timesteps in a simple electrical grid. We experiment with adding EV charging to a grid already loaded with offices.\n",
        "\n",
        "In a general sense, this tutorial demonstrates how ACN-Sim can be used to evaluate scheduled charging algorithms in the context of grid-level effects by feeding results from ACN-Sim Simulations into pandapower power flows."
      ]
    },
    {
      "cell_type": "code",
      "metadata": {
        "id": "7oe_V-9ujz0E",
        "colab_type": "code",
        "colab": {}
      },
      "source": [
        "import pandapower as pp\n",
        "from pandapower import networks as pn\n",
        "\n",
        "import numpy as np\n",
        "import pandas as pd\n",
        "import matplotlib.pyplot as plt\n",
        "from matplotlib import dates\n",
        "\n",
        "import pytz\n",
        "from datetime import datetime\n",
        "from datetime import timedelta\n",
        "from copy import deepcopy\n",
        "\n",
        "from acnportal import acnsim\n",
        "from acnportal import algorithms\n",
        "\n",
        "import pickle as pkl\n",
        "import json\n",
        "from io import StringIO"
      ],
      "execution_count": 5,
      "outputs": []
    },
    {
      "cell_type": "markdown",
      "metadata": {
        "id": "e4YRPOLYjz0I",
        "colab_type": "text"
      },
      "source": [
        "## Running JPL ACN simulations\n",
        "\n",
        "First let us run simulations of adaptive charging on the JPL ACN. We'll look at uncontrolled charging and least laxity first (LLF) algorithms. We run our simulations using EV data from May 7th, 2019 (the building data is from May 7th, 2004). May 7th was a weekday in both 2019 and 2004. The simulation parameters defined below are fed into simulation generating functions, the definitions of which may be found in the cell below. Note that `'balanced'` refers to a single-phase version of the JPL ACN, which we use for consistency with pandapower, which does not as of this writing allow for unbalanced 3-phase networks."
      ]
    },
    {
      "cell_type": "code",
      "metadata": {
        "jupyter": {
          "source_hidden": true
        },
        "id": "l5vWIpd1jz0J",
        "colab_type": "code",
        "colab": {}
      },
      "source": [
        "def balanced_acn(basic_evse=True, voltage=208, transformer_cap=195,\n",
        "    network_type=acnsim.ChargingNetwork):\n",
        "    \"\"\" Generates a simple ACN which has all the same station ids as\n",
        "    the JPL ACN, but with all EVSEs connected to one transformer and\n",
        "    balanced (each EVSE is connected to all 3 lines).\n",
        "    \"\"\"\n",
        "    jpl_stations = acnsim.sites.jpl_acn(basic_evse=True).station_ids\n",
        "    if basic_evse: \n",
        "        evse_type = 'BASIC'\n",
        "    else:\n",
        "        evse_type = 'AV'\n",
        "    return acnsim.sites.simple_acn(jpl_stations,\n",
        "                                 evse_type=evse_type,\n",
        "                                 voltage=voltage,\n",
        "                                 aggregate_cap=transformer_cap,\n",
        "                                 network_type=network_type)\n",
        "    \n",
        "# TODO: This might go in a utils module.\n",
        "# TODO: How do we handle api key for published experiments?\n",
        "def run_sim(sim_algorithm=algorithms.BaseAlgorithm, \n",
        "            alg_kwargs={}, API_KEY='DEMO_TOKEN', \n",
        "            site='caltech', start_date=datetime(2019, 1, 1), \n",
        "            end_date=datetime(2019, 1, 2), period=1, verbose=False, \n",
        "            timezone='America/Los_Angeles', basic_evse=True):\n",
        "    \"\"\"Builds and runs a simulation with the input configuration details.\n",
        "    \n",
        "    Args:\n",
        "        sim_algorithm (acnsim.algorithms.BaseAlgorithm constructor or callable): Algorithm function with which to run the simulation, default BaseAlgorithm.\n",
        "        alg_kwargs (Dict[str, object]): Keyword args input to the algorithm constructor, default {}.\n",
        "        API_KEY (str): API key for generating events, default 'DEMO_TOKEN'.\n",
        "        site (str): Site on which to run simulation, default 'caltech'.\n",
        "        start_date (datetime.datetime): Start datetime for simulation, default 01/01/2019 00:00.\n",
        "        end_date (datetime.datetime): End datetime for simulation, default 01/02/2019 00:00.\n",
        "        period (int): Simulation period in minutes, default 1.\n",
        "        verbose (bool): Outputs events if True, default False.\n",
        "        timezone (str): Timezone to localize start/end times, default 'America/Los_Angeles'.\n",
        "        basic_evse (bool): If true, use a basic continuous EVSE model rather than the realistic discrete models.\n",
        "    \n",
        "    Returns:\n",
        "        (acnsim.Simulator): Simulator object that has been run with the input algorithm.\n",
        "    \"\"\"\n",
        "    # -- Config ------------------------------------------------------------------------------------------------------------\n",
        "    timezone = pytz.timezone(timezone)\n",
        "    start = timezone.localize(start_date)\n",
        "    end = timezone.localize(end_date)\n",
        "    # TODO: this should be a network property.\n",
        "    voltage = 208  # volts\n",
        "    # TODO: make this a kwarg?\n",
        "    default_battery_power = 32 * voltage / 1000 # kW\n",
        "    \n",
        "    # -- Network -----------------------------------------------------------------------------------------------------------\n",
        "    # TODO: site registration (like OpenAI Gym does)\n",
        "    site_dict = {'caltech': acnsim.sites.caltech_acn, \n",
        "                 'jpl': acnsim.sites.jpl_acn, \n",
        "                 'office001': acnsim.sites.office001_acn,\n",
        "                 'balanced': balanced_acn}\n",
        "    try:\n",
        "        site_fn = site_dict[site]\n",
        "    except KeyError:\n",
        "        # TODO: SiteNotFound error class\n",
        "        raise KeyError(\"Site {0} not found\".format(site))\n",
        "    cn = site_fn(basic_evse=basic_evse, voltage=voltage)\n",
        "\n",
        "    # -- Events ------------------------------------------------------------------------------------------------------------\n",
        "    events = acnsim.acndata_events.generate_events(API_KEY, 'jpl', start, end, period, voltage, default_battery_power)\n",
        "    \n",
        "    # -- Algorithm ---------------------------------------------------------------------------------------------------------\n",
        "    # TODO: is there a better way to handle offline case?\n",
        "    if 'offline' in alg_kwargs and alg_kwargs['offline'] == True:\n",
        "        alg_kwargs['events'] = events\n",
        "    sch = sim_algorithm(**alg_kwargs)\n",
        "    \n",
        "    # -- Simulation --------------------------------------------------------------------------------------------------------\n",
        "    sim = acnsim.Simulator(deepcopy(cn), sch, deepcopy(events), start, period=period, verbose=verbose)\n",
        "    sim.run()\n",
        "    return sim"
      ],
      "execution_count": 6,
      "outputs": []
    },
    {
      "cell_type": "code",
      "metadata": {
        "jupyter": {
          "outputs_hidden": true
        },
        "id": "8iU7_Gw0jz0N",
        "colab_type": "code",
        "colab": {}
      },
      "source": [
        "# Define the static simulation parameters (start, end, site, period) as a config dict.\n",
        "sim_year = 2019\n",
        "sim_start = datetime(sim_year, 5, 7)\n",
        "sim_end = datetime(sim_year, 5, 8)\n",
        "sim_period = 5\n",
        "sim_site = 'balanced'\n",
        "config = {\"start_date\": sim_start,\n",
        "          \"end_date\": sim_end,\n",
        "          \"period\": sim_period,\n",
        "          \"site\": sim_site}"
      ],
      "execution_count": 7,
      "outputs": []
    },
    {
      "cell_type": "code",
      "metadata": {
        "id": "FkHDxvv-7VVr",
        "colab_type": "code",
        "colab": {
          "base_uri": "https://localhost:8080/",
          "height": 563
        },
        "outputId": "ebc77f13-2aac-41b3-e71d-7c1b19db462a"
      },
      "source": [
        "# Simulate using uncontrolled charging.\n",
        "# Note that Uncontrolled Charging can overload the transformer which will\n",
        "# result in a warning from acnsim. \n",
        "sim_unc = run_sim(algorithms.UncontrolledCharging, **config)"
      ],
      "execution_count": 8,
      "outputs": [
        {
          "output_type": "stream",
          "text": [
            "/usr/local/lib/python3.6/dist-packages/acnportal/acnsim/simulator.py:219: UserWarning: Invalid schedule provided at iteration 86. Max violation is 22.499990000000025 A on Aggregate Current at time index 0.\n",
            "  UserWarning,\n",
            "/usr/local/lib/python3.6/dist-packages/acnportal/acnsim/simulator.py:219: UserWarning: Invalid schedule provided at iteration 87. Max violation is 22.499990000000025 A on Aggregate Current at time index 0.\n",
            "  UserWarning,\n",
            "/usr/local/lib/python3.6/dist-packages/acnportal/acnsim/simulator.py:219: UserWarning: Invalid schedule provided at iteration 88. Max violation is 86.49999000000003 A on Aggregate Current at time index 0.\n",
            "  UserWarning,\n",
            "/usr/local/lib/python3.6/dist-packages/acnportal/acnsim/simulator.py:219: UserWarning: Invalid schedule provided at iteration 89. Max violation is 246.49999000000003 A on Aggregate Current at time index 0.\n",
            "  UserWarning,\n",
            "/usr/local/lib/python3.6/dist-packages/acnportal/acnsim/simulator.py:219: UserWarning: Invalid schedule provided at iteration 90. Max violation is 278.49999 A on Aggregate Current at time index 0.\n",
            "  UserWarning,\n",
            "/usr/local/lib/python3.6/dist-packages/acnportal/acnsim/simulator.py:219: UserWarning: Invalid schedule provided at iteration 91. Max violation is 278.49999 A on Aggregate Current at time index 0.\n",
            "  UserWarning,\n",
            "/usr/local/lib/python3.6/dist-packages/acnportal/acnsim/simulator.py:219: UserWarning: Invalid schedule provided at iteration 92. Max violation is 278.49999 A on Aggregate Current at time index 0.\n",
            "  UserWarning,\n",
            "/usr/local/lib/python3.6/dist-packages/acnportal/acnsim/simulator.py:219: UserWarning: Invalid schedule provided at iteration 93. Max violation is 278.49999 A on Aggregate Current at time index 0.\n",
            "  UserWarning,\n",
            "/usr/local/lib/python3.6/dist-packages/acnportal/acnsim/simulator.py:219: UserWarning: Invalid schedule provided at iteration 94. Max violation is 214.49999000000003 A on Aggregate Current at time index 0.\n",
            "  UserWarning,\n",
            "/usr/local/lib/python3.6/dist-packages/acnportal/acnsim/simulator.py:219: UserWarning: Invalid schedule provided at iteration 95. Max violation is 214.49999000000003 A on Aggregate Current at time index 0.\n",
            "  UserWarning,\n",
            "/usr/local/lib/python3.6/dist-packages/acnportal/acnsim/simulator.py:219: UserWarning: Invalid schedule provided at iteration 96. Max violation is 182.49999000000003 A on Aggregate Current at time index 0.\n",
            "  UserWarning,\n",
            "/usr/local/lib/python3.6/dist-packages/acnportal/acnsim/simulator.py:219: UserWarning: Invalid schedule provided at iteration 97. Max violation is 150.49999000000003 A on Aggregate Current at time index 0.\n",
            "  UserWarning,\n",
            "/usr/local/lib/python3.6/dist-packages/acnportal/acnsim/simulator.py:219: UserWarning: Invalid schedule provided at iteration 98. Max violation is 54.499990000000025 A on Aggregate Current at time index 0.\n",
            "  UserWarning,\n",
            "/usr/local/lib/python3.6/dist-packages/acnportal/acnsim/simulator.py:219: UserWarning: Invalid schedule provided at iteration 99. Max violation is 22.499990000000025 A on Aggregate Current at time index 0.\n",
            "  UserWarning,\n",
            "/usr/local/lib/python3.6/dist-packages/acnportal/acnsim/simulator.py:219: UserWarning: Invalid schedule provided at iteration 100. Max violation is 22.499990000000025 A on Aggregate Current at time index 0.\n",
            "  UserWarning,\n",
            "/usr/local/lib/python3.6/dist-packages/acnportal/acnsim/simulator.py:219: UserWarning: Invalid schedule provided at iteration 101. Max violation is 22.499990000000025 A on Aggregate Current at time index 0.\n",
            "  UserWarning,\n"
          ],
          "name": "stderr"
        }
      ]
    },
    {
      "cell_type": "code",
      "metadata": {
        "id": "2hJIVboK7Vi0",
        "colab_type": "code",
        "colab": {}
      },
      "source": [
        "# Simulate using the LLF algorithm.\n",
        "sim_llf = run_sim(lambda: algorithms.SortedSchedulingAlgo(algorithms.least_laxity_first),\n",
        "                  **config)"
      ],
      "execution_count": 9,
      "outputs": []
    },
    {
      "cell_type": "markdown",
      "metadata": {
        "id": "mTi2yKEqjz0R",
        "colab_type": "text"
      },
      "source": [
        "Now that we have our simulation data, we next read in and format the building load data in a manner that may be used by panda power to conduct power flows. The building load data was taken from EERE. The load data is stored in `load_data_full`, a pandas DataFrame that can be input to pandapower as a time-varying load. Expand the below cell to see the computation used to process the load data."
      ]
    },
    {
      "cell_type": "code",
      "metadata": {
        "jupyter": {
          "source_hidden": true
        },
        "id": "HfjZ0Sxcjz0S",
        "colab_type": "code",
        "colab": {}
      },
      "source": [
        "# Load in Medium Office Building Data -----------------------------------------------------\n",
        "# The year for which this data were gathered.\n",
        "load_year = 2004\n",
        "\n",
        "# File name for load data.\n",
        "load_file_name = \"RefBldgMediumOfficeNew2004_7.1_5.0_3B_USA_CA_LOS_ANGELES.csv\"\n",
        "\n",
        "# Read in load data to a pandas DataFrame.\n",
        "load_data_full = pd.read_csv(load_file_name, parse_dates=[\"Date/Time\"])[[\"Date/Time\", \"Electricity:Facility [kW](Hourly)\"]]\n",
        "\n",
        "# Add the year for conversion to datetime objects.\n",
        "load_data_full[\"Date/Time\"] = [\"{0} {1}\".format(load_year, load_data_full[\"Date/Time\"][i]) for i in range(len(load_data_full[\"Date/Time\"]))]\n",
        "\n",
        "# Convert date strings to 0-23 hour format.\n",
        "def convert_23_hr(time_lst):\n",
        "    \"\"\"Helper function to convert an index of 1-24 hour datetimes to 0-23 hour datetimes.\n",
        "    \n",
        "    Args:\n",
        "        time_lst (List[str]): List of 1-24 hour datetime strings to convert to 0-23 hour datetimes.\n",
        "    Returns:\n",
        "        List[datetime]: List of 0-23 hour datetimes\n",
        "    \"\"\"\n",
        "    # First move the last element to the beginning, as 12/31 24:00 is really 01/01 00:00.\n",
        "    time_lst = time_lst[-1:] + time_lst[:-1]\n",
        "    time_lst[0] = time_lst[0][0:4] + \" 01/01 00:00:00\"\n",
        "    for idx, time in enumerate(time_lst):\n",
        "        try:\n",
        "            date_time = datetime.strptime(time, '%Y %m/%d %H:%M:%S')\n",
        "            time_lst[idx] = date_time\n",
        "        except ValueError:\n",
        "            time = time.replace(\" 24\", \" 00\")\n",
        "            date_time = datetime.strptime(time, '%Y %m/%d %H:%M:%S')\n",
        "            date_time += timedelta(days=1)\n",
        "            time_lst[idx] = date_time\n",
        "    return time_lst\n",
        "load_data_full[\"Date/Time\"] = convert_23_hr(load_data_full[\"Date/Time\"].tolist())\n",
        "\n",
        "# convert date strings to datetime objects\n",
        "load_data_full[\"Date/Time\"] = pd.to_datetime(load_data_full[\"Date/Time\"])\n",
        "\n",
        "# convert loads to MW\n",
        "load_data_full[\"Electricity:Facility [MW](Hourly)\"] = load_data_full[\"Electricity:Facility [kW](Hourly)\"]/1000\n",
        "\n",
        "# reindex based on time\n",
        "load_data_full = load_data_full.set_index(\"Date/Time\")\n",
        "\n",
        "# Combine load and generation data in MW into one dataframe.\n",
        "load_data_full.columns = ['Date/Time', 'Medium Office (MW)']\n",
        "\n",
        "# TODO: check which of loads or pv has the last datetime stamp\n",
        "load_data_full = load_data_full.fillna(method='ffill')\n",
        "\n",
        "# Construct all relevant datetimes with sim_period increments for the load year.\n",
        "base = load_data_full.index[0]\n",
        "date_series = pd.date_range(base, load_data_full.index[-1],\n",
        "                            freq=\"{0}min\".format(sim_period))\n",
        "\n",
        "# Reindex pv/load data with new, finer index and forward-fill NaN's. \n",
        "load_data_full = load_data_full.reindex(date_series).fillna(method='ffill')\n",
        "load_start = sim_start.replace(year=load_year)\n",
        "load_arr = load_data_full[\"Medium Office (MW)\"][load_start:]\n",
        "\n",
        "# We will cut off load after sim_len timesteps.\n",
        "sim_len = len(acnsim.aggregate_current(sim_unc))\n",
        "load_trunc = load_arr[:sim_len]"
      ],
      "execution_count": 10,
      "outputs": []
    },
    {
      "cell_type": "markdown",
      "metadata": {
        "id": "xnjkiLVRjz0V",
        "colab_type": "text"
      },
      "source": [
        "## Using Pandapower for Grid Evaluation\n",
        "\n",
        "We can analyze the results of our simulations in the larger context of the electrical grid. Let's take the perspective of a system designer who wants to add EV charging to some sites without straining the rest of the electrical grid. Say the grid is configured like the Pandapower small branches-out test network, given at https://pandapower.readthedocs.io/en/v2.1.0/networks/test.html:\n",
        "![image](https://github.com/zach401/acnportal/blob/pandapower-integration/tutorials/pp_branches_out.png?raw=1)\n",
        "We start with a medium office building load on each of the four loads in the network. Pandapower power flows are static evaluations, so we will conduct a power flow at each timestep to understand how the grid behaves in time. First, some functions to help us construct the network, assign its loads, and run power flows. To avoid having to change the test case from the pandapower specification, we divide all loads by 2, which doesn't change relative load sizes and so is acceptable for the purposes of this study. To see the functions used to start the pandapower experiment, expand the cell below. We compile the simulation results into one DataFrame and then run power flows for 3 cases:\n",
        "\n",
        "1. Only the building (medium office) is on each load; the scenario before EV chariging is added.\n",
        "\n",
        "2. EV chariging is added but the charging is uncontrolled. For a given timestep, each load is then the sum of the builidng load and the aggregate load from uncontrolled charging calculable from our ACN-Sim simulations.\n",
        "\n",
        "3. Uncontrolled charging is replaced by LLF scheduled EV charging in the system (the medium office load remains)."
      ]
    },
    {
      "cell_type": "code",
      "metadata": {
        "jupyter": {
          "source_hidden": true
        },
        "id": "K7rOBWDBjz0W",
        "colab_type": "code",
        "colab": {}
      },
      "source": [
        "def create_network():\n",
        "    \"\"\"Creates a small branches-out test network with active and reactive power set to 0.\n",
        "    \n",
        "    Returns:\n",
        "        pandapower.auxiliary.pandapowerNet: Output network.\n",
        "    \"\"\"\n",
        "    small_network = pn.four_loads_with_branches_out()\n",
        "    small_network.load[\"p_mw\"] = 0\n",
        "    small_network.load[\"q_mvar\"] = 0\n",
        "    return small_network\n",
        "\n",
        "def assign_loads(network, load_val, loads=None):\n",
        "    \"\"\"In network, assigns load_val as the active power for the loads specified in loads, or to all loads if loads=None.\n",
        "    \n",
        "    Args:\n",
        "        network (pandapower.auxiliary.pandapowerNet): Pandapower network on which to add loads.\n",
        "        load_val (number): Load to assign to the p_mw (active power) field.\n",
        "        loads (List[int]): Load indices for which to assign load_val as the active power. If None, assign load_val to all loads.\n",
        "    \n",
        "    Returns:\n",
        "        None.\n",
        "    \"\"\"\n",
        "    if loads is None:\n",
        "        loads = network.load.index.tolist()\n",
        "    network.load[\"p_mw\"][loads] = load_val\n",
        "\n",
        "def time_var_power_flow(load_results, n_timesteps, load_func):\n",
        "    \"\"\"Runs a power flow on the branches out network, for n_timesteps iterations, using load_func to generate loads to assign\n",
        "    from the load_results DataFrame.\n",
        "    \n",
        "    Args:\n",
        "        load_results (pd.DataFrame): a DataFrame with various loads/generations over time.\n",
        "        n_timesteps (int): number of timesteps for which to run the power flow.\n",
        "        load_func (pd.DataFrame, int -> number): a function that calculates a load from a DataFrame of loads and a timestep\n",
        "    \n",
        "    Returns:\n",
        "        List[pandapower.auxiliary.pandapowerNet]: List of output networks (with power flow results) at each time step.\n",
        "    \"\"\"\n",
        "    \n",
        "    \n",
        "    # Store output networks (with power flow results) in a list\n",
        "    power_flows = []\n",
        "    for i in range(0, n_timesteps, 1):\n",
        "        load_val = load_func(load_results, i)/2\n",
        "        curr_net = create_network()\n",
        "        assign_loads(curr_net, load_val)\n",
        "        # Save initial network state for deubbinging purposes.\n",
        "        snapshot = curr_net\n",
        "        # TODO: Once the experiment works, remove try-except block.\n",
        "        try:\n",
        "            pp.runpp(curr_net)\n",
        "        except:\n",
        "            print(i)\n",
        "            diag_results = pp.diagnostic(snapshot, overload_scaling_factor=0.5)\n",
        "            print(diag_results)\n",
        "            input(\"Press any key to continue.\")\n",
        "        power_flows.append(curr_net)\n",
        "    return power_flows\n",
        "\n",
        "# DataFrame for all simulation and load data. Simulation data is the \n",
        "# aggregate current over time.\n",
        "all_results = pd.DataFrame(\n",
        "    columns=[\"Medium Office Load\", \"Uncontrolled Charging\", \"LLF Charging\"])\n",
        "\n",
        "all_results[\"Medium Office Load\"] = load_trunc\n",
        "\n",
        "# Set simulation data (converting amps to MW)\n",
        "for column, sim in zip(all_results.columns[1:], [sim_unc, sim_llf]):\n",
        "    # Convert ACN loads to MW.\n",
        "    all_results[column] = acnsim.aggregate_current(sim) * 208 / 1000000"
      ],
      "execution_count": 11,
      "outputs": []
    },
    {
      "cell_type": "code",
      "metadata": {
        "id": "OfA0WCVIjz0Z",
        "colab_type": "code",
        "colab": {}
      },
      "source": [
        "pf_loads = time_var_power_flow(\n",
        "    all_results, sim_len, \n",
        "    lambda res, t: res[\"Medium Office Load\"][t])\n",
        "pf_loads_unc = time_var_power_flow(\n",
        "    all_results, sim_len,\n",
        "    lambda res, t: res[\"Medium Office Load\"][t] + res[\"Uncontrolled Charging\"][t])\n",
        "pf_loads_llf = time_var_power_flow(\n",
        "    all_results, sim_len,\n",
        "    lambda res, t: res[\"Medium Office Load\"][t] + res[\"LLF Charging\"][t])"
      ],
      "execution_count": 12,
      "outputs": []
    },
    {
      "cell_type": "markdown",
      "metadata": {
        "id": "tOLUkcJ4jz0c",
        "colab_type": "text"
      },
      "source": [
        "Let's see what the voltage on the last bus, farthest from the external grid (which would have the highest voltage difference from nominal out of all the buses), looks like for each of the 3 cases above. We plot in matplotlib"
      ]
    },
    {
      "cell_type": "code",
      "metadata": {
        "jupyter": {
          "source_hidden": true
        },
        "id": "EC8b4Np_jz0c",
        "colab_type": "code",
        "colab": {
          "base_uri": "https://localhost:8080/",
          "height": 401
        },
        "outputId": "65e8c5c4-bd82-471b-94df-30d153df1f35"
      },
      "source": [
        "def generate_plt_datetimes(start, num_iterations, period):\n",
        "    return [(start + timedelta(minutes=period*i)) for i in range(num_iterations)]\n",
        "def strip_datetimes(datetime_lst, fstring='%H:%M'):\n",
        "    return [datetime_elt.strftime(fstring) for datetime_elt in datetime_lst]\n",
        "datetimes = generate_plt_datetimes(sim_start, sim_len, sim_period)\n",
        "str_datetimes = [str(datetime_elt) for datetime_elt in datetimes]\n",
        "plt.figure(figsize=(10, 5.5))\n",
        "plt.plot(str_datetimes, [pf_loads[i].res_bus[\"vm_pu\"][9] for i in range(sim_len)],\n",
        "         label=\"base load\")\n",
        "plt.plot(str_datetimes, [pf_loads_unc[i].res_bus[\"vm_pu\"][9] for i in range(sim_len)], \n",
        "         label='UNC')\n",
        "plt.plot(str_datetimes, [pf_loads_llf[i].res_bus[\"vm_pu\"][9] for i in range(sim_len)], \n",
        "         label='LLF')\n",
        "plt.plot(str_datetimes, np.ones((sim_len,)), \"black\", linestyle='--', linewidth=0.5,\n",
        "         label='1PU')\n",
        "datetimes = strip_datetimes(datetimes)\n",
        "plt.legend(loc='lower right', prop={'size':20})\n",
        "plt.title(\"Per Unit Voltage at Final Bus\", size=22)\n",
        "plt.xlabel(\"Time of Day\", size=22)\n",
        "xtick_vals = ['00:00', '04:00', '08:00', '12:00', '16:00', '20:00']\n",
        "plt.xticks([datetimes.index(time) for time in xtick_vals], xtick_vals, fontsize=20)\n",
        "plt.ylabel(\"Voltage (p.u.)\", size=22)\n",
        "plt.yticks(fontsize=20)\n",
        "plt.show()"
      ],
      "execution_count": 13,
      "outputs": [
        {
          "output_type": "display_data",
          "data": {
            "image/png": "[encoded data removed]",
            "text/plain": [
              "<Figure size 720x396 with 1 Axes>"
            ]
          },
          "metadata": {
            "tags": [],
            "needs_background": "light"
          }
        }
      ]
    },
    {
      "cell_type": "markdown",
      "metadata": {
        "id": "025ORJ5_jz0g",
        "colab_type": "text"
      },
      "source": [
        "For the base load (blue curve), we can see that at worst, we are 2% below the nominal voltage. By adding uncontrolled EV charging, we have dropped drastically below the nominal voltage, over 16% lower. When we schedule our EV charging, we see we have reduced our voltage drop from nominal to only about 10%. Thus, we see the benefits of scheduled charging for grid performance metrics relative to uncontrolled EV charging. Indeed, scheduled EV charging allows us to do much more than just sorted scheduling algorithms; with grid health in mind, we may use objectives such as signal following or canceling to even further reduce grid strain from EV charging to more acceptable levels. This is an active area of research that makes heavy use of both ACN-Sim and grid simulators in manners similar to those demonstrated here."
      ]
    }
  ]
}